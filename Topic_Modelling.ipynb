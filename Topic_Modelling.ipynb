{
  "nbformat": 4,
  "nbformat_minor": 0,
  "metadata": {
    "colab": {
      "name": "Topic_Modelling.ipynb",
      "provenance": [],
      "collapsed_sections": [
        "Sj44Yarx7jU9",
        "eklN0j0BKYlf"
      ],
      "toc_visible": true
    },
    "kernelspec": {
      "name": "python3",
      "display_name": "Python 3"
    },
    "language_info": {
      "name": "python"
    }
  },
  "cells": [
    {
      "cell_type": "markdown",
      "source": [
        "References:\n",
        "1. [Topic Modelling & LDA](https://www.baeldung.com/cs/latent-dirichlet-allocation)\n",
        "2. [Coherence Score](https://www.baeldung.com/cs/topic-modeling-coherence-score)\n",
        "3. [NMF for Topic Modelling Tutorial](https://towardsdatascience.com/topic-modeling-articles-with-nmf-8c6b2a227a45) "
      ],
      "metadata": {
        "id": "6GpuVoEK6AfM"
      }
    },
    {
      "cell_type": "markdown",
      "source": [
        "# **Imports**"
      ],
      "metadata": {
        "id": "IXLCF0gF5IRq"
      }
    },
    {
      "cell_type": "code",
      "source": [
        "!pip install imgaug==0.2.5 --quiet\n",
        "!pip install gensim==4.2.0 --quiet\n",
        "!pip install bertopic --quiet\n",
        "!pip install -U \"tmtoolkit[recommended,sklearn]\" --quiet"
      ],
      "metadata": {
        "id": "RNT8rmPB1kOB",
        "colab": {
          "base_uri": "https://localhost:8080/"
        },
        "outputId": "71f9debe-f7e2-4448-db8c-b3efc69cd074"
      },
      "execution_count": 1,
      "outputs": [
        {
          "output_type": "stream",
          "name": "stdout",
          "text": [
            "\u001b[?25l\r\u001b[K     |▋                               | 10 kB 17.2 MB/s eta 0:00:01\r\u001b[K     |█▏                              | 20 kB 8.1 MB/s eta 0:00:01\r\u001b[K     |█▊                              | 30 kB 10.9 MB/s eta 0:00:01\r\u001b[K     |██▎                             | 40 kB 4.0 MB/s eta 0:00:01\r\u001b[K     |███                             | 51 kB 4.0 MB/s eta 0:00:01\r\u001b[K     |███▌                            | 61 kB 4.7 MB/s eta 0:00:01\r\u001b[K     |████                            | 71 kB 4.9 MB/s eta 0:00:01\r\u001b[K     |████▋                           | 81 kB 5.1 MB/s eta 0:00:01\r\u001b[K     |█████▎                          | 92 kB 5.6 MB/s eta 0:00:01\r\u001b[K     |█████▉                          | 102 kB 4.5 MB/s eta 0:00:01\r\u001b[K     |██████▍                         | 112 kB 4.5 MB/s eta 0:00:01\r\u001b[K     |███████                         | 122 kB 4.5 MB/s eta 0:00:01\r\u001b[K     |███████▋                        | 133 kB 4.5 MB/s eta 0:00:01\r\u001b[K     |████████▏                       | 143 kB 4.5 MB/s eta 0:00:01\r\u001b[K     |████████▊                       | 153 kB 4.5 MB/s eta 0:00:01\r\u001b[K     |█████████▎                      | 163 kB 4.5 MB/s eta 0:00:01\r\u001b[K     |██████████                      | 174 kB 4.5 MB/s eta 0:00:01\r\u001b[K     |██████████▌                     | 184 kB 4.5 MB/s eta 0:00:01\r\u001b[K     |███████████                     | 194 kB 4.5 MB/s eta 0:00:01\r\u001b[K     |███████████▋                    | 204 kB 4.5 MB/s eta 0:00:01\r\u001b[K     |████████████▎                   | 215 kB 4.5 MB/s eta 0:00:01\r\u001b[K     |████████████▉                   | 225 kB 4.5 MB/s eta 0:00:01\r\u001b[K     |█████████████▍                  | 235 kB 4.5 MB/s eta 0:00:01\r\u001b[K     |██████████████                  | 245 kB 4.5 MB/s eta 0:00:01\r\u001b[K     |██████████████▋                 | 256 kB 4.5 MB/s eta 0:00:01\r\u001b[K     |███████████████▏                | 266 kB 4.5 MB/s eta 0:00:01\r\u001b[K     |███████████████▊                | 276 kB 4.5 MB/s eta 0:00:01\r\u001b[K     |████████████████▎               | 286 kB 4.5 MB/s eta 0:00:01\r\u001b[K     |████████████████▉               | 296 kB 4.5 MB/s eta 0:00:01\r\u001b[K     |█████████████████▌              | 307 kB 4.5 MB/s eta 0:00:01\r\u001b[K     |██████████████████              | 317 kB 4.5 MB/s eta 0:00:01\r\u001b[K     |██████████████████▋             | 327 kB 4.5 MB/s eta 0:00:01\r\u001b[K     |███████████████████▏            | 337 kB 4.5 MB/s eta 0:00:01\r\u001b[K     |███████████████████▉            | 348 kB 4.5 MB/s eta 0:00:01\r\u001b[K     |████████████████████▍           | 358 kB 4.5 MB/s eta 0:00:01\r\u001b[K     |█████████████████████           | 368 kB 4.5 MB/s eta 0:00:01\r\u001b[K     |█████████████████████▌          | 378 kB 4.5 MB/s eta 0:00:01\r\u001b[K     |██████████████████████▏         | 389 kB 4.5 MB/s eta 0:00:01\r\u001b[K     |██████████████████████▊         | 399 kB 4.5 MB/s eta 0:00:01\r\u001b[K     |███████████████████████▎        | 409 kB 4.5 MB/s eta 0:00:01\r\u001b[K     |███████████████████████▉        | 419 kB 4.5 MB/s eta 0:00:01\r\u001b[K     |████████████████████████▌       | 430 kB 4.5 MB/s eta 0:00:01\r\u001b[K     |█████████████████████████       | 440 kB 4.5 MB/s eta 0:00:01\r\u001b[K     |█████████████████████████▋      | 450 kB 4.5 MB/s eta 0:00:01\r\u001b[K     |██████████████████████████▏     | 460 kB 4.5 MB/s eta 0:00:01\r\u001b[K     |██████████████████████████▉     | 471 kB 4.5 MB/s eta 0:00:01\r\u001b[K     |███████████████████████████▍    | 481 kB 4.5 MB/s eta 0:00:01\r\u001b[K     |████████████████████████████    | 491 kB 4.5 MB/s eta 0:00:01\r\u001b[K     |████████████████████████████▌   | 501 kB 4.5 MB/s eta 0:00:01\r\u001b[K     |█████████████████████████████▏  | 512 kB 4.5 MB/s eta 0:00:01\r\u001b[K     |█████████████████████████████▊  | 522 kB 4.5 MB/s eta 0:00:01\r\u001b[K     |██████████████████████████████▎ | 532 kB 4.5 MB/s eta 0:00:01\r\u001b[K     |██████████████████████████████▉ | 542 kB 4.5 MB/s eta 0:00:01\r\u001b[K     |███████████████████████████████▍| 552 kB 4.5 MB/s eta 0:00:01\r\u001b[K     |████████████████████████████████| 562 kB 4.5 MB/s \n",
            "\u001b[?25h  Building wheel for imgaug (setup.py) ... \u001b[?25l\u001b[?25hdone\n",
            "\u001b[K     |████████████████████████████████| 24.1 MB 1.7 MB/s \n",
            "\u001b[K     |████████████████████████████████| 76 kB 2.4 MB/s \n",
            "\u001b[K     |████████████████████████████████| 88 kB 6.1 MB/s \n",
            "\u001b[K     |████████████████████████████████| 5.2 MB 42.6 MB/s \n",
            "\u001b[?25h  Installing build dependencies ... \u001b[?25l\u001b[?25hdone\n",
            "  Getting requirements to build wheel ... \u001b[?25l\u001b[?25hdone\n",
            "    Preparing wheel metadata ... \u001b[?25l\u001b[?25hdone\n",
            "\u001b[K     |████████████████████████████████| 85 kB 4.5 MB/s \n",
            "\u001b[K     |████████████████████████████████| 636 kB 26.7 MB/s \n",
            "\u001b[K     |████████████████████████████████| 4.7 MB 41.5 MB/s \n",
            "\u001b[K     |████████████████████████████████| 1.3 MB 61.2 MB/s \n",
            "\u001b[K     |████████████████████████████████| 120 kB 48.0 MB/s \n",
            "\u001b[K     |████████████████████████████████| 6.6 MB 43.8 MB/s \n",
            "\u001b[K     |████████████████████████████████| 1.1 MB 35.6 MB/s \n",
            "\u001b[?25h  Building wheel for hdbscan (PEP 517) ... \u001b[?25l\u001b[?25hdone\n",
            "  Building wheel for sentence-transformers (setup.py) ... \u001b[?25l\u001b[?25hdone\n",
            "  Building wheel for umap-learn (setup.py) ... \u001b[?25l\u001b[?25hdone\n",
            "  Building wheel for pynndescent (setup.py) ... \u001b[?25l\u001b[?25hdone\n",
            "\u001b[K     |████████████████████████████████| 7.1 MB 3.7 MB/s \n",
            "\u001b[K     |████████████████████████████████| 96 kB 5.3 MB/s \n",
            "\u001b[K     |████████████████████████████████| 25.9 MB 1.2 MB/s \n",
            "\u001b[K     |████████████████████████████████| 11.5 MB 22.2 MB/s \n",
            "\u001b[K     |████████████████████████████████| 9.5 MB 5.3 MB/s \n",
            "\u001b[K     |████████████████████████████████| 10.4 MB 18.1 MB/s \n",
            "\u001b[K     |████████████████████████████████| 6.8 MB 30.1 MB/s \n",
            "\u001b[K     |████████████████████████████████| 364 kB 54.6 MB/s \n",
            "\u001b[K     |████████████████████████████████| 2.2 MB 35.0 MB/s \n",
            "\u001b[K     |████████████████████████████████| 184 kB 71.5 MB/s \n",
            "\u001b[K     |████████████████████████████████| 1.0 MB 54.4 MB/s \n",
            "\u001b[?25h  Building wheel for globre (setup.py) ... \u001b[?25l\u001b[?25hdone\n",
            "\u001b[31mERROR: pip's dependency resolver does not currently take into account all the packages that are installed. This behaviour is the source of the following dependency conflicts.\n",
            "yellowbrick 1.4 requires scikit-learn>=1.0.0, but you have scikit-learn 0.23.2 which is incompatible.\n",
            "pymc3 3.11.5 requires scipy<1.8.0,>=1.7.3, but you have scipy 1.5.4 which is incompatible.\n",
            "imbalanced-learn 0.8.1 requires scikit-learn>=0.24, but you have scikit-learn 0.23.2 which is incompatible.\n",
            "en-core-web-sm 3.4.0 requires spacy<3.5.0,>=3.4.0, but you have spacy 2.3.7 which is incompatible.\u001b[0m\n"
          ]
        }
      ]
    },
    {
      "cell_type": "code",
      "source": [
        "!pip install pyldavis --quiet"
      ],
      "metadata": {
        "colab": {
          "base_uri": "https://localhost:8080/"
        },
        "id": "DzYcaWX_Eau2",
        "outputId": "862ac0e6-3340-4b02-d5f8-9b16a0dcd213"
      },
      "execution_count": 2,
      "outputs": [
        {
          "output_type": "stream",
          "name": "stdout",
          "text": [
            "\u001b[?25l\r\u001b[K     |▏                               | 10 kB 19.2 MB/s eta 0:00:01\r\u001b[K     |▍                               | 20 kB 6.5 MB/s eta 0:00:01\r\u001b[K     |▋                               | 30 kB 9.2 MB/s eta 0:00:01\r\u001b[K     |▉                               | 40 kB 3.7 MB/s eta 0:00:01\r\u001b[K     |█                               | 51 kB 3.7 MB/s eta 0:00:01\r\u001b[K     |█▏                              | 61 kB 4.4 MB/s eta 0:00:01\r\u001b[K     |█▍                              | 71 kB 4.6 MB/s eta 0:00:01\r\u001b[K     |█▋                              | 81 kB 4.7 MB/s eta 0:00:01\r\u001b[K     |█▉                              | 92 kB 5.2 MB/s eta 0:00:01\r\u001b[K     |██                              | 102 kB 4.4 MB/s eta 0:00:01\r\u001b[K     |██▏                             | 112 kB 4.4 MB/s eta 0:00:01\r\u001b[K     |██▍                             | 122 kB 4.4 MB/s eta 0:00:01\r\u001b[K     |██▋                             | 133 kB 4.4 MB/s eta 0:00:01\r\u001b[K     |██▊                             | 143 kB 4.4 MB/s eta 0:00:01\r\u001b[K     |███                             | 153 kB 4.4 MB/s eta 0:00:01\r\u001b[K     |███▏                            | 163 kB 4.4 MB/s eta 0:00:01\r\u001b[K     |███▍                            | 174 kB 4.4 MB/s eta 0:00:01\r\u001b[K     |███▋                            | 184 kB 4.4 MB/s eta 0:00:01\r\u001b[K     |███▊                            | 194 kB 4.4 MB/s eta 0:00:01\r\u001b[K     |████                            | 204 kB 4.4 MB/s eta 0:00:01\r\u001b[K     |████▏                           | 215 kB 4.4 MB/s eta 0:00:01\r\u001b[K     |████▍                           | 225 kB 4.4 MB/s eta 0:00:01\r\u001b[K     |████▋                           | 235 kB 4.4 MB/s eta 0:00:01\r\u001b[K     |████▊                           | 245 kB 4.4 MB/s eta 0:00:01\r\u001b[K     |█████                           | 256 kB 4.4 MB/s eta 0:00:01\r\u001b[K     |█████▏                          | 266 kB 4.4 MB/s eta 0:00:01\r\u001b[K     |█████▍                          | 276 kB 4.4 MB/s eta 0:00:01\r\u001b[K     |█████▌                          | 286 kB 4.4 MB/s eta 0:00:01\r\u001b[K     |█████▊                          | 296 kB 4.4 MB/s eta 0:00:01\r\u001b[K     |██████                          | 307 kB 4.4 MB/s eta 0:00:01\r\u001b[K     |██████▏                         | 317 kB 4.4 MB/s eta 0:00:01\r\u001b[K     |██████▍                         | 327 kB 4.4 MB/s eta 0:00:01\r\u001b[K     |██████▌                         | 337 kB 4.4 MB/s eta 0:00:01\r\u001b[K     |██████▊                         | 348 kB 4.4 MB/s eta 0:00:01\r\u001b[K     |███████                         | 358 kB 4.4 MB/s eta 0:00:01\r\u001b[K     |███████▏                        | 368 kB 4.4 MB/s eta 0:00:01\r\u001b[K     |███████▎                        | 378 kB 4.4 MB/s eta 0:00:01\r\u001b[K     |███████▌                        | 389 kB 4.4 MB/s eta 0:00:01\r\u001b[K     |███████▊                        | 399 kB 4.4 MB/s eta 0:00:01\r\u001b[K     |████████                        | 409 kB 4.4 MB/s eta 0:00:01\r\u001b[K     |████████▏                       | 419 kB 4.4 MB/s eta 0:00:01\r\u001b[K     |████████▎                       | 430 kB 4.4 MB/s eta 0:00:01\r\u001b[K     |████████▌                       | 440 kB 4.4 MB/s eta 0:00:01\r\u001b[K     |████████▊                       | 450 kB 4.4 MB/s eta 0:00:01\r\u001b[K     |█████████                       | 460 kB 4.4 MB/s eta 0:00:01\r\u001b[K     |█████████▏                      | 471 kB 4.4 MB/s eta 0:00:01\r\u001b[K     |█████████▎                      | 481 kB 4.4 MB/s eta 0:00:01\r\u001b[K     |█████████▌                      | 491 kB 4.4 MB/s eta 0:00:01\r\u001b[K     |█████████▊                      | 501 kB 4.4 MB/s eta 0:00:01\r\u001b[K     |██████████                      | 512 kB 4.4 MB/s eta 0:00:01\r\u001b[K     |██████████                      | 522 kB 4.4 MB/s eta 0:00:01\r\u001b[K     |██████████▎                     | 532 kB 4.4 MB/s eta 0:00:01\r\u001b[K     |██████████▌                     | 542 kB 4.4 MB/s eta 0:00:01\r\u001b[K     |██████████▊                     | 552 kB 4.4 MB/s eta 0:00:01\r\u001b[K     |███████████                     | 563 kB 4.4 MB/s eta 0:00:01\r\u001b[K     |███████████                     | 573 kB 4.4 MB/s eta 0:00:01\r\u001b[K     |███████████▎                    | 583 kB 4.4 MB/s eta 0:00:01\r\u001b[K     |███████████▌                    | 593 kB 4.4 MB/s eta 0:00:01\r\u001b[K     |███████████▊                    | 604 kB 4.4 MB/s eta 0:00:01\r\u001b[K     |███████████▉                    | 614 kB 4.4 MB/s eta 0:00:01\r\u001b[K     |████████████                    | 624 kB 4.4 MB/s eta 0:00:01\r\u001b[K     |████████████▎                   | 634 kB 4.4 MB/s eta 0:00:01\r\u001b[K     |████████████▌                   | 645 kB 4.4 MB/s eta 0:00:01\r\u001b[K     |████████████▊                   | 655 kB 4.4 MB/s eta 0:00:01\r\u001b[K     |████████████▉                   | 665 kB 4.4 MB/s eta 0:00:01\r\u001b[K     |█████████████                   | 675 kB 4.4 MB/s eta 0:00:01\r\u001b[K     |█████████████▎                  | 686 kB 4.4 MB/s eta 0:00:01\r\u001b[K     |█████████████▌                  | 696 kB 4.4 MB/s eta 0:00:01\r\u001b[K     |█████████████▊                  | 706 kB 4.4 MB/s eta 0:00:01\r\u001b[K     |█████████████▉                  | 716 kB 4.4 MB/s eta 0:00:01\r\u001b[K     |██████████████                  | 727 kB 4.4 MB/s eta 0:00:01\r\u001b[K     |██████████████▎                 | 737 kB 4.4 MB/s eta 0:00:01\r\u001b[K     |██████████████▌                 | 747 kB 4.4 MB/s eta 0:00:01\r\u001b[K     |██████████████▋                 | 757 kB 4.4 MB/s eta 0:00:01\r\u001b[K     |██████████████▉                 | 768 kB 4.4 MB/s eta 0:00:01\r\u001b[K     |███████████████                 | 778 kB 4.4 MB/s eta 0:00:01\r\u001b[K     |███████████████▎                | 788 kB 4.4 MB/s eta 0:00:01\r\u001b[K     |███████████████▌                | 798 kB 4.4 MB/s eta 0:00:01\r\u001b[K     |███████████████▋                | 808 kB 4.4 MB/s eta 0:00:01\r\u001b[K     |███████████████▉                | 819 kB 4.4 MB/s eta 0:00:01\r\u001b[K     |████████████████                | 829 kB 4.4 MB/s eta 0:00:01\r\u001b[K     |████████████████▎               | 839 kB 4.4 MB/s eta 0:00:01\r\u001b[K     |████████████████▍               | 849 kB 4.4 MB/s eta 0:00:01\r\u001b[K     |████████████████▋               | 860 kB 4.4 MB/s eta 0:00:01\r\u001b[K     |████████████████▉               | 870 kB 4.4 MB/s eta 0:00:01\r\u001b[K     |█████████████████               | 880 kB 4.4 MB/s eta 0:00:01\r\u001b[K     |█████████████████▎              | 890 kB 4.4 MB/s eta 0:00:01\r\u001b[K     |█████████████████▍              | 901 kB 4.4 MB/s eta 0:00:01\r\u001b[K     |█████████████████▋              | 911 kB 4.4 MB/s eta 0:00:01\r\u001b[K     |█████████████████▉              | 921 kB 4.4 MB/s eta 0:00:01\r\u001b[K     |██████████████████              | 931 kB 4.4 MB/s eta 0:00:01\r\u001b[K     |██████████████████▎             | 942 kB 4.4 MB/s eta 0:00:01\r\u001b[K     |██████████████████▍             | 952 kB 4.4 MB/s eta 0:00:01\r\u001b[K     |██████████████████▋             | 962 kB 4.4 MB/s eta 0:00:01\r\u001b[K     |██████████████████▉             | 972 kB 4.4 MB/s eta 0:00:01\r\u001b[K     |███████████████████             | 983 kB 4.4 MB/s eta 0:00:01\r\u001b[K     |███████████████████▏            | 993 kB 4.4 MB/s eta 0:00:01\r\u001b[K     |███████████████████▍            | 1.0 MB 4.4 MB/s eta 0:00:01\r\u001b[K     |███████████████████▋            | 1.0 MB 4.4 MB/s eta 0:00:01\r\u001b[K     |███████████████████▉            | 1.0 MB 4.4 MB/s eta 0:00:01\r\u001b[K     |████████████████████            | 1.0 MB 4.4 MB/s eta 0:00:01\r\u001b[K     |████████████████████▏           | 1.0 MB 4.4 MB/s eta 0:00:01\r\u001b[K     |████████████████████▍           | 1.1 MB 4.4 MB/s eta 0:00:01\r\u001b[K     |████████████████████▋           | 1.1 MB 4.4 MB/s eta 0:00:01\r\u001b[K     |████████████████████▉           | 1.1 MB 4.4 MB/s eta 0:00:01\r\u001b[K     |█████████████████████           | 1.1 MB 4.4 MB/s eta 0:00:01\r\u001b[K     |█████████████████████▏          | 1.1 MB 4.4 MB/s eta 0:00:01\r\u001b[K     |█████████████████████▍          | 1.1 MB 4.4 MB/s eta 0:00:01\r\u001b[K     |█████████████████████▋          | 1.1 MB 4.4 MB/s eta 0:00:01\r\u001b[K     |█████████████████████▉          | 1.1 MB 4.4 MB/s eta 0:00:01\r\u001b[K     |██████████████████████          | 1.1 MB 4.4 MB/s eta 0:00:01\r\u001b[K     |██████████████████████▏         | 1.1 MB 4.4 MB/s eta 0:00:01\r\u001b[K     |██████████████████████▍         | 1.2 MB 4.4 MB/s eta 0:00:01\r\u001b[K     |██████████████████████▋         | 1.2 MB 4.4 MB/s eta 0:00:01\r\u001b[K     |██████████████████████▉         | 1.2 MB 4.4 MB/s eta 0:00:01\r\u001b[K     |███████████████████████         | 1.2 MB 4.4 MB/s eta 0:00:01\r\u001b[K     |███████████████████████▏        | 1.2 MB 4.4 MB/s eta 0:00:01\r\u001b[K     |███████████████████████▍        | 1.2 MB 4.4 MB/s eta 0:00:01\r\u001b[K     |███████████████████████▋        | 1.2 MB 4.4 MB/s eta 0:00:01\r\u001b[K     |███████████████████████▊        | 1.2 MB 4.4 MB/s eta 0:00:01\r\u001b[K     |████████████████████████        | 1.2 MB 4.4 MB/s eta 0:00:01\r\u001b[K     |████████████████████████▏       | 1.2 MB 4.4 MB/s eta 0:00:01\r\u001b[K     |████████████████████████▍       | 1.3 MB 4.4 MB/s eta 0:00:01\r\u001b[K     |████████████████████████▋       | 1.3 MB 4.4 MB/s eta 0:00:01\r\u001b[K     |████████████████████████▊       | 1.3 MB 4.4 MB/s eta 0:00:01\r\u001b[K     |█████████████████████████       | 1.3 MB 4.4 MB/s eta 0:00:01\r\u001b[K     |█████████████████████████▏      | 1.3 MB 4.4 MB/s eta 0:00:01\r\u001b[K     |█████████████████████████▍      | 1.3 MB 4.4 MB/s eta 0:00:01\r\u001b[K     |█████████████████████████▌      | 1.3 MB 4.4 MB/s eta 0:00:01\r\u001b[K     |█████████████████████████▊      | 1.3 MB 4.4 MB/s eta 0:00:01\r\u001b[K     |██████████████████████████      | 1.3 MB 4.4 MB/s eta 0:00:01\r\u001b[K     |██████████████████████████▏     | 1.4 MB 4.4 MB/s eta 0:00:01\r\u001b[K     |██████████████████████████▍     | 1.4 MB 4.4 MB/s eta 0:00:01\r\u001b[K     |██████████████████████████▌     | 1.4 MB 4.4 MB/s eta 0:00:01\r\u001b[K     |██████████████████████████▊     | 1.4 MB 4.4 MB/s eta 0:00:01\r\u001b[K     |███████████████████████████     | 1.4 MB 4.4 MB/s eta 0:00:01\r\u001b[K     |███████████████████████████▏    | 1.4 MB 4.4 MB/s eta 0:00:01\r\u001b[K     |███████████████████████████▍    | 1.4 MB 4.4 MB/s eta 0:00:01\r\u001b[K     |███████████████████████████▌    | 1.4 MB 4.4 MB/s eta 0:00:01\r\u001b[K     |███████████████████████████▊    | 1.4 MB 4.4 MB/s eta 0:00:01\r\u001b[K     |████████████████████████████    | 1.4 MB 4.4 MB/s eta 0:00:01\r\u001b[K     |████████████████████████████▏   | 1.5 MB 4.4 MB/s eta 0:00:01\r\u001b[K     |████████████████████████████▎   | 1.5 MB 4.4 MB/s eta 0:00:01\r\u001b[K     |████████████████████████████▌   | 1.5 MB 4.4 MB/s eta 0:00:01\r\u001b[K     |████████████████████████████▊   | 1.5 MB 4.4 MB/s eta 0:00:01\r\u001b[K     |█████████████████████████████   | 1.5 MB 4.4 MB/s eta 0:00:01\r\u001b[K     |█████████████████████████████▏  | 1.5 MB 4.4 MB/s eta 0:00:01\r\u001b[K     |█████████████████████████████▎  | 1.5 MB 4.4 MB/s eta 0:00:01\r\u001b[K     |█████████████████████████████▌  | 1.5 MB 4.4 MB/s eta 0:00:01\r\u001b[K     |█████████████████████████████▊  | 1.5 MB 4.4 MB/s eta 0:00:01\r\u001b[K     |██████████████████████████████  | 1.5 MB 4.4 MB/s eta 0:00:01\r\u001b[K     |██████████████████████████████▏ | 1.6 MB 4.4 MB/s eta 0:00:01\r\u001b[K     |██████████████████████████████▎ | 1.6 MB 4.4 MB/s eta 0:00:01\r\u001b[K     |██████████████████████████████▌ | 1.6 MB 4.4 MB/s eta 0:00:01\r\u001b[K     |██████████████████████████████▊ | 1.6 MB 4.4 MB/s eta 0:00:01\r\u001b[K     |███████████████████████████████ | 1.6 MB 4.4 MB/s eta 0:00:01\r\u001b[K     |███████████████████████████████ | 1.6 MB 4.4 MB/s eta 0:00:01\r\u001b[K     |███████████████████████████████▎| 1.6 MB 4.4 MB/s eta 0:00:01\r\u001b[K     |███████████████████████████████▌| 1.6 MB 4.4 MB/s eta 0:00:01\r\u001b[K     |███████████████████████████████▊| 1.6 MB 4.4 MB/s eta 0:00:01\r\u001b[K     |████████████████████████████████| 1.6 MB 4.4 MB/s eta 0:00:01\r\u001b[K     |████████████████████████████████| 1.7 MB 4.4 MB/s \n",
            "\u001b[?25h  Installing build dependencies ... \u001b[?25l\u001b[?25hdone\n",
            "  Getting requirements to build wheel ... \u001b[?25l\u001b[?25hdone\n",
            "  Installing backend dependencies ... \u001b[?25l\u001b[?25hdone\n",
            "    Preparing wheel metadata ... \u001b[?25l\u001b[?25hdone\n",
            "\u001b[K     |████████████████████████████████| 11.3 MB 27.4 MB/s \n",
            "\u001b[?25h  Building wheel for pyldavis (PEP 517) ... \u001b[?25l\u001b[?25hdone\n",
            "  Building wheel for sklearn (setup.py) ... \u001b[?25l\u001b[?25hdone\n",
            "\u001b[31mERROR: pip's dependency resolver does not currently take into account all the packages that are installed. This behaviour is the source of the following dependency conflicts.\n",
            "tmtoolkit 0.10.0 requires pandas<1.2,>=1.1.0, but you have pandas 1.3.5 which is incompatible.\n",
            "pymc3 3.11.5 requires scipy<1.8.0,>=1.7.3, but you have scipy 1.5.4 which is incompatible.\u001b[0m\n"
          ]
        }
      ]
    },
    {
      "cell_type": "code",
      "source": [
        "!pip install matplotlib_inline --quiet"
      ],
      "metadata": {
        "id": "zw3CJFItERtI"
      },
      "execution_count": 3,
      "outputs": []
    },
    {
      "cell_type": "code",
      "execution_count": 1,
      "metadata": {
        "colab": {
          "base_uri": "https://localhost:8080/"
        },
        "id": "fAPTV_G4zXeg",
        "outputId": "d158852e-1417-48c0-9ba4-14457bfa5b2e"
      },
      "outputs": [
        {
          "output_type": "stream",
          "name": "stderr",
          "text": [
            "/usr/local/lib/python3.7/dist-packages/past/types/oldstr.py:5: DeprecationWarning: Using or importing the ABCs from 'collections' instead of from 'collections.abc' is deprecated since Python 3.3,and in 3.9 it will stop working\n",
            "  from collections import Iterable\n",
            "/usr/local/lib/python3.7/dist-packages/past/builtins/misc.py:4: DeprecationWarning: Using or importing the ABCs from 'collections' instead of from 'collections.abc' is deprecated since Python 3.3,and in 3.9 it will stop working\n",
            "  from collections import Mapping\n"
          ]
        },
        {
          "output_type": "stream",
          "name": "stdout",
          "text": [
            "Mounted at /content/gdrive\n"
          ]
        }
      ],
      "source": [
        "# General\n",
        "import pandas as pd\n",
        "import numpy as np\n",
        "import sklearn\n",
        "import pickle\n",
        "\n",
        "# Text preprocessing\n",
        "from nltk.corpus import treebank\n",
        "import nltk \n",
        "import string\n",
        "import re\n",
        "\n",
        "# Gensim Models\n",
        "import gensim\n",
        "from gensim.models import ldamulticore, ldamodel\n",
        "from gensim.models import nmf\n",
        "from gensim.models import Word2Vec, FastText\n",
        "\n",
        "# bertopic\n",
        "import bertopic\n",
        "\n",
        "# image\n",
        "from PIL import Image\n",
        "\n",
        "# pyLDAvis\n",
        "import pyLDAvis\n",
        "import pyLDAvis.gensim_models as gensimvis\n",
        "\n",
        "# enable execution in notebook\n",
        "pyLDAvis.enable_notebook()\n",
        "\n",
        "# Plotting\n",
        "import matplotlib.pyplot as plt\n",
        "import seaborn as sb\n",
        "\n",
        "sb.set_style('darkgrid')\n",
        "%matplotlib inline\n",
        "\n",
        "# save img in svg format\n",
        "from matplotlib_inline.backend_inline import set_matplotlib_formats\n",
        "set_matplotlib_formats('svg')\n",
        "\n",
        "# google \n",
        "from google.colab import drive\n",
        "drive.mount(\"/content/gdrive\")\n",
        "\n",
        "# Display data frame as a table\n",
        "from google.colab import data_table\n",
        "#data_table.enable_dataframe_formatter()\n",
        "\n",
        "# Suppress warnings\n",
        "import warnings\n",
        "\n",
        "warnings.filterwarnings(\"ignore\")\n",
        "\n",
        "# metrics dict\n",
        "metrics = {}\n",
        "\n",
        "# pretty print\n",
        "from pprint import pprint"
      ]
    },
    {
      "cell_type": "markdown",
      "source": [
        "# **1) Importing dataset**\n",
        "To do:\n",
        "\n",
        "1. Convert missing abstract fields to None.\n",
        "2. Remove punctuation.\n",
        "3. Lowercase everything"
      ],
      "metadata": {
        "id": "Kzl0OOqO5K_K"
      }
    },
    {
      "cell_type": "code",
      "source": [
        "path = \"/content/gdrive/MyDrive/experiments/topic_modelling/cleaned_data_aggressive.csv\"\n",
        "\n",
        "df = pd.read_csv(path)\n",
        "df.info()"
      ],
      "metadata": {
        "colab": {
          "base_uri": "https://localhost:8080/"
        },
        "id": "LGAVFRIn5PnU",
        "outputId": "cb5dd6e2-5c2a-4778-9d84-f66d8245d9be"
      },
      "execution_count": 2,
      "outputs": [
        {
          "output_type": "stream",
          "name": "stdout",
          "text": [
            "<class 'pandas.core.frame.DataFrame'>\n",
            "RangeIndex: 2225 entries, 0 to 2224\n",
            "Data columns (total 4 columns):\n",
            " #   Column          Non-Null Count  Dtype \n",
            "---  ------          --------------  ----- \n",
            " 0   Category        2225 non-null   object\n",
            " 1   Heading         2225 non-null   object\n",
            " 2   Article         2225 non-null   object\n",
            " 3   text_processed  2225 non-null   object\n",
            "dtypes: object(4)\n",
            "memory usage: 69.7+ KB\n"
          ]
        }
      ]
    },
    {
      "cell_type": "code",
      "source": [
        "# split up sentences into tokens\n",
        "def sent_2_tokens(sentences: list):\n",
        "  for sentence in sentences:\n",
        "    yield sentence.split(' ')\n",
        "\n",
        "# list of sentences\n",
        "data = list(df[\"text_processed\"])\n",
        "data_words = list(sent_2_tokens(data))\n",
        "\n",
        "print(data_words[2][:10])"
      ],
      "metadata": {
        "colab": {
          "base_uri": "https://localhost:8080/"
        },
        "id": "FfnYUXkV-jNX",
        "outputId": "e02fc3f8-414d-4fc8-f663-4db669637a94"
      },
      "execution_count": 3,
      "outputs": [
        {
          "output_type": "stream",
          "name": "stdout",
          "text": [
            "['troublehit', 'mitsubishi', 'motors', 'talk', 'french', 'carmaker', 'psa', 'peugeot', 'citroen', 'possible']\n"
          ]
        }
      ]
    },
    {
      "cell_type": "markdown",
      "source": [
        "# **2) Embedding**"
      ],
      "metadata": {
        "id": "99b_8OwlIQHo"
      }
    },
    {
      "cell_type": "markdown",
      "source": [
        "## **I. BOW Model**"
      ],
      "metadata": {
        "id": "Usbuyr19B21j"
      }
    },
    {
      "cell_type": "code",
      "source": [
        "# Create a mapping of unique integer (id) to word\n",
        "id2word = gensim.corpora.Dictionary(data_words)\n",
        "\n",
        "id2word.filter_extremes(no_below = 3,\n",
        "                        no_above = 0.85,\n",
        "                        keep_n = 5000)\n",
        "id2word.compactify()\n",
        "\n",
        "texts = data_words\n",
        "\n",
        "# Create a corpus where each word is represented by a tuple of token id & token count\n",
        "corpus = [id2word.doc2bow(text) for text in texts]\n",
        "\n",
        "print(corpus[3][:5], \"\\n\", data_words[3][:5])"
      ],
      "metadata": {
        "colab": {
          "base_uri": "https://localhost:8080/"
        },
        "id": "SfJnXTRaJD9I",
        "outputId": "2f45f76e-264c-4676-bcec-9e6a066753bc"
      },
      "execution_count": 4,
      "outputs": [
        {
          "output_type": "stream",
          "name": "stdout",
          "text": [
            "[(29, 1), (34, 1), (49, 2), (89, 1), (93, 1)] \n",
            " ['bmw', 'prepare', 'enter', 'market', 'carstyle']\n"
          ]
        }
      ]
    },
    {
      "cell_type": "markdown",
      "source": [
        "## **II. TF-IDF Corpus**"
      ],
      "metadata": {
        "id": "3GNflCPd2Dbk"
      }
    },
    {
      "cell_type": "code",
      "source": [
        "from gensim.models.tfidfmodel import TfidfModel\n",
        "\n",
        "model = TfidfModel(corpus = corpus,\n",
        "                   id2word = id2word,)\n",
        "\n",
        "# TF IDF corpus\n",
        "tfidf_corpus = [model[x] for x in corpus]"
      ],
      "metadata": {
        "id": "0T8rMYuw2GOp"
      },
      "execution_count": 5,
      "outputs": []
    },
    {
      "cell_type": "markdown",
      "source": [
        "# **3) LDA Model**"
      ],
      "metadata": {
        "id": "YLpRBnq5NX3B"
      }
    },
    {
      "cell_type": "markdown",
      "source": [
        "## **I. BOW**"
      ],
      "metadata": {
        "id": "w2A02eMNHCLE"
      }
    },
    {
      "cell_type": "code",
      "source": [
        "# Training the lda model on bow representation\n",
        "from gensim.models import ldamulticore\n",
        "\n",
        "num_topics = 5\n",
        "\n",
        "lda_model = ldamulticore.LdaMulticore(corpus = corpus,\n",
        "                         id2word = id2word,\n",
        "                         num_topics = num_topics,\n",
        "                         passes = 5)\n",
        "\n",
        "pprint(lda_model.print_topics())"
      ],
      "metadata": {
        "id": "CMrkMUK6M-Y-",
        "colab": {
          "base_uri": "https://localhost:8080/"
        },
        "outputId": "5ca1f8e4-bd39-42fb-a680-938858a0dee2"
      },
      "execution_count": 6,
      "outputs": [
        {
          "output_type": "stream",
          "name": "stderr",
          "text": [
            "WARNING:gensim.models.ldamulticore:too few updates, training might not converge; consider increasing the number of passes or iterations to improve accuracy\n"
          ]
        },
        {
          "output_type": "stream",
          "name": "stdout",
          "text": [
            "[(0,\n",
            "  '0.007*\"could\" + 0.007*\"year\" + 0.005*\"make\" + 0.005*\"world\" + '\n",
            "  '0.005*\"company\" + 0.005*\"game\" + 0.005*\"government\" + 0.005*\"technology\" + '\n",
            "  '0.005*\"one\" + 0.004*\"use\"'),\n",
            " (1,\n",
            "  '0.013*\"user\" + 0.011*\"use\" + 0.011*\"net\" + 0.010*\"site\" + 0.010*\"search\" + '\n",
            "  '0.008*\"software\" + 0.007*\"service\" + 0.007*\"information\" + 0.006*\"one\" + '\n",
            "  '0.006*\"security\"'),\n",
            " (2,\n",
            "  '0.017*\"game\" + 0.007*\"year\" + 0.006*\"get\" + 0.006*\"play\" + 0.006*\"good\" + '\n",
            "  '0.006*\"make\" + 0.006*\"time\" + 0.006*\"take\" + 0.005*\"win\" + 0.005*\"first\"'),\n",
            " (3,\n",
            "  '0.013*\"technology\" + 0.009*\"mobile\" + 0.009*\"music\" + 0.008*\"new\" + '\n",
            "  '0.008*\"consumer\" + 0.007*\"use\" + 0.007*\"digital\" + 0.007*\"year\" + '\n",
            "  '0.006*\"video\" + 0.006*\"show\"'),\n",
            " (4,\n",
            "  '0.014*\"use\" + 0.012*\"phone\" + 0.010*\"mobile\" + 0.009*\"make\" + 0.007*\"could\" '\n",
            "  '+ 0.006*\"email\" + 0.006*\"take\" + 0.006*\"get\" + 0.006*\"work\" + 0.005*\"new\"')]\n"
          ]
        }
      ]
    },
    {
      "cell_type": "markdown",
      "source": [
        "## **II. TF-IDF**"
      ],
      "metadata": {
        "id": "cWg-PFUdHEaJ"
      }
    },
    {
      "cell_type": "code",
      "source": [
        "# Training the lda model on the TF IDF Corpus\n",
        "lda_tfidf = ldamulticore.LdaMulticore(corpus = tfidf_corpus,\n",
        "                         id2word = id2word,\n",
        "                         num_topics = num_topics,\n",
        "                         passes = 5)\n",
        "\n",
        "pprint(lda_tfidf.print_topics())"
      ],
      "metadata": {
        "colab": {
          "base_uri": "https://localhost:8080/"
        },
        "id": "jwy1Ibuc8Nv7",
        "outputId": "5d490b80-676d-4fef-81f8-d51c0a1752f7"
      },
      "execution_count": 7,
      "outputs": [
        {
          "output_type": "stream",
          "name": "stderr",
          "text": [
            "WARNING:gensim.models.ldamulticore:too few updates, training might not converge; consider increasing the number of passes or iterations to improve accuracy\n"
          ]
        },
        {
          "output_type": "stream",
          "name": "stdout",
          "text": [
            "[(0,\n",
            "  '0.005*\"game\" + 0.004*\"technology\" + 0.004*\"device\" + 0.004*\"console\" + '\n",
            "  '0.004*\"music\" + 0.003*\"nintendo\" + 0.003*\"sony\" + 0.003*\"consumer\" + '\n",
            "  '0.003*\"gadget\" + 0.003*\"portable\"'),\n",
            " (1,\n",
            "  '0.004*\"program\" + 0.003*\"film\" + 0.003*\"user\" + 0.003*\"software\" + '\n",
            "  '0.003*\"domain\" + 0.003*\"net\" + 0.003*\"microsoft\" + 0.002*\"use\" + '\n",
            "  '0.002*\"service\" + 0.002*\"virus\"'),\n",
            " (2,\n",
            "  '0.007*\"search\" + 0.005*\"user\" + 0.005*\"spam\" + 0.004*\"computer\" + '\n",
            "  '0.004*\"site\" + 0.004*\"net\" + 0.004*\"software\" + 0.004*\"use\" + 0.004*\"email\" '\n",
            "  '+ 0.003*\"information\"'),\n",
            " (3,\n",
            "  '0.003*\"blog\" + 0.002*\"game\" + 0.002*\"attack\" + 0.002*\"technology\" + '\n",
            "  '0.002*\"patent\" + 0.002*\"site\" + 0.002*\"pc\" + 0.002*\"win\" + 0.002*\"user\" + '\n",
            "  '0.002*\"england\"'),\n",
            " (4,\n",
            "  '0.008*\"mobile\" + 0.006*\"phone\" + 0.004*\"computer\" + 0.003*\"camera\" + '\n",
            "  '0.003*\"game\" + 0.003*\"technology\" + 0.003*\"music\" + 0.003*\"digital\" + '\n",
            "  '0.003*\"pc\" + 0.003*\"tv\"')]\n"
          ]
        }
      ]
    },
    {
      "cell_type": "markdown",
      "source": [
        "# **4) Gensim NMF Model**"
      ],
      "metadata": {
        "id": "Sj44Yarx7jU9"
      }
    },
    {
      "cell_type": "markdown",
      "source": [
        "## **I. BOW**"
      ],
      "metadata": {
        "id": "yle3tLuqHSEm"
      }
    },
    {
      "cell_type": "code",
      "source": [
        "# Training the lda model\n",
        "from gensim.models import nmf\n",
        "\n",
        "nmf_model = nmf.Nmf(corpus = corpus,\n",
        "                    id2word = id2word,\n",
        "                    num_topics = num_topics,\n",
        "                    passes = 5,              \n",
        "                    normalize = True,\n",
        "                    random_state = 42,)\n",
        "\n",
        "pprint(nmf_model.print_topics())"
      ],
      "metadata": {
        "colab": {
          "base_uri": "https://localhost:8080/"
        },
        "outputId": "d57c8c10-92f2-4a69-f2e7-a7e6899f8d87",
        "id": "lt8r21N_7jVF"
      },
      "execution_count": 8,
      "outputs": [
        {
          "output_type": "stream",
          "name": "stdout",
          "text": [
            "[(0,\n",
            "  '0.013*\"use\" + 0.010*\"mobile\" + 0.009*\"phone\" + 0.009*\"technology\" + '\n",
            "  '0.008*\"service\" + 0.007*\"year\" + 0.007*\"make\" + 0.006*\"user\" + 0.006*\"firm\" '\n",
            "  '+ 0.006*\"new\"'),\n",
            " (1,\n",
            "  '0.013*\"party\" + 0.010*\"labour\" + 0.009*\"election\" + 0.009*\"government\" + '\n",
            "  '0.008*\"minister\" + 0.008*\"blair\" + 0.007*\"wage\" + 0.007*\"pay\" + '\n",
            "  '0.007*\"increase\" + 0.006*\"tory\"'),\n",
            " (2,\n",
            "  '0.013*\"government\" + 0.007*\"could\" + 0.006*\"bn\" + 0.006*\"one\" + 0.006*\"us\" '\n",
            "  '+ 0.006*\"year\" + 0.005*\"right\" + 0.005*\"new\" + 0.005*\"terrorist\" + '\n",
            "  '0.005*\"country\"'),\n",
            " (3,\n",
            "  '0.034*\"game\" + 0.016*\"music\" + 0.015*\"play\" + 0.010*\"player\" + 0.008*\"time\" '\n",
            "  '+ 0.008*\"get\" + 0.008*\"make\" + 0.007*\"win\" + 0.007*\"go\" + 0.006*\"well\"'),\n",
            " (4,\n",
            "  '0.021*\"good\" + 0.017*\"year\" + 0.012*\"win\" + 0.012*\"song\" + 0.009*\"film\" + '\n",
            "  '0.009*\"last\" + 0.008*\"award\" + 0.006*\"think\" + 0.005*\"go\" + '\n",
            "  '0.005*\"british\"')]\n"
          ]
        }
      ]
    },
    {
      "cell_type": "markdown",
      "source": [
        "## **II. TF-IDF**"
      ],
      "metadata": {
        "id": "4oPtE8HNHUl3"
      }
    },
    {
      "cell_type": "code",
      "source": [
        "# TF IDF transformed text\n",
        "from gensim.models import nmf\n",
        "nmf_tfidf = nmf.Nmf(corpus = tfidf_corpus,\n",
        "                    id2word = id2word,\n",
        "                    num_topics = num_topics,\n",
        "                    passes = 5,              \n",
        "                    normalize = True,\n",
        "                    random_state = 42,\n",
        "                )\n",
        "\n",
        "pprint(nmf_tfidf.print_topics())"
      ],
      "metadata": {
        "colab": {
          "base_uri": "https://localhost:8080/"
        },
        "id": "S0prGFR39vfn",
        "outputId": "b0705fd8-05b2-4cff-e203-a61cdcff44b6"
      },
      "execution_count": 9,
      "outputs": [
        {
          "output_type": "stream",
          "name": "stdout",
          "text": [
            "[(0,\n",
            "  '0.008*\"mobile\" + 0.007*\"phone\" + 0.006*\"technology\" + 0.005*\"user\" + '\n",
            "  '0.005*\"service\" + 0.005*\"use\" + 0.004*\"digital\" + 0.004*\"broadband\" + '\n",
            "  '0.004*\"network\" + 0.004*\"software\"'),\n",
            " (1,\n",
            "  '0.013*\"film\" + 0.009*\"award\" + 0.006*\"star\" + 0.005*\"band\" + 0.005*\"album\" '\n",
            "  '+ 0.005*\"oscar\" + 0.005*\"actor\" + 0.005*\"chart\" + 0.005*\"good\" + '\n",
            "  '0.004*\"nomination\"'),\n",
            " (2,\n",
            "  '0.006*\"bn\" + 0.006*\"bank\" + 0.005*\"economy\" + 0.005*\"growth\" + 0.005*\"oil\" '\n",
            "  '+ 0.005*\"rate\" + 0.005*\"price\" + 0.005*\"rise\" + 0.004*\"yukos\" + '\n",
            "  '0.004*\"economic\"'),\n",
            " (3,\n",
            "  '0.010*\"game\" + 0.006*\"play\" + 0.006*\"win\" + 0.005*\"player\" + '\n",
            "  '0.005*\"england\" + 0.004*\"match\" + 0.004*\"team\" + 0.004*\"cup\" + '\n",
            "  '0.003*\"injury\" + 0.003*\"title\"'),\n",
            " (4,\n",
            "  '0.010*\"labour\" + 0.010*\"election\" + 0.008*\"blair\" + 0.008*\"brown\" + '\n",
            "  '0.007*\"party\" + 0.007*\"tory\" + 0.006*\"tax\" + 0.005*\"chancellor\" + '\n",
            "  '0.005*\"minister\" + 0.005*\"howard\"')]\n"
          ]
        }
      ]
    },
    {
      "cell_type": "markdown",
      "source": [
        "# **5) Sklearn NMF**"
      ],
      "metadata": {
        "id": "eklN0j0BKYlf"
      }
    },
    {
      "cell_type": "code",
      "source": [
        "# Using a TF-IDF Vectorizer to vectorize text\n",
        "from sklearn.feature_extraction.text import TfidfVectorizer\n",
        "\n",
        "tfidf_vectorizer = TfidfVectorizer(min_df = 3,\n",
        "                                  max_df = 0.85,\n",
        "                                  max_features = 5000,\n",
        "                                  ngram_range = (1, 2),\n",
        "                                  preprocessor = ' '.join,\n",
        ")\n",
        "\n",
        "dtm_tfidf = tfidf_vectorizer.fit_transform(texts)\n",
        "\n",
        "# Save the feature names for later to create topic summaries\n",
        "tfidf_fn = tfidf_vectorizer.get_feature_names()"
      ],
      "metadata": {
        "id": "etIv00ACJFnT"
      },
      "execution_count": 10,
      "outputs": []
    },
    {
      "cell_type": "code",
      "source": [
        "# Sklearn NMF Model\n",
        "from sklearn.decomposition import NMF\n",
        "\n",
        "sk_nmf = NMF(n_components = num_topics,\n",
        "          init = \"nndsvd\",\n",
        "          solver = \"mu\")\n",
        "\n",
        "# fit on the TF-IDF transformed data\n",
        "op_nmf = sk_nmf.fit_transform(dtm_tfidf)\n"
      ],
      "metadata": {
        "id": "JLqDc0CZJZLh"
      },
      "execution_count": 11,
      "outputs": []
    },
    {
      "cell_type": "markdown",
      "source": [
        "# **6) BERTopic**"
      ],
      "metadata": {
        "id": "fZmhn4AP-C76"
      }
    },
    {
      "cell_type": "code",
      "source": [
        "from bertopic import BERTopic\n",
        "\n",
        "# BERTopic requires minimally processed texts for ingestion\n",
        "# docs = list(df[\"Article\"])\n",
        "\n",
        "# List of every sentences in each article\n",
        "topic_model = BERTopic(nr_topics = 5)\n",
        "topics, probabilities = topic_model.fit_transform(data)\n",
        "\n",
        "# topics\n",
        "pprint(topic_model.get_topics())"
      ],
      "metadata": {
        "colab": {
          "base_uri": "https://localhost:8080/"
        },
        "id": "ftfkoLqvIUN4",
        "outputId": "f432fb50-ddfd-46e9-e03d-20f9c5785113"
      },
      "execution_count": 19,
      "outputs": [
        {
          "output_type": "stream",
          "name": "stdout",
          "text": [
            "{-1: [('year', 0.020845538485293028),\n",
            "      ('use', 0.019688619191434085),\n",
            "      ('make', 0.017003968598981293),\n",
            "      ('new', 0.01661956564776064),\n",
            "      ('government', 0.016196478883291423),\n",
            "      ('could', 0.01595773070912004),\n",
            "      ('company', 0.015351921822585355),\n",
            "      ('firm', 0.01498486003740802),\n",
            "      ('one', 0.01422320191702778),\n",
            "      ('us', 0.01307161757563155)],\n",
            " 0: [('win', 0.03370732054190334),\n",
            "     ('play', 0.03370406830244227),\n",
            "     ('game', 0.03342776632884178),\n",
            "     ('england', 0.029279768477613998),\n",
            "     ('player', 0.029092389901336124),\n",
            "     ('club', 0.025818349571602593),\n",
            "     ('match', 0.02347892565440106),\n",
            "     ('go', 0.02212619370604052),\n",
            "     ('first', 0.021771280842034595),\n",
            "     ('side', 0.021759178922309896)],\n",
            " 1: [('film', 0.053064008273103175),\n",
            "     ('music', 0.036151099670633485),\n",
            "     ('good', 0.03569751039077508),\n",
            "     ('award', 0.03345738956529852),\n",
            "     ('star', 0.028122545140446764),\n",
            "     ('year', 0.0278437277351258),\n",
            "     ('show', 0.025850332364895805),\n",
            "     ('include', 0.021026328680128614),\n",
            "     ('one', 0.020234734684479803),\n",
            "     ('win', 0.01968636419268431)],\n",
            " 2: [('labour', 0.06338679124450124),\n",
            "     ('party', 0.06211271674812997),\n",
            "     ('election', 0.05559025247213944),\n",
            "     ('blair', 0.04915351052178823),\n",
            "     ('tory', 0.04139262815364129),\n",
            "     ('brown', 0.03822156090546644),\n",
            "     ('minister', 0.030977692077563533),\n",
            "     ('howard', 0.029866405040528544),\n",
            "     ('prime', 0.0284826089699661),\n",
            "     ('chancellor', 0.02733681885757735)],\n",
            " 3: [('olympic', 0.05686531047976556),\n",
            "     ('race', 0.045287763840502),\n",
            "     ('win', 0.041751703036653945),\n",
            "     ('world', 0.03932137416339214),\n",
            "     ('athens', 0.03917272214368026),\n",
            "     ('indoor', 0.03887699440608275),\n",
            "     ('athlete', 0.0341350007559923),\n",
            "     ('champion', 0.0340457296869142),\n",
            "     ('test', 0.03359979503116921),\n",
            "     ('championship', 0.03099218858705539)],\n",
            " 4: [('bn', 0.06079119658097832),\n",
            "     ('sale', 0.049672567418310505),\n",
            "     ('car', 0.04586393026064634),\n",
            "     ('deutsche', 0.040418328684718105),\n",
            "     ('share', 0.03838439912894938),\n",
            "     ('market', 0.038134591794387),\n",
            "     ('fiat', 0.03768604633513631),\n",
            "     ('boerse', 0.03719553899883214),\n",
            "     ('profit', 0.03660904380120863),\n",
            "     ('lse', 0.03623860801602494)]}\n"
          ]
        }
      ]
    },
    {
      "cell_type": "code",
      "source": [
        "# Visualizing BERTopic's topics\n",
        "topic_model.visualize_topics()"
      ],
      "metadata": {
        "colab": {
          "base_uri": "https://localhost:8080/",
          "height": 667
        },
        "id": "MejCTacqI529",
        "outputId": "0862ae20-b63d-4bd8-fb4d-82e086743ba7"
      },
      "execution_count": 20,
      "outputs": [
        {
          "output_type": "display_data",
          "data": {
            "text/html": [
              "<html>\n",
              "<head><meta charset=\"utf-8\" /></head>\n",
              "<body>\n",
              "    <div>            <script src=\"https://cdnjs.cloudflare.com/ajax/libs/mathjax/2.7.5/MathJax.js?config=TeX-AMS-MML_SVG\"></script><script type=\"text/javascript\">if (window.MathJax) {MathJax.Hub.Config({SVG: {font: \"STIX-Web\"}});}</script>                <script type=\"text/javascript\">window.PlotlyConfig = {MathJaxConfig: 'local'};</script>\n",
              "        <script src=\"https://cdn.plot.ly/plotly-2.8.3.min.js\"></script>                <div id=\"15500307-4cef-483f-b0c4-ee0221847ec4\" class=\"plotly-graph-div\" style=\"height:650px; width:650px;\"></div>            <script type=\"text/javascript\">                                    window.PLOTLYENV=window.PLOTLYENV || {};                                    if (document.getElementById(\"15500307-4cef-483f-b0c4-ee0221847ec4\")) {                    Plotly.newPlot(                        \"15500307-4cef-483f-b0c4-ee0221847ec4\",                        [{\"customdata\":[[0,\"win | play | game | england | player\",415],[1,\"film | music | good | award | star\",389],[2,\"labour | party | election | blair | tory\",146],[3,\"olympic | race | win | world | athens\",99],[4,\"bn | sale | car | deutsche | share\",82]],\"hovertemplate\":\"<b>Topic %{customdata[0]}</b><br>Words: %{customdata[1]}<br>Size: %{customdata[2]}\",\"legendgroup\":\"\",\"marker\":{\"color\":\"#B0BEC5\",\"size\":[415,389,146,99,82],\"sizemode\":\"area\",\"sizeref\":0.259375,\"symbol\":\"circle\",\"line\":{\"color\":\"DarkSlateGrey\",\"width\":2}},\"mode\":\"markers\",\"name\":\"\",\"orientation\":\"v\",\"showlegend\":false,\"x\":[-8.652374267578125,-3.0047693252563477,-2.353020668029785,-8.244290351867676,-2.416886568069458],\"xaxis\":\"x\",\"y\":[8.437030792236328,1.192755937576294,1.0196946859359741,8.048309326171875,0.3406183123588562],\"yaxis\":\"y\",\"type\":\"scatter\"}],                        {\"template\":{\"data\":{\"barpolar\":[{\"marker\":{\"line\":{\"color\":\"white\",\"width\":0.5},\"pattern\":{\"fillmode\":\"overlay\",\"size\":10,\"solidity\":0.2}},\"type\":\"barpolar\"}],\"bar\":[{\"error_x\":{\"color\":\"rgb(36,36,36)\"},\"error_y\":{\"color\":\"rgb(36,36,36)\"},\"marker\":{\"line\":{\"color\":\"white\",\"width\":0.5},\"pattern\":{\"fillmode\":\"overlay\",\"size\":10,\"solidity\":0.2}},\"type\":\"bar\"}],\"carpet\":[{\"aaxis\":{\"endlinecolor\":\"rgb(36,36,36)\",\"gridcolor\":\"white\",\"linecolor\":\"white\",\"minorgridcolor\":\"white\",\"startlinecolor\":\"rgb(36,36,36)\"},\"baxis\":{\"endlinecolor\":\"rgb(36,36,36)\",\"gridcolor\":\"white\",\"linecolor\":\"white\",\"minorgridcolor\":\"white\",\"startlinecolor\":\"rgb(36,36,36)\"},\"type\":\"carpet\"}],\"choropleth\":[{\"colorbar\":{\"outlinewidth\":1,\"tickcolor\":\"rgb(36,36,36)\",\"ticks\":\"outside\"},\"type\":\"choropleth\"}],\"contourcarpet\":[{\"colorbar\":{\"outlinewidth\":1,\"tickcolor\":\"rgb(36,36,36)\",\"ticks\":\"outside\"},\"type\":\"contourcarpet\"}],\"contour\":[{\"colorbar\":{\"outlinewidth\":1,\"tickcolor\":\"rgb(36,36,36)\",\"ticks\":\"outside\"},\"colorscale\":[[0.0,\"#440154\"],[0.1111111111111111,\"#482878\"],[0.2222222222222222,\"#3e4989\"],[0.3333333333333333,\"#31688e\"],[0.4444444444444444,\"#26828e\"],[0.5555555555555556,\"#1f9e89\"],[0.6666666666666666,\"#35b779\"],[0.7777777777777778,\"#6ece58\"],[0.8888888888888888,\"#b5de2b\"],[1.0,\"#fde725\"]],\"type\":\"contour\"}],\"heatmapgl\":[{\"colorbar\":{\"outlinewidth\":1,\"tickcolor\":\"rgb(36,36,36)\",\"ticks\":\"outside\"},\"colorscale\":[[0.0,\"#440154\"],[0.1111111111111111,\"#482878\"],[0.2222222222222222,\"#3e4989\"],[0.3333333333333333,\"#31688e\"],[0.4444444444444444,\"#26828e\"],[0.5555555555555556,\"#1f9e89\"],[0.6666666666666666,\"#35b779\"],[0.7777777777777778,\"#6ece58\"],[0.8888888888888888,\"#b5de2b\"],[1.0,\"#fde725\"]],\"type\":\"heatmapgl\"}],\"heatmap\":[{\"colorbar\":{\"outlinewidth\":1,\"tickcolor\":\"rgb(36,36,36)\",\"ticks\":\"outside\"},\"colorscale\":[[0.0,\"#440154\"],[0.1111111111111111,\"#482878\"],[0.2222222222222222,\"#3e4989\"],[0.3333333333333333,\"#31688e\"],[0.4444444444444444,\"#26828e\"],[0.5555555555555556,\"#1f9e89\"],[0.6666666666666666,\"#35b779\"],[0.7777777777777778,\"#6ece58\"],[0.8888888888888888,\"#b5de2b\"],[1.0,\"#fde725\"]],\"type\":\"heatmap\"}],\"histogram2dcontour\":[{\"colorbar\":{\"outlinewidth\":1,\"tickcolor\":\"rgb(36,36,36)\",\"ticks\":\"outside\"},\"colorscale\":[[0.0,\"#440154\"],[0.1111111111111111,\"#482878\"],[0.2222222222222222,\"#3e4989\"],[0.3333333333333333,\"#31688e\"],[0.4444444444444444,\"#26828e\"],[0.5555555555555556,\"#1f9e89\"],[0.6666666666666666,\"#35b779\"],[0.7777777777777778,\"#6ece58\"],[0.8888888888888888,\"#b5de2b\"],[1.0,\"#fde725\"]],\"type\":\"histogram2dcontour\"}],\"histogram2d\":[{\"colorbar\":{\"outlinewidth\":1,\"tickcolor\":\"rgb(36,36,36)\",\"ticks\":\"outside\"},\"colorscale\":[[0.0,\"#440154\"],[0.1111111111111111,\"#482878\"],[0.2222222222222222,\"#3e4989\"],[0.3333333333333333,\"#31688e\"],[0.4444444444444444,\"#26828e\"],[0.5555555555555556,\"#1f9e89\"],[0.6666666666666666,\"#35b779\"],[0.7777777777777778,\"#6ece58\"],[0.8888888888888888,\"#b5de2b\"],[1.0,\"#fde725\"]],\"type\":\"histogram2d\"}],\"histogram\":[{\"marker\":{\"line\":{\"color\":\"white\",\"width\":0.6}},\"type\":\"histogram\"}],\"mesh3d\":[{\"colorbar\":{\"outlinewidth\":1,\"tickcolor\":\"rgb(36,36,36)\",\"ticks\":\"outside\"},\"type\":\"mesh3d\"}],\"parcoords\":[{\"line\":{\"colorbar\":{\"outlinewidth\":1,\"tickcolor\":\"rgb(36,36,36)\",\"ticks\":\"outside\"}},\"type\":\"parcoords\"}],\"pie\":[{\"automargin\":true,\"type\":\"pie\"}],\"scatter3d\":[{\"line\":{\"colorbar\":{\"outlinewidth\":1,\"tickcolor\":\"rgb(36,36,36)\",\"ticks\":\"outside\"}},\"marker\":{\"colorbar\":{\"outlinewidth\":1,\"tickcolor\":\"rgb(36,36,36)\",\"ticks\":\"outside\"}},\"type\":\"scatter3d\"}],\"scattercarpet\":[{\"marker\":{\"colorbar\":{\"outlinewidth\":1,\"tickcolor\":\"rgb(36,36,36)\",\"ticks\":\"outside\"}},\"type\":\"scattercarpet\"}],\"scattergeo\":[{\"marker\":{\"colorbar\":{\"outlinewidth\":1,\"tickcolor\":\"rgb(36,36,36)\",\"ticks\":\"outside\"}},\"type\":\"scattergeo\"}],\"scattergl\":[{\"marker\":{\"colorbar\":{\"outlinewidth\":1,\"tickcolor\":\"rgb(36,36,36)\",\"ticks\":\"outside\"}},\"type\":\"scattergl\"}],\"scattermapbox\":[{\"marker\":{\"colorbar\":{\"outlinewidth\":1,\"tickcolor\":\"rgb(36,36,36)\",\"ticks\":\"outside\"}},\"type\":\"scattermapbox\"}],\"scatterpolargl\":[{\"marker\":{\"colorbar\":{\"outlinewidth\":1,\"tickcolor\":\"rgb(36,36,36)\",\"ticks\":\"outside\"}},\"type\":\"scatterpolargl\"}],\"scatterpolar\":[{\"marker\":{\"colorbar\":{\"outlinewidth\":1,\"tickcolor\":\"rgb(36,36,36)\",\"ticks\":\"outside\"}},\"type\":\"scatterpolar\"}],\"scatter\":[{\"marker\":{\"colorbar\":{\"outlinewidth\":1,\"tickcolor\":\"rgb(36,36,36)\",\"ticks\":\"outside\"}},\"type\":\"scatter\"}],\"scatterternary\":[{\"marker\":{\"colorbar\":{\"outlinewidth\":1,\"tickcolor\":\"rgb(36,36,36)\",\"ticks\":\"outside\"}},\"type\":\"scatterternary\"}],\"surface\":[{\"colorbar\":{\"outlinewidth\":1,\"tickcolor\":\"rgb(36,36,36)\",\"ticks\":\"outside\"},\"colorscale\":[[0.0,\"#440154\"],[0.1111111111111111,\"#482878\"],[0.2222222222222222,\"#3e4989\"],[0.3333333333333333,\"#31688e\"],[0.4444444444444444,\"#26828e\"],[0.5555555555555556,\"#1f9e89\"],[0.6666666666666666,\"#35b779\"],[0.7777777777777778,\"#6ece58\"],[0.8888888888888888,\"#b5de2b\"],[1.0,\"#fde725\"]],\"type\":\"surface\"}],\"table\":[{\"cells\":{\"fill\":{\"color\":\"rgb(237,237,237)\"},\"line\":{\"color\":\"white\"}},\"header\":{\"fill\":{\"color\":\"rgb(217,217,217)\"},\"line\":{\"color\":\"white\"}},\"type\":\"table\"}]},\"layout\":{\"annotationdefaults\":{\"arrowhead\":0,\"arrowwidth\":1},\"autotypenumbers\":\"strict\",\"coloraxis\":{\"colorbar\":{\"outlinewidth\":1,\"tickcolor\":\"rgb(36,36,36)\",\"ticks\":\"outside\"}},\"colorscale\":{\"diverging\":[[0.0,\"rgb(103,0,31)\"],[0.1,\"rgb(178,24,43)\"],[0.2,\"rgb(214,96,77)\"],[0.3,\"rgb(244,165,130)\"],[0.4,\"rgb(253,219,199)\"],[0.5,\"rgb(247,247,247)\"],[0.6,\"rgb(209,229,240)\"],[0.7,\"rgb(146,197,222)\"],[0.8,\"rgb(67,147,195)\"],[0.9,\"rgb(33,102,172)\"],[1.0,\"rgb(5,48,97)\"]],\"sequential\":[[0.0,\"#440154\"],[0.1111111111111111,\"#482878\"],[0.2222222222222222,\"#3e4989\"],[0.3333333333333333,\"#31688e\"],[0.4444444444444444,\"#26828e\"],[0.5555555555555556,\"#1f9e89\"],[0.6666666666666666,\"#35b779\"],[0.7777777777777778,\"#6ece58\"],[0.8888888888888888,\"#b5de2b\"],[1.0,\"#fde725\"]],\"sequentialminus\":[[0.0,\"#440154\"],[0.1111111111111111,\"#482878\"],[0.2222222222222222,\"#3e4989\"],[0.3333333333333333,\"#31688e\"],[0.4444444444444444,\"#26828e\"],[0.5555555555555556,\"#1f9e89\"],[0.6666666666666666,\"#35b779\"],[0.7777777777777778,\"#6ece58\"],[0.8888888888888888,\"#b5de2b\"],[1.0,\"#fde725\"]]},\"colorway\":[\"#1F77B4\",\"#FF7F0E\",\"#2CA02C\",\"#D62728\",\"#9467BD\",\"#8C564B\",\"#E377C2\",\"#7F7F7F\",\"#BCBD22\",\"#17BECF\"],\"font\":{\"color\":\"rgb(36,36,36)\"},\"geo\":{\"bgcolor\":\"white\",\"lakecolor\":\"white\",\"landcolor\":\"white\",\"showlakes\":true,\"showland\":true,\"subunitcolor\":\"white\"},\"hoverlabel\":{\"align\":\"left\"},\"hovermode\":\"closest\",\"mapbox\":{\"style\":\"light\"},\"paper_bgcolor\":\"white\",\"plot_bgcolor\":\"white\",\"polar\":{\"angularaxis\":{\"gridcolor\":\"rgb(232,232,232)\",\"linecolor\":\"rgb(36,36,36)\",\"showgrid\":false,\"showline\":true,\"ticks\":\"outside\"},\"bgcolor\":\"white\",\"radialaxis\":{\"gridcolor\":\"rgb(232,232,232)\",\"linecolor\":\"rgb(36,36,36)\",\"showgrid\":false,\"showline\":true,\"ticks\":\"outside\"}},\"scene\":{\"xaxis\":{\"backgroundcolor\":\"white\",\"gridcolor\":\"rgb(232,232,232)\",\"gridwidth\":2,\"linecolor\":\"rgb(36,36,36)\",\"showbackground\":true,\"showgrid\":false,\"showline\":true,\"ticks\":\"outside\",\"zeroline\":false,\"zerolinecolor\":\"rgb(36,36,36)\"},\"yaxis\":{\"backgroundcolor\":\"white\",\"gridcolor\":\"rgb(232,232,232)\",\"gridwidth\":2,\"linecolor\":\"rgb(36,36,36)\",\"showbackground\":true,\"showgrid\":false,\"showline\":true,\"ticks\":\"outside\",\"zeroline\":false,\"zerolinecolor\":\"rgb(36,36,36)\"},\"zaxis\":{\"backgroundcolor\":\"white\",\"gridcolor\":\"rgb(232,232,232)\",\"gridwidth\":2,\"linecolor\":\"rgb(36,36,36)\",\"showbackground\":true,\"showgrid\":false,\"showline\":true,\"ticks\":\"outside\",\"zeroline\":false,\"zerolinecolor\":\"rgb(36,36,36)\"}},\"shapedefaults\":{\"fillcolor\":\"black\",\"line\":{\"width\":0},\"opacity\":0.3},\"ternary\":{\"aaxis\":{\"gridcolor\":\"rgb(232,232,232)\",\"linecolor\":\"rgb(36,36,36)\",\"showgrid\":false,\"showline\":true,\"ticks\":\"outside\"},\"baxis\":{\"gridcolor\":\"rgb(232,232,232)\",\"linecolor\":\"rgb(36,36,36)\",\"showgrid\":false,\"showline\":true,\"ticks\":\"outside\"},\"bgcolor\":\"white\",\"caxis\":{\"gridcolor\":\"rgb(232,232,232)\",\"linecolor\":\"rgb(36,36,36)\",\"showgrid\":false,\"showline\":true,\"ticks\":\"outside\"}},\"title\":{\"x\":0.05},\"xaxis\":{\"automargin\":true,\"gridcolor\":\"rgb(232,232,232)\",\"linecolor\":\"rgb(36,36,36)\",\"showgrid\":false,\"showline\":true,\"ticks\":\"outside\",\"title\":{\"standoff\":15},\"zeroline\":false,\"zerolinecolor\":\"rgb(36,36,36)\"},\"yaxis\":{\"automargin\":true,\"gridcolor\":\"rgb(232,232,232)\",\"linecolor\":\"rgb(36,36,36)\",\"showgrid\":false,\"showline\":true,\"ticks\":\"outside\",\"title\":{\"standoff\":15},\"zeroline\":false,\"zerolinecolor\":\"rgb(36,36,36)\"}}},\"xaxis\":{\"anchor\":\"y\",\"domain\":[0.0,1.0],\"title\":{\"text\":\"\"},\"visible\":false,\"range\":[-9.950230407714844,-2.0000675678253175]},\"yaxis\":{\"anchor\":\"x\",\"domain\":[0.0,1.0],\"title\":{\"text\":\"\"},\"visible\":false,\"range\":[0.2895255655050278,9.702585411071777]},\"legend\":{\"tracegroupgap\":0,\"itemsizing\":\"constant\"},\"margin\":{\"t\":60},\"title\":{\"font\":{\"size\":22,\"color\":\"Black\"},\"text\":\"<b>Intertopic Distance Map\",\"y\":0.95,\"x\":0.5,\"xanchor\":\"center\",\"yanchor\":\"top\"},\"hoverlabel\":{\"font\":{\"size\":16,\"family\":\"Rockwell\"},\"bgcolor\":\"white\"},\"width\":650,\"height\":650,\"sliders\":[{\"active\":0,\"pad\":{\"t\":50},\"steps\":[{\"args\":[{\"marker.color\":[[\"red\",\"#B0BEC5\",\"#B0BEC5\",\"#B0BEC5\",\"#B0BEC5\"]]}],\"label\":\"Topic 0\",\"method\":\"update\"},{\"args\":[{\"marker.color\":[[\"#B0BEC5\",\"red\",\"#B0BEC5\",\"#B0BEC5\",\"#B0BEC5\"]]}],\"label\":\"Topic 1\",\"method\":\"update\"},{\"args\":[{\"marker.color\":[[\"#B0BEC5\",\"#B0BEC5\",\"red\",\"#B0BEC5\",\"#B0BEC5\"]]}],\"label\":\"Topic 2\",\"method\":\"update\"},{\"args\":[{\"marker.color\":[[\"#B0BEC5\",\"#B0BEC5\",\"#B0BEC5\",\"red\",\"#B0BEC5\"]]}],\"label\":\"Topic 3\",\"method\":\"update\"},{\"args\":[{\"marker.color\":[[\"#B0BEC5\",\"#B0BEC5\",\"#B0BEC5\",\"#B0BEC5\",\"red\"]]}],\"label\":\"Topic 4\",\"method\":\"update\"}]}],\"shapes\":[{\"line\":{\"color\":\"#CFD8DC\",\"width\":2},\"type\":\"line\",\"x0\":-5.975148987770081,\"x1\":-5.975148987770081,\"y0\":0.2895255655050278,\"y1\":9.702585411071777},{\"line\":{\"color\":\"#9E9E9E\",\"width\":2},\"type\":\"line\",\"x0\":-9.950230407714844,\"x1\":-2.0000675678253175,\"y0\":4.996055488288402,\"y1\":4.996055488288402}],\"annotations\":[{\"showarrow\":false,\"text\":\"D1\",\"x\":-9.950230407714844,\"y\":4.996055488288402,\"yshift\":10},{\"showarrow\":false,\"text\":\"D2\",\"x\":-5.975148987770081,\"xshift\":10,\"y\":9.702585411071777}]},                        {\"responsive\": true}                    ).then(function(){\n",
              "                            \n",
              "var gd = document.getElementById('15500307-4cef-483f-b0c4-ee0221847ec4');\n",
              "var x = new MutationObserver(function (mutations, observer) {{\n",
              "        var display = window.getComputedStyle(gd).display;\n",
              "        if (!display || display === 'none') {{\n",
              "            console.log([gd, 'removed!']);\n",
              "            Plotly.purge(gd);\n",
              "            observer.disconnect();\n",
              "        }}\n",
              "}});\n",
              "\n",
              "// Listen for the removal of the full notebook cells\n",
              "var notebookContainer = gd.closest('#notebook-container');\n",
              "if (notebookContainer) {{\n",
              "    x.observe(notebookContainer, {childList: true});\n",
              "}}\n",
              "\n",
              "// Listen for the clearing of the current output cell\n",
              "var outputEl = gd.closest('.output');\n",
              "if (outputEl) {{\n",
              "    x.observe(outputEl, {childList: true});\n",
              "}}\n",
              "\n",
              "                        })                };                            </script>        </div>\n",
              "</body>\n",
              "</html>"
            ]
          },
          "metadata": {}
        }
      ]
    },
    {
      "cell_type": "markdown",
      "source": [
        "# **7) Visualizing the Topics**"
      ],
      "metadata": {
        "id": "2S9kZUxCJQj9"
      }
    },
    {
      "cell_type": "markdown",
      "source": [
        "## **i) LDA**"
      ],
      "metadata": {
        "id": "W_KxdrPpeeKQ"
      }
    },
    {
      "cell_type": "markdown",
      "source": [
        "### **I. BOW**"
      ],
      "metadata": {
        "id": "IOKs1UWqJ_Rk"
      }
    },
    {
      "cell_type": "code",
      "source": [
        "lda_prep = gensimvis.prepare(lda_model, corpus, id2word)\n",
        "\n",
        "pyLDAvis.display(lda_prep)"
      ],
      "metadata": {
        "id": "93LFl-stJTi2",
        "colab": {
          "base_uri": "https://localhost:8080/",
          "height": 881
        },
        "outputId": "f9c2cc96-c74d-4492-f0ef-ffbb15342985"
      },
      "execution_count": 21,
      "outputs": [
        {
          "output_type": "execute_result",
          "data": {
            "text/plain": [
              "<IPython.core.display.HTML object>"
            ],
            "text/html": [
              "\n",
              "<link rel=\"stylesheet\" type=\"text/css\" href=\"https://cdn.jsdelivr.net/gh/bmabey/pyLDAvis@3.3.1/pyLDAvis/js/ldavis.v1.0.0.css\">\n",
              "\n",
              "\n",
              "<div id=\"ldavis_el4101397826351719206007785109\"></div>\n",
              "<script type=\"text/javascript\">\n",
              "\n",
              "var ldavis_el4101397826351719206007785109_data = {\"mdsDat\": {\"x\": [-0.14755168354418244, -0.03834292510171115, 0.04452607029916168, 0.08774822325232971, 0.05362031509440235], \"y\": [0.005808585722371126, 0.02413387297309518, -0.10614650878466818, 0.07098681846720593, 0.005217231621995968], \"topics\": [1, 2, 3, 4, 5], \"cluster\": [1, 1, 1, 1, 1], \"Freq\": [44.63809592807939, 34.08882292236912, 8.29728271845578, 6.803592556061373, 6.172205875034336]}, \"tinfo\": {\"Term\": [\"use\", \"technology\", \"mobile\", \"phone\", \"make\", \"user\", \"new\", \"software\", \"could\", \"net\", \"one\", \"site\", \"service\", \"music\", \"firm\", \"get\", \"take\", \"computer\", \"search\", \"digital\", \"company\", \"many\", \"work\", \"show\", \"find\", \"system\", \"online\", \"year\", \"network\", \"way\", \"andreas\", \"gameplay\", \"oscar\", \"knife\", \"enemy\", \"shooter\", \"actress\", \"score\", \"doom\", \"blast\", \"festival\", \"ukip\", \"harry\", \"chelsea\", \"aviator\", \"arsenal\", \"referee\", \"kilroysilk\", \"nomination\", \"robinson\", \"ball\", \"sequel\", \"nominate\", \"leicester\", \"ceremony\", \"blockbuster\", \"alien\", \"premiership\", \"halflife\", \"adventure\", \"award\", \"cup\", \"coach\", \"actor\", \"grand\", \"league\", \"army\", \"rugby\", \"squad\", \"title\", \"prize\", \"season\", \"beat\", \"win\", \"tour\", \"winner\", \"football\", \"gadget\", \"ea\", \"game\", \"england\", \"injury\", \"play\", \"album\", \"race\", \"match\", \"sport\", \"labour\", \"good\", \"star\", \"howard\", \"vote\", \"party\", \"election\", \"film\", \"th\", \"first\", \"player\", \"top\", \"blair\", \"list\", \"side\", \"get\", \"time\", \"team\", \"take\", \"year\", \"well\", \"include\", \"go\", \"last\", \"two\", \"make\", \"new\", \"like\", \"one\", \"number\", \"give\", \"back\", \"see\", \"come\", \"think\", \"world\", \"could\", \"farmer\", \"patent\", \"consultation\", \"parliament\", \"agricultural\", \"currency\", \"implement\", \"shopping\", \"creditor\", \"imf\", \"industrial\", \"recession\", \"boeing\", \"nuclear\", \"ebber\", \"hamper\", \"worldcom\", \"mci\", \"construction\", \"gdp\", \"mep\", \"eu\", \"aircraft\", \"worthwhile\", \"disease\", \"monopoly\", \"agriculture\", \"airbus\", \"poland\", \"hiphop\", \"directive\", \"export\", \"economic\", \"invention\", \"investor\", \"river\", \"bn\", \"oil\", \"rap\", \"economy\", \"yukos\", \"debt\", \"economist\", \"exchange\", \"investment\", \"shareholder\", \"hole\", \"spanish\", \"reserve\", \"law\", \"value\", \"government\", \"finance\", \"bt\", \"council\", \"local\", \"plan\", \"commission\", \"tax\", \"production\", \"minister\", \"european\", \"business\", \"company\", \"price\", \"could\", \"us\", \"software\", \"bill\", \"world\", \"firm\", \"project\", \"technology\", \"computer\", \"mean\", \"year\", \"offer\", \"need\", \"make\", \"country\", \"one\", \"use\", \"go\", \"home\", \"group\", \"new\", \"game\", \"become\", \"want\", \"come\", \"well\", \"get\", \"time\", \"ce\", \"tracker\", \"essentially\", \"euronext\", \"boerse\", \"antipiracy\", \"vhs\", \"siemen\", \"commonplace\", \"ringtone\", \"strain\", \"preshow\", \"shopper\", \"bug\", \"walmart\", \"peertopeer\", \"swap\", \"infringe\", \"keynote\", \"warner\", \"packard\", \"fsecure\", \"consumer\", \"mac\", \"fileshare\", \"dvds\", \"mini\", \"bros\", \"nielsen\", \"multimedia\", \"recorder\", \"gartner\", \"showcase\", \"revolution\", \"file\", \"content\", \"tag\", \"digital\", \"dvd\", \"highdefinition\", \"format\", \"music\", \"device\", \"store\", \"technology\", \"electronic\", \"billion\", \"storage\", \"mobile\", \"video\", \"portable\", \"ipod\", \"medium\", \"movie\", \"design\", \"market\", \"drive\", \"show\", \"phone\", \"network\", \"apple\", \"new\", \"firm\", \"use\", \"player\", \"tv\", \"industry\", \"year\", \"computer\", \"make\", \"one\", \"million\", \"could\", \"pc\", \"company\", \"work\", \"like\", \"jeeve\", \"pew\", \"blog\", \"spyware\", \"hotspot\", \"query\", \"search\", \"existence\", \"yahoo\", \"blogging\", \"wifi\", \"cafe\", \"msn\", \"google\", \"advertise\", \"bombard\", \"password\", \"crackdown\", \"spy\", \"webpage\", \"bump\", \"advert\", \"participate\", \"uniform\", \"canne\", \"log\", \"loophole\", \"automatically\", \"login\", \"blogger\", \"web\", \"user\", \"hacker\", \"site\", \"malicious\", \"net\", \"program\", \"security\", \"information\", \"desktop\", \"engine\", \"internet\", \"attack\", \"website\", \"software\", \"service\", \"access\", \"online\", \"use\", \"find\", \"broadband\", \"microsoft\", \"tool\", \"network\", \"many\", \"file\", \"system\", \"firm\", \"radio\", \"one\", \"computer\", \"call\", \"get\", \"make\", \"company\", \"new\", \"tmobile\", \"domain\", \"ds\", \"unsolicited\", \"handheld\", \"silicon\", \"phishe\", \"pornographic\", \"donate\", \"donation\", \"dec\", \"circulate\", \"library\", \"print\", \"backup\", \"scam\", \"refund\", \"alert\", \"mario\", \"virginia\", \"juror\", \"mixture\", \"filter\", \"texas\", \"laser\", \"spam\", \"shore\", \"shrink\", \"junk\", \"oxford\", \"psp\", \"megapixel\", \"email\", \"fake\", \"spammer\", \"message\", \"phone\", \"address\", \"chip\", \"camera\", \"send\", \"mobile\", \"mail\", \"nintendo\", \"use\", \"site\", \"digital\", \"intel\", \"image\", \"service\", \"make\", \"access\", \"work\", \"could\", \"light\", \"online\", \"take\", \"website\", \"way\", \"get\", \"report\", \"new\", \"world\", \"one\", \"million\", \"year\", \"system\", \"technology\", \"many\", \"go\", \"help\"], \"Freq\": [1924.0, 1338.0, 1034.0, 814.0, 2296.0, 616.0, 1905.0, 830.0, 1897.0, 534.0, 1975.0, 487.0, 762.0, 732.0, 871.0, 1845.0, 1683.0, 988.0, 291.0, 543.0, 1089.0, 988.0, 1100.0, 919.0, 763.0, 695.0, 594.0, 2521.0, 588.0, 1054.0, 132.14465567441601, 118.15097471996094, 106.76185832279731, 110.89902637686089, 85.7390630369627, 90.17557595343406, 99.6437783623589, 114.45325754256902, 76.57126558054551, 67.61728368818751, 89.16603217860265, 66.33682287773313, 71.38756838594347, 123.90673135667616, 59.28063271853674, 93.37090260522886, 57.545828557930214, 60.651380429768665, 87.12313101075404, 85.88669210609, 118.62053830091916, 75.1114549372987, 53.06884785416763, 59.51988532378492, 83.63917306413096, 51.229857833696194, 60.81927411979085, 81.3959199886125, 49.92821570607698, 42.96946165432209, 482.2704866524851, 171.28742252252698, 164.88386377424314, 154.49205146428423, 156.93196917755986, 171.76756651965118, 106.53636128280655, 123.38023018281694, 94.09465223458145, 660.7779421485349, 226.44151369404003, 163.36600935712153, 241.28357400089487, 921.7071878198085, 197.1257103749373, 175.7918631447223, 176.8526292440901, 707.790879352682, 125.64514596907215, 2953.7516400769787, 339.6683135667502, 151.86834383069635, 1110.601354902438, 142.71368227334293, 190.9304004373862, 253.58186873435116, 260.40608352516864, 394.88714705247935, 1062.7486214908545, 363.8319765762532, 195.15402472848476, 236.2502662066464, 377.35454734487, 363.20870505202004, 693.3983996723422, 275.1211788380316, 903.2184790238518, 822.9939739592356, 568.2100142636982, 276.6906243066809, 415.94506358423183, 238.10987933258755, 1112.4043479503875, 974.742092305947, 361.66754913753385, 968.3241941746696, 1230.2034444541018, 807.9045183260755, 579.5062933983947, 889.8145154374249, 672.1179768861948, 587.4038929456144, 993.5077560420087, 879.9987571119846, 642.4624940688066, 876.8199207506324, 536.894358652977, 559.0591936125038, 487.9824774438205, 543.8680102994206, 538.6468770727888, 485.7929356000295, 544.1777000024166, 529.5850015658204, 88.01897770277564, 289.4238395064667, 47.181443297446286, 259.59266645096216, 35.560199502598714, 46.30577297795926, 30.667030223585776, 44.76516827713387, 30.52855046213642, 27.892698872167188, 34.64260022474014, 30.463908843962376, 25.05884138411079, 42.39576952722917, 32.781020567568376, 27.2174944185703, 28.114080330760526, 24.97639530898437, 32.387699483394755, 31.434872606195494, 84.7532433394715, 231.21310123249197, 19.45203505436291, 22.23382648302184, 53.96591717049349, 25.537221037039426, 21.338986795989054, 18.32746409751365, 25.39236843372211, 254.6455577825396, 142.21217008620124, 94.81736662422188, 226.76770084648098, 130.69273923541542, 86.6439612957149, 43.8520391792416, 485.13208855646764, 153.07049143404504, 148.93835562834934, 238.43235974877027, 83.90139051429308, 109.95918414963856, 67.96272332296832, 160.55253239327644, 151.69983961214825, 62.873918162543255, 83.22494238857958, 148.8100149233852, 85.98194445965639, 421.844227035943, 208.316440531423, 631.9009481285232, 94.04918399169345, 209.56499347445038, 205.23729609479605, 258.073571802468, 482.2853778344137, 173.3799699717332, 195.87648112474298, 188.06041642923736, 387.62647381025687, 425.01929848413016, 353.3735848918173, 690.5161692483722, 288.0860237571833, 945.8294459862974, 540.4748094238247, 478.94060380608863, 296.88702983801875, 720.4567854501382, 479.2354557816083, 246.68857486783398, 621.1585620518263, 497.0390210445418, 430.0132286701, 874.080984740376, 404.0273646497502, 431.5546311983209, 733.9789898970575, 317.91090805556996, 618.1046665057175, 599.5550231222151, 558.6274163504781, 373.136801962338, 336.786221453205, 527.8803374448713, 666.7022416975262, 361.5790050000304, 406.48220132751464, 410.02374149272885, 406.94478478019494, 384.04329018372937, 378.10582741862675, 61.08388619785811, 29.848890410313043, 11.404355650825321, 5.2466437117201234, 8.970325715583096, 9.605730787717505, 7.0372909686930285, 8.695758225825097, 9.067178356665416, 14.054235495821999, 13.576175032678172, 10.886393354096736, 7.353478516374849, 9.559665240783477, 4.157192384420577, 35.207168728018054, 37.28891412558552, 8.608675189391972, 29.299624065168903, 12.785545288175394, 9.256172562789049, 13.33258984073927, 255.42032118636536, 129.53721659553415, 45.835017391290364, 56.08157446311511, 101.33124184621617, 7.023019235505552, 18.76843385031123, 59.78784814143758, 48.39322782596716, 30.94186005182709, 44.075399552416215, 34.70240106151869, 155.77761123955307, 157.59805707580455, 44.860729931325885, 238.76405815540835, 98.3816836860653, 75.38056743158363, 69.01601317153748, 285.793729799791, 172.29215170009473, 67.55339969093751, 439.76636969331736, 116.59682645300217, 66.68065214997533, 51.402978097701194, 306.0371654805906, 210.3202849652635, 90.535576448771, 77.60453801588277, 155.70068048155545, 108.80324262076721, 112.02064196974544, 190.46637692964086, 107.87927390792896, 207.96467459847113, 170.01004516187027, 143.63935104553505, 126.10837570074284, 255.6150317011627, 169.63986062947433, 242.02081388503711, 183.87316270724705, 132.74655885265318, 133.00377656024844, 230.46368476831051, 159.38653346817622, 201.03980976126877, 185.2852404018569, 136.3799112804108, 160.91031383139713, 135.25942720327555, 139.83570307131708, 132.21885741287034, 131.25669747538765, 43.55058878229223, 25.537700083276018, 131.83028061730036, 57.39883005900365, 30.86700843612421, 31.793855259838434, 264.4539826297723, 10.427904113755135, 44.265058316847934, 11.204597374659498, 43.85185287177793, 30.383783833931123, 25.28653219356023, 94.8566312905833, 12.202937048628085, 12.959926688921795, 12.388004961947571, 7.68508175674897, 7.886166716177501, 14.46360963153532, 6.036124127870642, 28.551436881287767, 7.88304136273595, 10.884218985704106, 5.099222158543518, 29.895888373847367, 7.945864557477001, 32.63658293028369, 9.323964335790434, 30.76832719649021, 148.44105021330202, 353.054961423018, 23.276274262089288, 272.0940824014739, 45.845441210816865, 292.9668974223869, 152.15071049248004, 171.56313308706865, 186.74074860182495, 44.87813027061663, 79.85426661366338, 158.5404066201399, 123.30633963457576, 162.24223634344239, 211.8378924946284, 192.89783850431448, 102.22166249265395, 150.71437173540014, 305.5569076214122, 165.89798193408026, 122.28483300502646, 129.6082760873754, 75.5164508817395, 129.8191016276224, 156.6350338017179, 87.65192041670116, 128.74348048673545, 139.13486542313885, 104.49213029542582, 173.10944931630158, 134.58840971281523, 115.79982140297734, 140.16295371607956, 141.1620052587641, 117.2047130473067, 109.05747550457201, 21.48512840569735, 81.89126525756036, 43.587179900262996, 6.831519010132571, 46.7453180812874, 44.72601613245288, 27.496444171131106, 7.913051297882319, 23.571647986161988, 25.060818344994434, 18.708478821430532, 15.747892101281865, 45.524172753082205, 63.67037839439971, 14.43314457111094, 12.638655306683571, 4.462363748484196, 15.897815376414894, 10.196337741693663, 13.142274864657594, 5.020262514124638, 5.605334696352812, 19.394071188981755, 23.09106217225337, 34.64650694557003, 96.47653677484256, 6.211062399901564, 8.376974327986124, 30.71950567332166, 12.627689352410428, 31.37013529863588, 21.5140353013023, 154.03653759268317, 43.720439683470694, 34.599756829264145, 127.82102111599488, 294.91651328122697, 62.30158710663313, 66.42358494094428, 102.95983893866814, 102.53193020976398, 231.80029300585474, 37.02147800099636, 68.29391816109808, 345.1606208302788, 118.29870363641969, 114.88146132699798, 43.50567806163315, 70.75241061485895, 126.7321810245451, 227.2851126726249, 79.86157093206869, 136.4220114928104, 174.8547255251567, 52.89161719525888, 99.34452682415477, 152.32610364945756, 85.65902155623507, 114.46995833415222, 141.74941172006908, 93.0117994063347, 133.21631027313052, 115.7522456199811, 122.32924629016226, 93.0123319129609, 121.61077022220186, 90.1169460972197, 101.56369720418543, 91.6664950597622, 89.25965008377906, 83.42063561794818], \"Total\": [1924.0, 1338.0, 1034.0, 814.0, 2296.0, 616.0, 1905.0, 830.0, 1897.0, 534.0, 1975.0, 487.0, 762.0, 732.0, 871.0, 1845.0, 1683.0, 988.0, 291.0, 543.0, 1089.0, 988.0, 1100.0, 919.0, 763.0, 695.0, 594.0, 2521.0, 588.0, 1054.0, 132.79051794606502, 118.76171710554773, 107.39115832063935, 111.59613960102664, 86.3128488781605, 90.78454704635136, 100.31735094906693, 115.26251085852135, 77.14225601191063, 68.19141307349032, 89.9409269487032, 66.91895615528388, 72.05718508352764, 125.08416248467802, 59.85841272259453, 94.28704700478328, 58.111076617277064, 61.258066762255346, 88.0032385237405, 86.78063418238305, 119.88899759679383, 75.93842873642802, 53.6696809494516, 60.19442774265568, 84.61172502465197, 51.84535592486294, 61.55525024600351, 82.38213585610086, 50.54316060089219, 43.499944003939625, 492.05037514427136, 174.01764737745148, 167.46483898761207, 157.1007514353738, 160.76883342318604, 176.83197658200226, 108.61618484243093, 126.18649954631015, 95.80475308144935, 702.3587522813497, 235.91921997238276, 168.52335254300743, 252.4039433469243, 1027.399084439524, 207.64542893116092, 184.10463140666897, 185.32781626066426, 809.8822918888318, 129.60957024405565, 3784.212749827218, 376.02962001472116, 158.65915357341208, 1347.7812378947567, 148.48059729498104, 203.59224883301493, 278.3651656779087, 286.637506227765, 459.81245549642904, 1407.5253051567588, 422.9403629909066, 211.79442281872304, 264.2509495580299, 452.91184710413904, 435.92721033212473, 925.9980470765942, 316.50333129542406, 1299.8350890636884, 1177.8935017100032, 777.768040235583, 322.58000252813645, 537.6770382678344, 268.2073044325685, 1845.2200821297818, 1600.5982079857558, 462.0753472370356, 1683.5198423259067, 2521.9094040884347, 1428.2970153914982, 937.7502049419724, 1737.346487487176, 1185.4917940265962, 1010.425553152309, 2296.973673631724, 1905.767912035721, 1186.1362767349083, 1975.6485232646708, 917.0082135377415, 1007.517812920642, 794.7416604801248, 1133.2999431956835, 1153.1045637852117, 924.6412647600894, 1503.6996873898636, 1897.8605120637433, 88.77757683136585, 292.22463022563073, 47.77413812205518, 263.3847896136189, 36.10394707539635, 47.10245938423583, 31.267585229595255, 45.65520375851552, 31.13932084651519, 28.468518300023007, 35.38258129863075, 31.115936970457152, 25.606155068050256, 43.32570708710358, 33.50668219078209, 27.824213319586928, 28.742238705829795, 25.53469208334714, 33.16274578753977, 32.25565823019475, 86.97061951177318, 237.47563961696358, 19.98292245812278, 22.84220257675443, 55.44917605625458, 26.24028072093921, 21.934806677269307, 18.852618629873426, 26.123251724230897, 262.3301962664928, 146.66382219216248, 97.91010828673986, 238.39909888550957, 136.63904806958573, 90.25525760372967, 45.40233950544912, 534.0284908571538, 162.69960949777084, 158.56039990798692, 258.18496125629264, 88.11942864042078, 116.61525164107877, 71.20002949925077, 173.30573243201843, 163.77815083053585, 66.0749500924804, 88.89778758769913, 164.44442356787954, 92.53564635211139, 504.9430720311186, 238.92316499127986, 819.2838829865606, 102.41155049830503, 247.23293147613143, 243.67573333984072, 316.5702563389886, 641.5384123292982, 203.5906320965832, 235.77811580455352, 225.84154073481375, 539.0309204215463, 601.9775422413827, 483.2946169367568, 1089.880172331462, 395.10381290049344, 1897.8605120637433, 947.3415996162029, 830.0616509564707, 427.9939334785047, 1503.6996873898636, 871.0695247871703, 333.7052263609832, 1338.2337523961694, 988.9714667106437, 809.5645359576786, 2521.9094040884347, 749.2164053373594, 851.4955968509807, 2296.973673631724, 524.5158360946623, 1975.6485232646708, 1924.842533217116, 1737.346487487176, 770.837938940778, 601.778665812155, 1905.767912035721, 3784.212749827218, 724.9465932114845, 1001.6050100677395, 1153.1045637852117, 1428.2970153914982, 1845.2200821297818, 1600.5982079857558, 66.07262182338843, 33.927458354265184, 13.008379122851522, 6.055688074429639, 10.668413274045346, 11.544321361849768, 8.494029015594363, 10.771251035158688, 11.260557131895792, 17.60916377866898, 17.212938214524264, 13.808909455756812, 9.40996547012246, 12.292804458947511, 5.352771088917463, 45.39089067940448, 49.161241899770175, 11.39369076935358, 39.01991753135603, 17.099620022589296, 12.394164778445518, 17.89227099601884, 346.5851627451333, 176.35124371021294, 64.46576014396526, 78.98098693387887, 144.69931371972137, 10.137184678224438, 27.125754994948355, 86.41811111358551, 70.52724854826336, 45.158720221657134, 70.13841850056367, 54.24605472257577, 294.8189567738937, 319.1936833274373, 74.57551887799588, 543.7633104561121, 195.3833618513272, 142.03838269619598, 128.61743441507252, 732.6186079477302, 409.15459277639394, 131.282703853871, 1338.2337523961694, 259.80114954212604, 129.883164652671, 96.68921012151422, 1034.3727132808697, 629.0922137988167, 207.29434577809377, 167.890672023894, 469.0444617190153, 291.11437967006543, 311.5977001499852, 754.9672393245344, 298.77521060006774, 919.0019298516742, 814.1388169027782, 588.5037593735756, 457.40043773346923, 1905.767912035721, 871.0695247871703, 1924.842533217116, 1177.8935017100032, 562.0180911195808, 598.0588244337533, 2521.9094040884347, 988.9714667106437, 2296.973673631724, 1975.6485232646708, 762.2535141673682, 1897.8605120637433, 815.0105334707434, 1089.880172331462, 1100.6722501017382, 1186.1362767349083, 44.58492663408119, 27.33918796646584, 141.32118248211543, 61.6991458059984, 33.42618085680501, 34.45675278739026, 291.7896026010768, 11.921319024912282, 52.25043888143597, 13.444387069689457, 52.854405051473925, 37.957106541064476, 31.777570117670905, 119.49779572009705, 15.735636132523219, 17.069741081670916, 16.9726710621911, 10.806244578725268, 11.390834928292469, 21.916856270342954, 9.280726170548984, 43.92131553069127, 12.32413753698796, 17.046976391772553, 8.036166868656926, 47.2227050218021, 12.657506745574663, 51.99312422690556, 14.887653658127324, 50.07937821201729, 243.47929487992988, 616.0715420509639, 38.168104807332384, 487.51600229865613, 77.08476905011133, 534.3607863059444, 294.5928459686365, 354.72001166842716, 400.4563233002552, 81.41178434873386, 160.64498100447813, 378.06386159038414, 295.88930858313466, 502.8869792185367, 830.0616509564707, 762.9433916023191, 321.40304868599475, 594.6776101557277, 1924.842533217116, 763.5054807628861, 456.823239928953, 530.3857711898083, 205.7005449665341, 588.5037593735756, 988.0114138165292, 294.8189567738937, 695.9685338656622, 871.0695247871703, 481.1881501643257, 1975.6485232646708, 988.9714667106437, 671.5143594946156, 1845.2200821297818, 2296.973673631724, 1089.880172331462, 1905.767912035721, 22.60557387467619, 89.55252963647597, 48.2147863574373, 7.868092228980496, 55.123861857441426, 52.95036351119928, 32.66346345303079, 9.632742934037276, 28.902341693062123, 31.15111314340924, 23.43666832760871, 20.982807656250824, 60.71300488539188, 85.80137752184893, 19.791675758928996, 17.569340280060956, 6.371615456823141, 22.895863153493274, 14.760090519180743, 19.05014365170201, 7.2857530502382915, 8.252678526274572, 28.7054317834518, 34.1897209751996, 51.40443181588603, 144.7645676317407, 9.330234337419093, 12.62094212516827, 46.376367145328146, 19.24597331171784, 48.79445588743157, 33.336800786714704, 282.1776592013771, 75.89753269251959, 59.96162715702571, 293.8193660267955, 814.1388169027782, 127.83774671897962, 138.40216833948784, 275.04623376632685, 301.40194932425214, 1034.3727132808697, 75.90837949509032, 183.3527427513913, 1924.842533217116, 487.51600229865613, 543.7633104561121, 102.96408492256526, 249.363940923737, 762.9433916023191, 2296.973673631724, 321.40304868599475, 1100.6722501017382, 1897.8605120637433, 150.93559237162185, 594.6776101557277, 1683.5198423259067, 502.8869792185367, 1054.9697728038077, 1845.2200821297818, 640.7627953907984, 1905.767912035721, 1503.6996873898636, 1975.6485232646708, 762.2535141673682, 2521.9094040884347, 695.9685338656622, 1338.2337523961694, 988.0114138165292, 1737.346487487176, 817.4273452156261], \"Category\": [\"Default\", \"Default\", \"Default\", \"Default\", \"Default\", \"Default\", \"Default\", \"Default\", \"Default\", \"Default\", \"Default\", \"Default\", \"Default\", \"Default\", \"Default\", \"Default\", \"Default\", \"Default\", \"Default\", \"Default\", \"Default\", \"Default\", \"Default\", \"Default\", \"Default\", \"Default\", \"Default\", \"Default\", \"Default\", \"Default\", \"Topic1\", \"Topic1\", \"Topic1\", \"Topic1\", \"Topic1\", \"Topic1\", \"Topic1\", \"Topic1\", \"Topic1\", \"Topic1\", \"Topic1\", \"Topic1\", \"Topic1\", \"Topic1\", \"Topic1\", \"Topic1\", \"Topic1\", \"Topic1\", \"Topic1\", \"Topic1\", \"Topic1\", \"Topic1\", \"Topic1\", \"Topic1\", \"Topic1\", \"Topic1\", \"Topic1\", \"Topic1\", \"Topic1\", \"Topic1\", \"Topic1\", \"Topic1\", \"Topic1\", \"Topic1\", \"Topic1\", \"Topic1\", \"Topic1\", \"Topic1\", \"Topic1\", \"Topic1\", \"Topic1\", \"Topic1\", \"Topic1\", \"Topic1\", \"Topic1\", \"Topic1\", \"Topic1\", \"Topic1\", \"Topic1\", \"Topic1\", \"Topic1\", \"Topic1\", \"Topic1\", \"Topic1\", \"Topic1\", \"Topic1\", \"Topic1\", \"Topic1\", \"Topic1\", \"Topic1\", \"Topic1\", \"Topic1\", \"Topic1\", \"Topic1\", \"Topic1\", \"Topic1\", \"Topic1\", \"Topic1\", \"Topic1\", \"Topic1\", \"Topic1\", \"Topic1\", \"Topic1\", \"Topic1\", \"Topic1\", \"Topic1\", \"Topic1\", \"Topic1\", \"Topic1\", \"Topic1\", \"Topic1\", \"Topic1\", \"Topic1\", \"Topic1\", \"Topic1\", \"Topic1\", \"Topic1\", \"Topic1\", \"Topic1\", \"Topic1\", \"Topic1\", \"Topic1\", \"Topic1\", \"Topic1\", \"Topic2\", \"Topic2\", \"Topic2\", \"Topic2\", \"Topic2\", \"Topic2\", \"Topic2\", \"Topic2\", \"Topic2\", \"Topic2\", \"Topic2\", \"Topic2\", \"Topic2\", \"Topic2\", \"Topic2\", \"Topic2\", \"Topic2\", \"Topic2\", \"Topic2\", \"Topic2\", \"Topic2\", \"Topic2\", \"Topic2\", \"Topic2\", \"Topic2\", \"Topic2\", \"Topic2\", \"Topic2\", \"Topic2\", \"Topic2\", \"Topic2\", \"Topic2\", \"Topic2\", \"Topic2\", \"Topic2\", \"Topic2\", \"Topic2\", \"Topic2\", \"Topic2\", \"Topic2\", \"Topic2\", \"Topic2\", \"Topic2\", \"Topic2\", \"Topic2\", \"Topic2\", \"Topic2\", \"Topic2\", \"Topic2\", \"Topic2\", \"Topic2\", \"Topic2\", \"Topic2\", \"Topic2\", \"Topic2\", \"Topic2\", \"Topic2\", \"Topic2\", \"Topic2\", \"Topic2\", \"Topic2\", \"Topic2\", \"Topic2\", \"Topic2\", \"Topic2\", \"Topic2\", \"Topic2\", \"Topic2\", \"Topic2\", \"Topic2\", \"Topic2\", \"Topic2\", \"Topic2\", \"Topic2\", \"Topic2\", \"Topic2\", \"Topic2\", \"Topic2\", \"Topic2\", \"Topic2\", \"Topic2\", \"Topic2\", \"Topic2\", \"Topic2\", \"Topic2\", \"Topic2\", \"Topic2\", \"Topic2\", \"Topic2\", \"Topic2\", \"Topic2\", \"Topic2\", \"Topic2\", \"Topic3\", \"Topic3\", \"Topic3\", \"Topic3\", \"Topic3\", \"Topic3\", \"Topic3\", \"Topic3\", \"Topic3\", \"Topic3\", \"Topic3\", \"Topic3\", \"Topic3\", \"Topic3\", \"Topic3\", \"Topic3\", \"Topic3\", \"Topic3\", \"Topic3\", \"Topic3\", \"Topic3\", \"Topic3\", \"Topic3\", \"Topic3\", \"Topic3\", \"Topic3\", \"Topic3\", \"Topic3\", \"Topic3\", \"Topic3\", \"Topic3\", \"Topic3\", \"Topic3\", \"Topic3\", \"Topic3\", \"Topic3\", \"Topic3\", \"Topic3\", \"Topic3\", \"Topic3\", \"Topic3\", \"Topic3\", \"Topic3\", \"Topic3\", \"Topic3\", \"Topic3\", \"Topic3\", \"Topic3\", \"Topic3\", \"Topic3\", \"Topic3\", \"Topic3\", \"Topic3\", \"Topic3\", \"Topic3\", \"Topic3\", \"Topic3\", \"Topic3\", \"Topic3\", \"Topic3\", \"Topic3\", \"Topic3\", \"Topic3\", \"Topic3\", \"Topic3\", \"Topic3\", \"Topic3\", \"Topic3\", \"Topic3\", \"Topic3\", \"Topic3\", \"Topic3\", \"Topic3\", \"Topic3\", \"Topic3\", \"Topic3\", \"Topic3\", \"Topic4\", \"Topic4\", \"Topic4\", \"Topic4\", \"Topic4\", \"Topic4\", \"Topic4\", \"Topic4\", \"Topic4\", \"Topic4\", \"Topic4\", \"Topic4\", \"Topic4\", \"Topic4\", \"Topic4\", \"Topic4\", \"Topic4\", \"Topic4\", \"Topic4\", \"Topic4\", \"Topic4\", \"Topic4\", \"Topic4\", \"Topic4\", \"Topic4\", \"Topic4\", \"Topic4\", \"Topic4\", \"Topic4\", \"Topic4\", \"Topic4\", \"Topic4\", \"Topic4\", \"Topic4\", \"Topic4\", \"Topic4\", \"Topic4\", \"Topic4\", \"Topic4\", \"Topic4\", \"Topic4\", \"Topic4\", \"Topic4\", \"Topic4\", \"Topic4\", \"Topic4\", \"Topic4\", \"Topic4\", \"Topic4\", \"Topic4\", \"Topic4\", \"Topic4\", \"Topic4\", \"Topic4\", \"Topic4\", \"Topic4\", \"Topic4\", \"Topic4\", \"Topic4\", \"Topic4\", \"Topic4\", \"Topic4\", \"Topic4\", \"Topic4\", \"Topic4\", \"Topic4\", \"Topic5\", \"Topic5\", \"Topic5\", \"Topic5\", \"Topic5\", \"Topic5\", \"Topic5\", \"Topic5\", \"Topic5\", \"Topic5\", \"Topic5\", \"Topic5\", \"Topic5\", \"Topic5\", \"Topic5\", \"Topic5\", \"Topic5\", \"Topic5\", \"Topic5\", \"Topic5\", \"Topic5\", \"Topic5\", \"Topic5\", \"Topic5\", \"Topic5\", \"Topic5\", \"Topic5\", \"Topic5\", \"Topic5\", \"Topic5\", \"Topic5\", \"Topic5\", \"Topic5\", \"Topic5\", \"Topic5\", \"Topic5\", \"Topic5\", \"Topic5\", \"Topic5\", \"Topic5\", \"Topic5\", \"Topic5\", \"Topic5\", \"Topic5\", \"Topic5\", \"Topic5\", \"Topic5\", \"Topic5\", \"Topic5\", \"Topic5\", \"Topic5\", \"Topic5\", \"Topic5\", \"Topic5\", \"Topic5\", \"Topic5\", \"Topic5\", \"Topic5\", \"Topic5\", \"Topic5\", \"Topic5\", \"Topic5\", \"Topic5\", \"Topic5\", \"Topic5\", \"Topic5\", \"Topic5\", \"Topic5\", \"Topic5\", \"Topic5\", \"Topic5\"], \"logprob\": [30.0, 29.0, 28.0, 27.0, 26.0, 25.0, 24.0, 23.0, 22.0, 21.0, 20.0, 19.0, 18.0, 17.0, 16.0, 15.0, 14.0, 13.0, 12.0, 11.0, 10.0, 9.0, 8.0, 7.0, 6.0, 5.0, 4.0, 3.0, 2.0, 1.0, -7.1941, -7.3061, -7.4074, -7.3694, -7.6267, -7.5763, -7.4764, -7.3379, -7.7398, -7.8642, -7.5875, -7.8833, -7.8099, -7.2585, -7.9957, -7.5415, -8.0254, -7.9729, -7.6107, -7.625, -7.3021, -7.7591, -8.1064, -7.9917, -7.6515, -8.1417, -7.9701, -7.6787, -8.1674, -8.3175, -5.8995, -6.9347, -6.9728, -7.0379, -7.0222, -6.9319, -7.4095, -7.2628, -7.5337, -5.5846, -6.6555, -6.982, -6.5921, -5.2518, -6.7942, -6.9087, -6.9027, -5.5159, -7.2446, -4.0872, -6.2501, -7.055, -5.0654, -7.1172, -6.8261, -6.5423, -6.5158, -6.0994, -5.1094, -6.1813, -6.8042, -6.6131, -6.1448, -6.1831, -5.5364, -6.4608, -5.2721, -5.3651, -5.7355, -6.4551, -6.0475, -6.6053, -5.0638, -5.1959, -6.1873, -5.2025, -4.9631, -5.3836, -5.7159, -5.287, -5.5676, -5.7023, -5.1768, -5.2981, -5.6127, -5.3017, -5.7922, -5.7518, -5.8878, -5.7793, -5.789, -5.8922, -5.7788, -5.8059, -7.3309, -6.1405, -7.9544, -6.2493, -8.2372, -7.9731, -8.3852, -8.007, -8.3898, -8.48, -8.2633, -8.3919, -8.5872, -8.0614, -8.3186, -8.5046, -8.4721, -8.5905, -8.3306, -8.3605, -7.3687, -6.3651, -8.8405, -8.7068, -7.8201, -8.5683, -8.7479, -8.9, -8.574, -6.2685, -6.8511, -7.2565, -6.3845, -6.9356, -7.3466, -8.0276, -5.624, -6.7775, -6.8049, -6.3343, -7.3788, -7.1083, -7.5895, -6.7298, -6.7865, -7.6673, -7.3869, -6.8057, -7.3543, -5.7638, -6.4694, -5.3597, -7.2646, -6.4634, -6.4842, -6.2552, -5.6299, -6.6529, -6.5309, -6.5716, -5.8484, -5.7563, -5.9409, -5.271, -6.1452, -4.9564, -5.516, -5.6368, -6.1151, -5.2285, -5.6362, -6.3003, -5.3768, -5.5997, -5.7446, -5.0352, -5.8069, -5.741, -5.2099, -6.0466, -5.3818, -5.4122, -5.4829, -5.8865, -5.989, -5.5395, -5.3061, -5.9179, -5.8009, -5.7922, -5.7997, -5.8577, -5.8732, -6.2831, -6.9992, -7.9614, -8.7378, -8.2014, -8.133, -8.4441, -8.2325, -8.1907, -7.7524, -7.7871, -8.0079, -8.4002, -8.1378, -8.9705, -6.8341, -6.7767, -8.2426, -7.0178, -7.8471, -8.1701, -7.8052, -4.8525, -5.5314, -6.5703, -6.3686, -5.777, -8.4462, -7.4632, -6.3046, -6.516, -6.9633, -6.6095, -6.8486, -5.3469, -5.3353, -6.5918, -4.9199, -5.8065, -6.0728, -6.161, -4.7401, -5.2462, -6.1825, -4.3091, -5.6366, -6.1955, -6.4557, -4.6717, -5.0467, -5.8896, -6.0437, -5.3474, -5.7058, -5.6767, -5.1459, -5.7144, -5.058, -5.2595, -5.4281, -5.5582, -4.8517, -5.2617, -4.9063, -5.1811, -5.5069, -5.505, -4.9553, -5.324, -5.0919, -5.1735, -5.4799, -5.3145, -5.4882, -5.4549, -5.5109, -5.5182, -6.423, -6.9567, -5.3154, -6.1469, -6.7672, -6.7376, -4.6192, -7.8524, -6.4067, -7.7806, -6.4161, -6.783, -6.9666, -5.6445, -7.6952, -7.635, -7.6802, -8.1576, -8.1318, -7.5253, -8.3991, -6.8452, -8.1322, -7.8096, -8.5678, -6.7992, -8.1242, -6.7115, -7.9643, -6.7704, -5.1967, -4.3303, -7.0495, -4.5907, -6.3716, -4.5168, -5.172, -5.0519, -4.9672, -6.3929, -5.8167, -5.1309, -5.3822, -5.1078, -4.8411, -4.9347, -5.5698, -5.1815, -4.4748, -5.0855, -5.3905, -5.3324, -5.8725, -5.3308, -5.143, -5.7235, -5.3391, -5.2615, -5.5478, -5.043, -5.2947, -5.445, -5.2541, -5.247, -5.433, -5.505, -7.0321, -5.6941, -6.3247, -8.178, -6.2548, -6.2989, -6.7854, -8.031, -6.9395, -6.8782, -7.1705, -7.3428, -6.2813, -5.9458, -7.43, -7.5627, -8.6038, -7.3333, -7.7775, -7.5237, -8.486, -8.3758, -7.1345, -6.9601, -6.5543, -5.5302, -8.2732, -7.974, -6.6746, -7.5636, -6.6536, -7.0308, -5.0623, -6.3217, -6.5557, -5.2489, -4.4128, -5.9675, -5.9034, -5.4652, -5.4693, -4.6536, -6.488, -5.8757, -4.2555, -5.3263, -5.3556, -6.3266, -5.8403, -5.2574, -4.6733, -5.7192, -5.1837, -4.9355, -6.1313, -5.5009, -5.0735, -5.6491, -5.3592, -5.1454, -5.5668, -5.2075, -5.348, -5.2928, -5.5668, -5.2987, -5.5984, -5.4788, -5.5813, -5.608, -5.6756], \"loglift\": [30.0, 29.0, 28.0, 27.0, 26.0, 25.0, 24.0, 23.0, 22.0, 21.0, 20.0, 19.0, 18.0, 17.0, 16.0, 15.0, 14.0, 13.0, 12.0, 11.0, 10.0, 9.0, 8.0, 7.0, 6.0, 5.0, 4.0, 3.0, 2.0, 1.0, 0.8017, 0.8014, 0.8007, 0.8003, 0.7999, 0.7999, 0.7998, 0.7995, 0.7992, 0.7981, 0.7979, 0.7978, 0.7972, 0.7971, 0.7969, 0.7968, 0.7968, 0.7966, 0.7965, 0.7962, 0.7959, 0.7956, 0.7953, 0.7953, 0.795, 0.7946, 0.7946, 0.7945, 0.7943, 0.7943, 0.7865, 0.7908, 0.7911, 0.7898, 0.7824, 0.7775, 0.7872, 0.7841, 0.7886, 0.7456, 0.7656, 0.7755, 0.7615, 0.698, 0.7546, 0.7604, 0.7598, 0.6718, 0.7755, 0.5588, 0.7049, 0.7628, 0.613, 0.767, 0.7424, 0.7133, 0.7106, 0.6544, 0.5256, 0.656, 0.7248, 0.6946, 0.6241, 0.6241, 0.5173, 0.6665, 0.4426, 0.448, 0.4926, 0.6531, 0.5499, 0.6876, 0.3005, 0.3106, 0.5616, 0.2535, 0.0887, 0.2368, 0.3253, 0.1375, 0.2391, 0.2642, -0.0315, 0.0339, 0.1934, -0.0058, 0.2713, 0.2176, 0.3188, 0.0724, 0.0454, 0.163, -0.2098, -0.4698, 1.0676, 1.0666, 1.0637, 1.0617, 1.061, 1.0591, 1.0568, 1.0565, 1.0564, 1.0558, 1.0551, 1.055, 1.0546, 1.0545, 1.0543, 1.0542, 1.0541, 1.0541, 1.0526, 1.0504, 1.0504, 1.0495, 1.0493, 1.0492, 1.0491, 1.049, 1.0487, 1.0479, 1.0478, 1.0465, 1.0454, 1.0441, 1.0262, 1.0317, 1.0354, 1.0415, 0.9802, 1.0152, 1.0136, 0.9966, 1.0271, 1.0174, 1.0297, 0.9998, 0.9996, 1.0265, 1.0103, 0.9763, 1.0027, 0.8964, 0.9391, 0.8165, 0.991, 0.9109, 0.9045, 0.8719, 0.7909, 0.9156, 0.8908, 0.8931, 0.7465, 0.7281, 0.7631, 0.6198, 0.7603, 0.3798, 0.515, 0.5263, 0.7104, 0.3404, 0.4787, 0.7741, 0.3087, 0.3882, 0.4435, 0.0166, 0.4587, 0.3966, -0.0647, 0.5755, -0.0858, -0.0902, -0.0584, 0.3507, 0.4958, -0.2076, -0.66, 0.3806, 0.1744, 0.0422, -0.1794, -0.4934, -0.3668, 2.4107, 2.3612, 2.3576, 2.3458, 2.3159, 2.3054, 2.3011, 2.2752, 2.2726, 2.2637, 2.2519, 2.2514, 2.2426, 2.2378, 2.2365, 2.2352, 2.2128, 2.209, 2.2027, 2.1985, 2.1973, 2.1951, 2.184, 2.1807, 2.1482, 2.1468, 2.133, 2.1222, 2.1209, 2.1208, 2.1126, 2.1112, 2.0247, 2.0425, 1.8513, 1.7835, 1.981, 1.6662, 1.8031, 1.8557, 1.8667, 1.5479, 1.6243, 1.8248, 1.3764, 1.688, 1.8225, 1.8574, 1.2714, 1.3936, 1.6608, 1.7176, 1.3865, 1.5051, 1.4662, 1.112, 1.4706, 1.0033, 0.923, 1.079, 1.2008, 0.4803, 0.8532, 0.4157, 0.632, 1.0461, 0.9859, 0.0966, 0.6639, 0.0534, 0.1225, 0.7684, 0.0216, 0.6932, 0.4359, 0.37, 0.2879, 2.6642, 2.6196, 2.6182, 2.6155, 2.6081, 2.6073, 2.5894, 2.5539, 2.5219, 2.5055, 2.501, 2.4652, 2.4592, 2.4568, 2.4335, 2.4123, 2.3728, 2.3469, 2.32, 2.2721, 2.2575, 2.257, 2.2409, 2.2391, 2.2329, 2.2306, 2.2221, 2.222, 2.2198, 2.2006, 2.1929, 2.131, 2.1932, 2.1045, 2.1681, 2.0867, 2.027, 1.9613, 1.9248, 2.0921, 1.9887, 1.8187, 1.8124, 1.5564, 1.322, 1.3127, 1.5422, 1.3151, 0.8473, 1.1612, 1.3698, 1.2786, 1.6856, 1.1763, 0.8459, 1.4747, 1.0002, 0.8534, 1.1606, 0.253, 0.6933, 0.93, 0.1102, -0.1017, 0.4578, -0.173, 2.7343, 2.6957, 2.6842, 2.6438, 2.6202, 2.6163, 2.6129, 2.5885, 2.5812, 2.5676, 2.5598, 2.4981, 2.4972, 2.4868, 2.4694, 2.4557, 2.4289, 2.4203, 2.4152, 2.4139, 2.4127, 2.3983, 2.393, 2.3926, 2.3906, 2.3793, 2.3782, 2.3752, 2.3732, 2.3637, 2.3434, 2.3472, 2.1798, 2.2335, 2.2353, 1.9528, 1.7697, 2.0663, 2.051, 1.8025, 1.7068, 1.2894, 2.0671, 1.7975, 1.0665, 1.369, 1.2305, 1.9236, 1.5254, 0.99, 0.472, 1.3927, 0.6972, 0.4006, 1.7365, 0.9957, 0.3825, 1.0151, 0.5642, 0.2188, 0.8552, 0.1244, 0.2209, 0.0032, 0.6816, -0.2468, 0.7409, 0.2067, 0.4076, -0.1835, 0.5028]}, \"token.table\": {\"Topic\": [1, 2, 3, 4, 5, 1, 2, 4, 1, 1, 2, 3, 4, 5, 1, 1, 2, 3, 4, 5, 1, 2, 3, 4, 2, 2, 2, 2, 1, 2, 3, 4, 1, 2, 3, 4, 5, 1, 1, 1, 2, 3, 1, 2, 3, 4, 5, 1, 2, 1, 2, 1, 2, 3, 4, 5, 1, 2, 3, 4, 5, 1, 1, 2, 3, 5, 1, 2, 3, 4, 5, 1, 3, 5, 1, 2, 1, 2, 4, 1, 2, 3, 4, 5, 1, 2, 3, 4, 5, 1, 2, 3, 4, 5, 1, 2, 4, 1, 1, 1, 2, 4, 5, 1, 2, 4, 5, 2, 4, 1, 2, 3, 4, 5, 2, 2, 3, 1, 2, 4, 5, 1, 2, 3, 4, 5, 1, 2, 3, 1, 2, 4, 5, 1, 3, 1, 2, 4, 1, 2, 3, 4, 5, 2, 4, 1, 2, 3, 4, 5, 1, 2, 3, 4, 5, 1, 3, 4, 1, 2, 3, 1, 2, 1, 2, 1, 2, 3, 4, 5, 1, 2, 3, 5, 1, 2, 1, 2, 3, 4, 5, 1, 2, 3, 4, 5, 1, 3, 1, 2, 3, 4, 5, 1, 2, 3, 4, 5, 1, 2, 2, 1, 2, 3, 4, 5, 1, 2, 3, 4, 5, 1, 2, 3, 4, 5, 1, 2, 5, 1, 2, 3, 4, 5, 2, 4, 2, 1, 2, 2, 1, 2, 3, 4, 1, 5, 1, 2, 3, 4, 5, 1, 2, 3, 4, 1, 2, 3, 4, 5, 1, 2, 3, 4, 5, 2, 3, 5, 1, 2, 2, 4, 5, 1, 2, 3, 5, 1, 2, 5, 1, 1, 2, 3, 4, 5, 1, 5, 1, 2, 3, 4, 5, 1, 2, 3, 5, 1, 2, 3, 2, 1, 2, 3, 5, 1, 2, 3, 1, 2, 3, 1, 2, 4, 5, 1, 2, 3, 4, 5, 1, 2, 3, 4, 5, 1, 1, 2, 3, 4, 5, 1, 2, 3, 1, 2, 3, 1, 2, 3, 3, 1, 2, 3, 4, 5, 1, 2, 3, 4, 2, 4, 1, 2, 3, 5, 1, 2, 3, 4, 5, 2, 1, 2, 1, 2, 3, 4, 5, 1, 3, 4, 1, 2, 3, 4, 5, 1, 2, 4, 5, 1, 2, 3, 5, 1, 2, 3, 4, 5, 1, 2, 3, 4, 5, 1, 2, 3, 4, 5, 1, 2, 5, 1, 2, 3, 4, 5, 3, 4, 1, 2, 3, 4, 5, 1, 2, 3, 4, 5, 1, 1, 3, 5, 2, 1, 2, 3, 4, 5, 1, 2, 3, 4, 5, 1, 2, 3, 4, 5, 1, 2, 3, 4, 5, 1, 2, 3, 4, 5, 1, 2, 3, 4, 5, 1, 2, 5, 1, 2, 3, 4, 5, 2, 3, 4, 5, 1, 2, 1, 3, 5, 1, 1, 2, 3, 4, 5, 1, 2, 3, 5, 1, 2, 1, 2, 4, 5, 1, 2, 3, 4, 5, 2, 4, 5, 1, 2, 4, 1, 2, 3, 4, 5, 2, 2, 1, 2, 3, 4, 5, 2, 1, 2, 3, 4, 5, 1, 2, 3, 4, 5, 2, 3, 4, 1, 2, 5, 1, 2, 3, 5, 1, 2, 3, 4, 5, 1, 2, 3, 1, 2, 3, 1, 2, 3, 1, 2, 3, 4, 5, 4, 3, 4, 5, 2, 5, 1, 2, 3, 1, 1, 1, 2, 4, 5, 1, 2, 3, 5, 1, 2, 3, 4, 5, 1, 2, 3, 4, 5, 1, 2, 4, 1, 1, 2, 3, 4, 5, 1, 2, 3, 4, 5, 1, 2, 3, 4, 5, 1, 2, 3, 4, 5, 1, 2, 3, 4, 5, 1, 2, 4, 5, 3, 4, 5, 2, 4, 1, 2, 3, 4, 5, 1, 2, 3, 4, 5, 1, 2, 3, 4, 5, 1, 2, 3, 4, 5, 1, 2, 3, 4, 5, 1, 2, 5, 1, 2, 3, 4, 5, 1, 2, 3, 2, 1, 2, 3, 4, 5, 1, 2, 3, 4, 5, 1, 3, 5, 1, 2, 1, 2, 3, 4, 5, 1, 2, 3, 4, 5, 1, 2, 3, 4, 5, 1, 2, 3, 4, 5, 1, 2, 1, 2, 4, 5, 1, 2, 3, 4, 5, 2, 1, 2, 3, 4, 5, 2, 3, 4, 1, 2, 3, 5, 1, 2, 3, 4, 5, 1, 2, 3, 4, 5, 1, 2, 3, 4, 5, 1, 2, 3, 4, 5, 1, 2, 3, 4, 5, 1, 3, 4, 1, 2, 5, 1, 1, 2, 2, 1, 2, 3, 4, 5, 1, 2, 3, 4, 5, 1, 2, 3, 5, 1, 2, 3, 4, 5, 1, 2, 3, 4, 5, 1, 1, 2, 5, 1, 3, 5, 1, 2, 1, 2, 4, 1, 2, 3, 4, 5, 4, 5, 2, 5, 1, 2, 3, 4, 5, 2, 3, 4, 5, 4, 5, 4, 5, 1, 2, 3, 4, 5, 1, 2, 3, 4, 5, 1, 2, 3, 4, 5, 1, 2, 3, 4, 5, 2, 2, 4, 5, 1, 2, 3, 4, 5, 1, 2, 1, 3, 1, 2, 3, 4, 5, 1, 2, 3, 4, 5, 1, 2, 3, 4, 5, 1, 2, 3, 1, 2, 3, 4, 5, 1, 2, 3, 4, 5, 1, 3, 5, 1, 4, 1, 2, 3, 4, 1, 2, 3, 4, 5, 1, 2, 2, 1, 2, 3, 4, 1, 2, 5, 1, 2, 3, 4, 5, 1, 2, 4, 5, 1, 2, 3, 4, 5, 3, 4, 5, 1, 2, 1, 2, 1, 2, 2, 4, 5, 1, 2, 1, 2, 3, 4, 5, 1, 2, 1, 2, 3, 4, 5, 1, 2, 3, 4, 5, 1, 2, 3, 4, 5, 1, 2, 1, 2, 3, 4, 5, 2, 3, 1, 1, 3, 1, 2, 1, 2, 5, 1, 2, 3, 4, 5, 1, 2, 3, 4, 1, 2, 5, 1, 2, 3, 4, 5, 2, 3, 4, 1, 2, 4, 5, 1, 2, 3, 4, 5, 1, 2, 3, 4, 5, 1, 2, 3, 4, 5, 2, 3, 4, 5, 1, 2, 1, 2, 3, 1, 2, 4, 1, 2, 4, 5, 1, 2, 1, 2, 3, 5, 1, 2, 3, 4, 5, 1, 2, 3, 4, 5, 1, 2, 3, 1, 2, 3, 4, 5, 1, 2, 3, 4, 5, 1, 2, 3, 4, 1, 2, 3, 4, 5, 1, 2, 3, 1, 2, 3, 4, 5, 1, 2, 3, 4, 5, 1, 2, 3, 5, 1, 2, 4, 5, 1, 2, 3, 4, 5, 1, 2, 3, 4, 5, 1, 2, 3, 5, 5, 1, 2, 3, 4, 5, 1, 2, 3, 4, 5, 1, 2, 3, 4, 5, 1, 3, 4, 5, 1, 2, 3, 4, 5, 1, 2, 3, 4, 5, 1, 1, 2, 4, 5, 1, 2, 3, 4, 5, 1, 2, 3, 4, 5, 1, 2, 3, 4, 5, 1, 2, 3, 4, 5, 2, 3, 1, 2, 3, 4, 5, 1, 2, 3, 5, 1, 2, 3, 4, 5, 2, 3, 1, 2, 3, 4, 5, 1, 2, 3, 1, 2, 3, 4, 5, 1, 2, 3, 4, 5, 4, 5, 1, 2, 3, 4, 5, 1, 2, 3, 4, 5, 1, 2, 3, 4, 1, 2, 3, 4, 5, 1, 2, 4, 5, 1, 2, 3, 4, 5, 1, 2, 3, 4, 5, 2, 2, 1, 2, 3, 4, 5, 1, 2, 3, 4, 5, 2, 3], \"Freq\": [0.024890865325349985, 0.3360266818922248, 0.0715612378103812, 0.3173585328982123, 0.24890865325349987, 0.9802626568807383, 0.0063653419277970025, 0.012730683855594005, 0.9968365298119958, 0.03911207861783806, 0.17991556164205508, 0.1955603930891903, 0.10169140440637896, 0.48498977486119194, 0.9885070195976724, 0.0455359766854534, 0.0455359766854534, 0.0683039650281801, 0.6602716619390744, 0.1821439067418136, 0.06355002057610806, 0.06355002057610806, 0.06355002057610806, 0.7626002469132968, 0.9971208944224499, 0.9573824975518005, 0.9547745251409061, 0.9508118764818989, 0.9630887981673933, 0.006734886700471282, 0.006734886700471282, 0.02693954680188513, 0.1310280368068274, 0.08735202453788493, 0.043676012268942466, 0.08735202453788493, 0.6988161963030795, 0.9909796444042633, 0.9940468795642012, 0.08662267522322058, 0.08662267522322058, 0.8662267522322058, 0.5487533008139788, 0.026235217568795797, 0.27546978447235587, 0.12024474719031407, 0.02842148569952878, 0.9851202208512891, 0.018413462071986714, 0.9863496944101136, 0.010605910692581867, 0.27037137767187275, 0.24671388212558387, 0.006759284441796819, 0.4156959931705043, 0.057453917755272955, 0.03846662476506911, 0.15386649906027644, 0.09616656191267277, 0.6346993086236403, 0.07693324953013822, 0.9856592802322921, 0.9795744995797949, 0.004064624479584211, 0.010161561198960528, 0.004064624479584211, 0.6140360122875478, 0.25794545598144936, 0.04655600912835915, 0.027681951373618955, 0.052847361713272555, 0.1515788777333093, 0.10105258515553954, 0.7073680960887768, 0.9925848275103303, 0.008341048970675044, 0.9548186799472866, 0.035657129126662156, 0.007923806472591591, 0.2772618036724306, 0.4993471290020889, 0.062073538135618785, 0.09655883709985144, 0.0662117740113267, 0.1658902018141943, 0.6939350695607847, 0.05373907946093619, 0.03271074401970029, 0.05607556117662906, 0.015398454490605689, 0.3618636805292337, 0.5158482254352905, 0.0692930452077256, 0.04619536347181707, 0.8587017106735846, 0.13950027790726102, 0.0031000061757169117, 0.9971930032703086, 0.9836946644538794, 0.014152160099941885, 0.014152160099941885, 0.9340425665961644, 0.042456480299825655, 0.03993659808499919, 0.019968299042499596, 0.6190172703174875, 0.31949278467999354, 0.14876096542244202, 0.8181853098234312, 0.011235355608779548, 0.9081912450430134, 0.07302981145706706, 0.0037451185362598494, 0.0037451185362598494, 0.9763277592266643, 0.09373465147182201, 0.843611863246398, 0.058583196734821964, 0.058583196734821964, 0.7615815575526855, 0.1757495902044659, 0.024079335372059366, 0.6063614452782222, 0.06785994513944003, 0.26706171958102204, 0.0328354573255355, 0.19729343634196342, 0.09864671817098171, 0.690527027196872, 0.004044768607601706, 0.8494014075963582, 0.04449245468361876, 0.10111921519004263, 0.16269680418972812, 0.8134840209486406, 0.2155003782297451, 0.10775018911487255, 0.6465011346892353, 0.1075948255529704, 0.7304033350038183, 0.08483438168599589, 0.06828133160092352, 0.01034565630317023, 0.18441869356998913, 0.7903658295856677, 0.3693145150114821, 0.32463937206654475, 0.04616431437643526, 0.17274388605375776, 0.08637194302687888, 0.34539647643643023, 0.007271504767082743, 0.24723116208081325, 0.0254502666847896, 0.3744824955047612, 0.1244374359497501, 0.1244374359497501, 0.6221871797487505, 0.06053944719632841, 0.015134861799082102, 0.9232265697440082, 0.9927702097496092, 0.011818692973209633, 0.9913325359250751, 0.007994617225202219, 0.13005576585944556, 0.15895704716154457, 0.20953428944021785, 0.02167596097657426, 0.4768711414846337, 0.04765806446794063, 0.04765806446794063, 0.1429741934038219, 0.7625290314870501, 0.9852814536919335, 0.011942805499296164, 0.4674337583320842, 0.3555618569872997, 0.09712909264043308, 0.04683009823735167, 0.03295451357443265, 0.04420635619290385, 0.8497444023747074, 0.00982363470953419, 0.03929453883813676, 0.05402999090243804, 0.1776111054341133, 0.7992499744535099, 0.07432009688434418, 0.634014653667677, 0.12845448844207638, 0.10735125105516383, 0.05596945567833328, 0.12437163673599465, 0.5025423045348727, 0.1607730913904321, 0.13650545495414046, 0.07583636386341137, 0.030154318535823104, 0.9649381931463393, 0.9837958746617809, 0.02885293738714849, 0.10098528085501972, 0.7357499033722865, 0.06636175599044153, 0.06636175599044153, 0.10965129270461181, 0.20050522094557588, 0.49499726420939044, 0.14724602163190728, 0.04699341115911935, 0.2792618301666835, 0.4984560213918539, 0.08483236727704913, 0.045841092876417855, 0.09220909486635775, 0.09849154723391583, 0.8412819659563644, 0.057453402553117566, 0.24403457663554534, 0.6062734013289329, 0.030504322079443168, 0.05338256363902554, 0.06672820454878192, 0.2776172589972869, 0.7403126906594317, 0.995525886797535, 0.9826589577383145, 0.011493087225009526, 0.9765944411682929, 0.017150415334656638, 0.9432728434061151, 0.025725623001984957, 0.017150415334656638, 0.17067272293510874, 0.8106954339417666, 0.2695783696720715, 0.2631598370608317, 0.35943782622942866, 0.04172046197305868, 0.06739459241801787, 0.0736994041832878, 0.3193640847942471, 0.04913293612219186, 0.5527455313746584, 0.2688470371396169, 0.13442351856980844, 0.42037900352740093, 0.03421689563595124, 0.14419977446579452, 0.15815704801389166, 0.13424958726760572, 0.4395294706432571, 0.05884913414470388, 0.21148907583252954, 0.9682005956039259, 0.013636628107097547, 0.013636628107097547, 0.018034533082790533, 0.9738647864706889, 0.01116663040183609, 0.07816641281285264, 0.9156636929505594, 0.10379781790207457, 0.06919854526804972, 0.03459927263402486, 0.8303825432165965, 0.09630474475146393, 0.09630474475146393, 0.8025395395955327, 0.9981559262165127, 0.2376368503176746, 0.29453581447824456, 0.36147577231420924, 0.05689896416056997, 0.046857970485175274, 0.08296210150857562, 0.9125831165943318, 0.030708858436807797, 0.45039659040651436, 0.5015780211345273, 0.005118143072801299, 0.010236286145602598, 0.025322550117971503, 0.22790295106174352, 0.709031403303202, 0.03798382517695725, 0.9721504342830641, 0.015430959274334351, 0.015430959274334351, 0.9848781748101136, 0.0293625270931151, 0.9521848071624467, 0.012583940182763613, 0.008389293455175742, 0.01404493800119174, 0.9550557840810382, 0.02808987600238348, 0.038731922848416, 0.9218197637923008, 0.0348587305635744, 0.8327078268948551, 0.13763765733799257, 0.025233570511965304, 0.004587921911266419, 0.44649533000311425, 0.05003826974172832, 0.4503444276755549, 0.01154729301732192, 0.04234007439684704, 0.010631599994452571, 0.06733346663153295, 0.17010559991124113, 0.20200039989459884, 0.5457554663818986, 0.9963754078074504, 0.08092378559674773, 0.385944208230643, 0.01244981316873042, 0.4979925267492168, 0.02489962633746084, 0.904184090568954, 0.08775904408463377, 0.0053187299445232586, 0.07687352825098116, 0.07687352825098116, 0.8456088107607928, 0.00842191646783603, 0.9727313520350616, 0.01684383293567206, 0.8256700045553337, 0.18439226085861338, 0.7060064041883846, 0.07143123618847186, 0.0016611915392667873, 0.03654621386386932, 0.02308059833836746, 0.9289940831192902, 0.02308059833836746, 0.028850747922959323, 0.08388333521737608, 0.8388333521737609, 0.010213450046152506, 0.970277754384488, 0.010213450046152506, 0.010213450046152506, 0.026351317744445185, 0.026351317744445185, 0.1844592242111163, 0.1844592242111163, 0.579728990377794, 0.991241292462365, 0.9895383894671239, 0.011118408870417122, 0.02035147286882775, 0.09836545219933414, 0.5291382945895216, 0.29848826874280704, 0.054270594316874005, 0.01551211058035762, 0.7135570866964506, 0.2637058798660795, 0.7483817079180928, 0.08099369133312692, 0.10475184079084415, 0.010799158844416923, 0.053995794222084614, 0.03483661237161683, 0.03483661237161683, 0.209019674229701, 0.6618956350607198, 0.039058094331519785, 0.917865216790715, 0.019529047165759893, 0.019529047165759893, 0.2920738693023931, 0.3077908488164232, 0.07596540098447892, 0.21741821661075, 0.10739936001253916, 0.014924181859279613, 0.5498987008149949, 0.19516237815981033, 0.15957394449537432, 0.08036097924227484, 0.6947035109280354, 0.17463753818456704, 0.04462104499869995, 0.03461977629209479, 0.05154500025711891, 0.9550644019408767, 0.032375064472572095, 0.010791688157524031, 0.21769987970401244, 0.13994992266686515, 0.5364747035563164, 0.00777499570371473, 0.1010749441482915, 0.726570707703488, 0.22356021775491935, 0.8742011118045082, 0.001234747333057215, 0.11359675464126379, 0.00246949466611443, 0.00740848399834329, 0.7806115023884097, 0.17625858906332745, 0.020347693190219212, 0.005813626625776918, 0.016912368365896487, 0.9935861730184419, 0.022144117350792903, 0.68646763787458, 0.2878735255603077, 0.9610716910120496, 0.6026381409834388, 0.20810525731802204, 0.03631003187580072, 0.07587170839719554, 0.0769555899457269, 0.554828900125888, 0.27493310435576207, 0.06749260323534953, 0.054589605558003296, 0.04962691414363936, 0.5122754766593842, 0.3217550465759503, 0.062163765706981455, 0.052378728512364005, 0.05122754766593842, 0.7552262087974408, 0.1527503620803855, 0.041917541222059276, 0.024866338013086013, 0.025576804813459898, 0.008368355198302799, 0.008368355198302799, 0.008368355198302799, 0.7949937438387659, 0.17573545916435876, 0.18308672136109944, 0.7714053860014323, 0.007323468854443977, 0.02319098470573926, 0.013426359566480625, 0.9765574375148603, 0.006220111066973633, 0.012440222133947266, 0.2110410475063983, 0.5600065591311514, 0.09970443189278659, 0.06314614019876484, 0.06646962126185774, 0.026199886136549604, 0.10479954454619841, 0.6025973811406409, 0.26199886136549605, 0.9892535291731913, 0.9703778392538875, 0.12698674882581792, 0.01814096411797399, 0.8526253135447776, 0.9853285264709942, 0.34743148936996315, 0.35966499251679285, 0.07951777045439297, 0.11132487863615016, 0.10153807611868641, 0.042242103057687726, 0.41538068006726264, 0.5280262882210967, 0.014080701019229242, 0.026683927735444247, 0.972057367505469, 0.011248873871168994, 0.9336565313070265, 0.011248873871168994, 0.03374662161350698, 0.3022684642639274, 0.48388900073152324, 0.09340484732619216, 0.06745905640224989, 0.05318887139408164, 0.029916669340237137, 0.9274167495473512, 0.029916669340237137, 0.9207041309435351, 0.07082339468796424, 0.009443119291728565, 0.11228568130691856, 0.26868359455584084, 0.19248973938328895, 0.1443673045374667, 0.28472440617111494, 0.9835425821925328, 0.9914420884238294, 0.6185015976998802, 0.2260729977799562, 0.06824845215998677, 0.0490535749899905, 0.03838975433999257, 0.9891872982527267, 0.20064915874055853, 0.4681813703946366, 0.22238615093745237, 0.0551785186536536, 0.0551785186536536, 0.06742308319041293, 0.28467524013729906, 0.03745726843911829, 0.4669672798743414, 0.14483477129792408, 0.08776787260979306, 0.7899108534881375, 0.08776787260979306, 0.9580285572976357, 0.02521127782362199, 0.012605638911810995, 0.2233788608649053, 0.20395461209404397, 0.14568186578145997, 0.4273334729589493, 0.018515390417252305, 0.3861781429884052, 0.034385725060611425, 0.42056386804901663, 0.14283301179023206, 0.014637104314291376, 0.9587303325860852, 0.02927420862858275, 0.012211641112430408, 0.928084724544711, 0.054952385005936834, 0.022159373903524848, 0.9639327648033309, 0.022159373903524848, 0.4645880504242614, 0.0119125141134426, 0.4645880504242614, 0.0536063135104917, 0.0059562570567213, 0.9868806191186134, 0.043125413289330394, 0.28031518638064756, 0.6684439059846211, 0.2745083433667282, 0.6862708584168205, 0.23065143571274047, 0.025627937301415608, 0.7432101817410526, 0.9957872199386096, 0.9946580625175931, 0.8590458898586047, 0.13266278299082251, 0.002174799721161025, 0.00434959944232205, 0.2139893314918532, 0.01945357559016847, 0.09726787795084235, 0.6808751456558965, 0.5668533543513705, 0.30704556694032564, 0.04976837486120663, 0.038802461756195, 0.03795892997888641, 0.04356926794045445, 0.8357377759487172, 0.007921685080082628, 0.05941263810061971, 0.05347137429055774, 0.9726747578384868, 0.01696525740415965, 0.011310171602773101, 0.9967700043019447, 0.03294187141248248, 0.03294187141248248, 0.11529654994368868, 0.06588374282496497, 0.757663042487097, 0.23188698868207128, 0.35114315428999365, 0.05300274027018772, 0.019876027601320394, 0.35114315428999365, 0.5412531532778352, 0.2217283166854683, 0.11044262161899751, 0.05901514132312844, 0.06660280235038782, 0.7736986525222914, 0.10229188915559141, 0.03533719807193158, 0.031617493011728254, 0.05765542843315152, 0.1200365455663939, 0.8149849672665691, 0.025270851698188188, 0.018953138773641142, 0.025270851698188188, 0.021176254082401955, 0.2752913030712254, 0.6352876224720586, 0.06352876224720587, 0.06716975172606125, 0.6045277655345513, 0.268679006904245, 0.3160180026290317, 0.6320360052580634, 0.0680460185453461, 0.17578554790881076, 0.7371652009079162, 0.017011504636336525, 0.005670501545445509, 0.06586888079099877, 0.07904265694919853, 0.10539020926559804, 0.2634755231639951, 0.48742971785339095, 0.4327433141314135, 0.3195508979602188, 0.08750644480926972, 0.06138511800053249, 0.0988256864263892, 0.012972731349171185, 0.06486365674585592, 0.23350916428508134, 0.5967456420618745, 0.10378185079336948, 0.43218124206740455, 0.23481510107643525, 0.08198285856547956, 0.15890504684913936, 0.09311633318548294, 0.20325078603694868, 0.06775026201231622, 0.6775026201231623, 0.18941219241240378, 0.46227171434915326, 0.2516665493591379, 0.033114019652518145, 0.06490347851893556, 0.9124704931431644, 0.06825566680992175, 0.017962017581558354, 0.9790601710957836, 0.27916242617106757, 0.5311497489095532, 0.08276054227195365, 0.048174046994122276, 0.05929113476199665, 0.2025394344319334, 0.32619508913774536, 0.33259107127770116, 0.11086369042590039, 0.029847916653127027, 0.05999375923310058, 0.26997191654895264, 0.6599313515641064, 0.022996271743577275, 0.9773415491020342, 0.10210354887657094, 0.10210354887657094, 0.21782090427001802, 0.1429449684271993, 0.43564180854003604, 0.1885420111773948, 0.38839654302543325, 0.15083360894191583, 0.24510461453061322, 0.02828130167660922, 0.25319660245951053, 0.3555247630390018, 0.17841833126680534, 0.09052106512801154, 0.12200665299862425, 0.11748500779297777, 0.15895030466108756, 0.697999163946515, 0.006910882811351634, 0.0207326484340549, 0.27827717171158434, 0.7198102841606315, 0.12117278006361656, 0.12117278006361656, 0.12117278006361656, 0.7270366803816994, 0.42731212291751647, 0.007734156070905275, 0.29583146971212676, 0.04447139740770533, 0.224290526056253, 0.9908430582929141, 0.5221315421528446, 0.013740303740864334, 0.3744232769385531, 0.01717537967608042, 0.07213659463953775, 0.09440621132739652, 0.09440621132739652, 0.7867184277283042, 0.1851463749186794, 0.011571648432417463, 0.6942989059450478, 0.10414483589175717, 0.3344168402797106, 0.11602216907663429, 0.39038047477549886, 0.11875210246667274, 0.04094900085057681, 0.28303141072164245, 0.5073426117499981, 0.0681154432442127, 0.0681154432442127, 0.07398746421354138, 0.06924160782040603, 0.16281134811825204, 0.09918392471571676, 0.5483186781453775, 0.11976926758124287, 0.05607440814843116, 0.3381456733799334, 0.24468832646588146, 0.22089918361503186, 0.1410356326157511, 0.46175612174096964, 0.2770536730445818, 0.134329053597373, 0.05719479235200647, 0.06978814112676018, 0.18432666670222278, 0.7004413334684465, 0.11059600002133366, 0.6162983891286379, 0.005453968045386176, 0.37086982708626, 0.9875221738306524, 0.9885999817669225, 0.011363218181228995, 0.9694013744671649, 0.5855999892610543, 0.16684692431460205, 0.07851619967745979, 0.10250726069001695, 0.06652066917118121, 0.22556900622578088, 0.5392300503858903, 0.08141839869687949, 0.07874894300189983, 0.07474475945943035, 0.012292592503286875, 0.9403833265014461, 0.012292592503286875, 0.036877777509860626, 0.4439048695517949, 0.3128086766054838, 0.09364013781879368, 0.08756618293325032, 0.061751874669690975, 0.33631668081067684, 0.17320309061749858, 0.07062650297024213, 0.25391909401206103, 0.16647675700128503, 0.9963576301181941, 0.20783568257182475, 0.10391784128591237, 0.6754659683584304, 0.0806831293496342, 0.7261481641467078, 0.1613662586992684, 0.01139017938128071, 0.9871488797109949, 0.162283161316358, 0.162283161316358, 0.649132645265432, 0.8323915623106135, 0.1324761107125645, 0.015455546249799189, 0.013247611071256448, 0.004415870357085482, 0.7070189456939167, 0.2356729818979722, 0.9889652346445235, 0.006844050066744107, 0.4159455443555554, 0.27607005156342174, 0.16564203093805305, 0.11410895464621432, 0.028220494159816444, 0.02203085211662826, 0.771079824081989, 0.17624681693302607, 0.02203085211662826, 0.9510158104143955, 0.03657753116978444, 0.12246098781753183, 0.8266116677683398, 0.3586611938131795, 0.02702241871195188, 0.20880959913781, 0.042990211587196174, 0.36234606909208206, 0.1589928179509288, 0.7513190024739967, 0.03273381546048534, 0.04052758104631518, 0.017146284288825652, 0.8243177518447945, 0.08903522072130994, 0.03190428742513606, 0.0215168450076499, 0.03338820777049123, 0.6987049328357889, 0.11121548748662011, 0.1562110663934206, 0.018677410112256813, 0.014432544177652992, 0.9570018412681369, 0.10381259074884083, 0.10381259074884083, 0.8305007259907267, 0.46310959249591355, 0.004824058255165766, 0.4389893012200847, 0.009648116510331532, 0.08200899033781803, 0.983222869354649, 0.012138553942649987, 0.14483402953780813, 0.7965871624579447, 0.14932784264185042, 0.728922350522931, 0.06327450959400442, 0.01771686268632124, 0.03796470575640265, 0.08158377175491713, 0.06992894721850039, 0.10489342082775059, 0.011654824536416732, 0.7459087703306708, 0.9579550153923706, 0.004238739006160932, 0.02119369503080466, 0.004238739006160932, 0.008477478012321864, 0.14612015084837318, 0.832442071499823, 0.017711533436166445, 0.006789031123359078, 0.24101060487924728, 0.2002764181390928, 0.51596636537529, 0.03394515561679539, 0.09289635747708061, 0.7401742031238359, 0.011986626771236207, 0.04794650708494483, 0.10787964094112587, 0.12296478956219849, 0.22543544753069725, 0.6353180794046922, 0.05804377482523301, 0.9287003972037282, 0.9381496648070182, 0.019647113399099858, 0.009823556699549929, 0.03438244844842475, 0.39901231968084006, 0.27224278061557317, 0.11222221491023628, 0.21613167316045503, 0.0020781891650043754, 0.05676070447112096, 0.9397049962441136, 0.9641361604660443, 0.2693994220829114, 0.014178916951732179, 0.6805880136831446, 0.028357833903464358, 0.9980885465604326, 0.15694606913685208, 0.6277842765474083, 0.18103423112955883, 0.45414621774742775, 0.10300223495302485, 0.11548735434127028, 0.1451395128883532, 0.04322658518836543, 0.9293715815498569, 0.010806646297091358, 0.021613292594182716, 0.055303561067114426, 0.2396487646241625, 0.6452082124496683, 0.01843452035570481, 0.055303561067114426, 0.7950405922715664, 0.05678861373368332, 0.11357722746736663, 0.02202529673344215, 0.9691130562714546, 0.99100451166625, 0.011523308275188953, 0.9747476983847967, 0.015849556071297507, 0.05691733349458074, 0.22766933397832295, 0.7399253354295496, 0.989046647959361, 0.008675847789117203, 0.0411255229556823, 0.04455264986865583, 0.003427126912973525, 0.9047615050250106, 0.003427126912973525, 0.9672250019972878, 0.02966947858887386, 0.016914749105298495, 0.38903922942186536, 0.047925122465012404, 0.48488947435189017, 0.06202074671942782, 0.4800141421220112, 0.2867731547603927, 0.09441454633649853, 0.09264978846104996, 0.045883704761662834, 0.20238754306919032, 0.14266662872090466, 0.19243405734447605, 0.11944182869657134, 0.3417363432151902, 0.9876422418524726, 0.013168563224699635, 0.06160352198777356, 0.35913542605638205, 0.15990701452145478, 0.2529676541200063, 0.16646058069036684, 0.9534626951942209, 0.045402985485439085, 0.9913581432977707, 0.10627031556864854, 0.7438922089805398, 0.021903308225045034, 0.9856488701270266, 0.1071784441672038, 0.2143568883344076, 0.6430706650032229, 0.5136006624884675, 0.13057643961571208, 0.22633249533390093, 0.08052213776302244, 0.04896616485589203, 0.19960529905429059, 0.14257521361020756, 0.6273309398849133, 0.028515042722041514, 0.0792333876569985, 0.2377001629709955, 0.633867101255988, 0.8873732969485062, 0.048469970001388994, 0.05219842923226507, 0.011185377692628229, 0.0037284592308760764, 0.09283972648449813, 0.8355575383604832, 0.09283972648449813, 0.018885611612250684, 0.05665683483675205, 0.07554244644900274, 0.8498525225512807, 0.07384372990888229, 0.09230466238610285, 0.032819435515058795, 0.5579304037559996, 0.24204333692355862, 0.03373243417249299, 0.5770655703080051, 0.10601622168497797, 0.25540271587744695, 0.02770878521311924, 0.006907767669667965, 0.006907767669667965, 0.01381553533933593, 0.3039417774653905, 0.6631456962881247, 0.016677332611091923, 0.016677332611091923, 0.38357865005511427, 0.5837066413882174, 0.09121622779630642, 0.9060811961099771, 0.9070690134786528, 0.06279708554852212, 0.024421088824425268, 0.2633696317158124, 0.08778987723860414, 0.7023190179088331, 0.016207679813660888, 0.016207679813660888, 0.9238377493786706, 0.032415359627321776, 0.9811621759526375, 0.010437895488857846, 0.8606414328154964, 0.10403357979088418, 0.02127959586631722, 0.014186397244211479, 0.196505897360437, 0.15513623475823973, 0.5274631981780151, 0.041369662602197266, 0.07239690955384522, 0.05332004745873916, 0.2513659380197703, 0.5179661753134661, 0.10664009491747832, 0.07617149636962738, 0.1161916678648391, 0.05809583393241955, 0.8133416750538738, 0.040682454769503086, 0.020341227384751543, 0.752625413235807, 0.08136490953900617, 0.10170613692375771, 0.07615286815571781, 0.42961712412376657, 0.1810426676909518, 0.18535320739787922, 0.1293161912078227, 0.026818452356623383, 0.33523065445779227, 0.6034151780240261, 0.026818452356623383, 0.5749857980067741, 0.22037162299639793, 0.0504894554034874, 0.0635573144490959, 0.09028702613329512, 0.16540975343245493, 0.8312900428913119, 0.004241275729037305, 0.7834220158347922, 0.16014704191097962, 0.01082074607506619, 0.03246223822519857, 0.012984895290079429, 0.07696712163743721, 0.46404449064901465, 0.3287915875774017, 0.05454951339352346, 0.07621986802930675, 0.05849711383871053, 0.20473989843548684, 0.05849711383871053, 0.6727168091451711, 0.8688692118166527, 0.11058335423121034, 0.012638097626424039, 0.006319048813212019, 0.5256092481726946, 0.2617231235757039, 0.10923155157498385, 0.06705303165989107, 0.036771017361875755, 0.6091472520308338, 0.2361617038642617, 0.060602341996913715, 0.05185561222416328, 0.04248411603907353, 0.9411144914945372, 0.027051702478662946, 0.008542642887998825, 0.02278038103466353, 0.928974425352907, 0.19445743328734347, 0.3159933290919331, 0.06319866581838662, 0.3694691232459526, 0.05833722998620304, 0.7302948573561275, 0.19671674854839352, 0.024428877270715535, 0.01028584306135391, 0.03600045071473868, 0.9487326593898192, 0.024079509121569014, 0.004815901824313803, 0.019263607297255212, 0.004815901824313803, 0.029474651167740222, 0.8842395350322066, 0.058949302335480444, 0.029474651167740222, 0.34874322214353237, 0.3398467113745647, 0.23664718645453983, 0.0711720861517413, 0.003558604307587065, 0.5809433442856696, 0.24742050438060886, 0.06333964912143587, 0.04354600877098716, 0.06531901315648074, 0.9862676256761767, 0.23464571710972365, 0.11732285855486183, 0.64527572205174, 0.8896692865669448, 0.19317213566272073, 0.5700161380211431, 0.10872530040032916, 0.060168370124453995, 0.06755746820991326, 0.22495346633695726, 0.3117138101666844, 0.1257245701005627, 0.15897404318500905, 0.17923544084584353, 0.024347821602120262, 0.1379709890786815, 0.1688115631080338, 0.5729854017032302, 0.09576809830167303, 0.0878943655411833, 0.8705727634555298, 0.012556337934454757, 0.020927229890757928, 0.00837089195630317, 0.11772976030151056, 0.8241083221105739, 0.3544790336116213, 0.2241324831355991, 0.33381433658493487, 0.05086694652722817, 0.03656061781644525, 0.2099721699286307, 0.05249304248215767, 0.05249304248215767, 0.6824095522680498, 0.8930904520673218, 0.06433278680145962, 0.011352844729669347, 0.026489971035895142, 0.003784281576556449, 0.18681912291568564, 0.7472764916627426, 0.364415110079486, 0.4053494101158119, 0.11182052692849982, 0.059903853711696334, 0.05790705858797312, 0.17544249498157724, 0.05848083166052574, 0.7602508115868346, 0.45119776155759256, 0.25593150340451676, 0.08436260667778515, 0.10047681244769918, 0.10805996810412931, 0.008214250829772963, 0.24232039947830242, 0.06160688122329722, 0.6078545614031993, 0.08214250829772964, 0.6387777438201417, 0.31938887191007087, 0.1292536945398885, 0.2445877604370198, 0.133230731294962, 0.3221399771609529, 0.17101258046816017, 0.5657086665398695, 0.28495473673481053, 0.06371223843456451, 0.03360645543801205, 0.051809952133601914, 0.0189198989001223, 0.0189198989001223, 0.1324392923008561, 0.8324755516053811, 0.8974117399598208, 0.06618654915104968, 0.02725328494454987, 0.004866658025812477, 0.004866658025812477, 0.9559781231751491, 0.02172677552670793, 0.010863387763353965, 0.010863387763353965, 0.3752252316362344, 0.3107191990789156, 0.11992670841642357, 0.06995724657624708, 0.12356085109570913, 0.36177436529516105, 0.47881901289065437, 0.04389174284830998, 0.0379065051871768, 0.07714306318793876, 0.9741760301476013, 0.9631295373585599, 0.057415785670383496, 0.019138595223461164, 0.019138595223461164, 0.8420981898322913, 0.07655438089384466, 0.4877256883240791, 0.3465628061749961, 0.09120073846710422, 0.026170646690560344, 0.048376043882550936, 0.9532517549877624, 0.04539294071370297], \"Term\": [\"access\", \"access\", \"access\", \"access\", \"access\", \"actor\", \"actor\", \"actor\", \"actress\", \"address\", \"address\", \"address\", \"address\", \"address\", \"adventure\", \"advert\", \"advert\", \"advert\", \"advert\", \"advert\", \"advertise\", \"advertise\", \"advertise\", \"advertise\", \"agricultural\", \"agriculture\", \"airbus\", \"aircraft\", \"album\", \"album\", \"album\", \"album\", \"alert\", \"alert\", \"alert\", \"alert\", \"alert\", \"alien\", \"andreas\", \"antipiracy\", \"antipiracy\", \"antipiracy\", \"apple\", \"apple\", \"apple\", \"apple\", \"apple\", \"army\", \"army\", \"arsenal\", \"arsenal\", \"attack\", \"attack\", \"attack\", \"attack\", \"attack\", \"automatically\", \"automatically\", \"automatically\", \"automatically\", \"automatically\", \"aviator\", \"award\", \"award\", \"award\", \"award\", \"back\", \"back\", \"back\", \"back\", \"back\", \"backup\", \"backup\", \"backup\", \"ball\", \"ball\", \"beat\", \"beat\", \"beat\", \"become\", \"become\", \"become\", \"become\", \"become\", \"bill\", \"bill\", \"bill\", \"bill\", \"bill\", \"billion\", \"billion\", \"billion\", \"billion\", \"billion\", \"blair\", \"blair\", \"blair\", \"blast\", \"blockbuster\", \"blog\", \"blog\", \"blog\", \"blog\", \"blogger\", \"blogger\", \"blogger\", \"blogger\", \"blogging\", \"blogging\", \"bn\", \"bn\", \"bn\", \"bn\", \"bn\", \"boeing\", \"boerse\", \"boerse\", \"bombard\", \"bombard\", \"bombard\", \"bombard\", \"broadband\", \"broadband\", \"broadband\", \"broadband\", \"broadband\", \"bros\", \"bros\", \"bros\", \"bt\", \"bt\", \"bt\", \"bt\", \"bug\", \"bug\", \"bump\", \"bump\", \"bump\", \"business\", \"business\", \"business\", \"business\", \"business\", \"cafe\", \"cafe\", \"call\", \"call\", \"call\", \"call\", \"call\", \"camera\", \"camera\", \"camera\", \"camera\", \"camera\", \"canne\", \"canne\", \"canne\", \"ce\", \"ce\", \"ce\", \"ceremony\", \"ceremony\", \"chelsea\", \"chelsea\", \"chip\", \"chip\", \"chip\", \"chip\", \"chip\", \"circulate\", \"circulate\", \"circulate\", \"circulate\", \"coach\", \"coach\", \"come\", \"come\", \"come\", \"come\", \"come\", \"commission\", \"commission\", \"commission\", \"commission\", \"commission\", \"commonplace\", \"commonplace\", \"company\", \"company\", \"company\", \"company\", \"company\", \"computer\", \"computer\", \"computer\", \"computer\", \"computer\", \"construction\", \"construction\", \"consultation\", \"consumer\", \"consumer\", \"consumer\", \"consumer\", \"consumer\", \"content\", \"content\", \"content\", \"content\", \"content\", \"could\", \"could\", \"could\", \"could\", \"could\", \"council\", \"council\", \"council\", \"country\", \"country\", \"country\", \"country\", \"country\", \"crackdown\", \"crackdown\", \"creditor\", \"cup\", \"cup\", \"currency\", \"debt\", \"debt\", \"debt\", \"debt\", \"dec\", \"dec\", \"design\", \"design\", \"design\", \"design\", \"design\", \"desktop\", \"desktop\", \"desktop\", \"desktop\", \"device\", \"device\", \"device\", \"device\", \"device\", \"digital\", \"digital\", \"digital\", \"digital\", \"digital\", \"directive\", \"directive\", \"directive\", \"disease\", \"disease\", \"domain\", \"domain\", \"domain\", \"donate\", \"donate\", \"donate\", \"donate\", \"donation\", \"donation\", \"donation\", \"doom\", \"drive\", \"drive\", \"drive\", \"drive\", \"drive\", \"ds\", \"ds\", \"dvd\", \"dvd\", \"dvd\", \"dvd\", \"dvd\", \"dvds\", \"dvds\", \"dvds\", \"dvds\", \"ea\", \"ea\", \"ea\", \"ebber\", \"economic\", \"economic\", \"economic\", \"economic\", \"economist\", \"economist\", \"economist\", \"economy\", \"economy\", \"economy\", \"election\", \"election\", \"election\", \"election\", \"electronic\", \"electronic\", \"electronic\", \"electronic\", \"electronic\", \"email\", \"email\", \"email\", \"email\", \"email\", \"enemy\", \"engine\", \"engine\", \"engine\", \"engine\", \"engine\", \"england\", \"england\", \"england\", \"essentially\", \"essentially\", \"essentially\", \"eu\", \"eu\", \"eu\", \"euronext\", \"european\", \"european\", \"european\", \"european\", \"european\", \"exchange\", \"exchange\", \"exchange\", \"exchange\", \"existence\", \"existence\", \"export\", \"export\", \"export\", \"export\", \"fake\", \"fake\", \"fake\", \"fake\", \"fake\", \"farmer\", \"festival\", \"festival\", \"file\", \"file\", \"file\", \"file\", \"file\", \"fileshare\", \"fileshare\", \"fileshare\", \"film\", \"film\", \"film\", \"film\", \"film\", \"filter\", \"filter\", \"filter\", \"filter\", \"finance\", \"finance\", \"finance\", \"finance\", \"find\", \"find\", \"find\", \"find\", \"find\", \"firm\", \"firm\", \"firm\", \"firm\", \"firm\", \"first\", \"first\", \"first\", \"first\", \"first\", \"football\", \"football\", \"football\", \"format\", \"format\", \"format\", \"format\", \"format\", \"fsecure\", \"fsecure\", \"gadget\", \"gadget\", \"gadget\", \"gadget\", \"gadget\", \"game\", \"game\", \"game\", \"game\", \"game\", \"gameplay\", \"gartner\", \"gartner\", \"gartner\", \"gdp\", \"get\", \"get\", \"get\", \"get\", \"get\", \"give\", \"give\", \"give\", \"give\", \"give\", \"go\", \"go\", \"go\", \"go\", \"go\", \"good\", \"good\", \"good\", \"good\", \"good\", \"google\", \"google\", \"google\", \"google\", \"google\", \"government\", \"government\", \"government\", \"government\", \"government\", \"grand\", \"grand\", \"grand\", \"group\", \"group\", \"group\", \"group\", \"group\", \"hacker\", \"hacker\", \"hacker\", \"hacker\", \"halflife\", \"hamper\", \"handheld\", \"handheld\", \"handheld\", \"harry\", \"help\", \"help\", \"help\", \"help\", \"help\", \"highdefinition\", \"highdefinition\", \"highdefinition\", \"highdefinition\", \"hiphop\", \"hiphop\", \"hole\", \"hole\", \"hole\", \"hole\", \"home\", \"home\", \"home\", \"home\", \"home\", \"hotspot\", \"hotspot\", \"hotspot\", \"howard\", \"howard\", \"howard\", \"image\", \"image\", \"image\", \"image\", \"image\", \"imf\", \"implement\", \"include\", \"include\", \"include\", \"include\", \"include\", \"industrial\", \"industry\", \"industry\", \"industry\", \"industry\", \"industry\", \"information\", \"information\", \"information\", \"information\", \"information\", \"infringe\", \"infringe\", \"infringe\", \"injury\", \"injury\", \"injury\", \"intel\", \"intel\", \"intel\", \"intel\", \"internet\", \"internet\", \"internet\", \"internet\", \"internet\", \"invention\", \"invention\", \"invention\", \"investment\", \"investment\", \"investment\", \"investor\", \"investor\", \"investor\", \"ipod\", \"ipod\", \"ipod\", \"ipod\", \"ipod\", \"jeeve\", \"junk\", \"junk\", \"junk\", \"juror\", \"juror\", \"keynote\", \"keynote\", \"keynote\", \"kilroysilk\", \"knife\", \"labour\", \"labour\", \"labour\", \"labour\", \"laser\", \"laser\", \"laser\", \"laser\", \"last\", \"last\", \"last\", \"last\", \"last\", \"law\", \"law\", \"law\", \"law\", \"law\", \"league\", \"league\", \"league\", \"leicester\", \"library\", \"library\", \"library\", \"library\", \"library\", \"light\", \"light\", \"light\", \"light\", \"light\", \"like\", \"like\", \"like\", \"like\", \"like\", \"list\", \"list\", \"list\", \"list\", \"list\", \"local\", \"local\", \"local\", \"local\", \"local\", \"log\", \"log\", \"log\", \"log\", \"login\", \"login\", \"login\", \"loophole\", \"loophole\", \"mac\", \"mac\", \"mac\", \"mac\", \"mac\", \"mail\", \"mail\", \"mail\", \"mail\", \"mail\", \"make\", \"make\", \"make\", \"make\", \"make\", \"malicious\", \"malicious\", \"malicious\", \"malicious\", \"malicious\", \"many\", \"many\", \"many\", \"many\", \"many\", \"mario\", \"mario\", \"mario\", \"market\", \"market\", \"market\", \"market\", \"market\", \"match\", \"match\", \"match\", \"mci\", \"mean\", \"mean\", \"mean\", \"mean\", \"mean\", \"medium\", \"medium\", \"medium\", \"medium\", \"medium\", \"megapixel\", \"megapixel\", \"megapixel\", \"mep\", \"mep\", \"message\", \"message\", \"message\", \"message\", \"message\", \"microsoft\", \"microsoft\", \"microsoft\", \"microsoft\", \"microsoft\", \"million\", \"million\", \"million\", \"million\", \"million\", \"mini\", \"mini\", \"mini\", \"mini\", \"mini\", \"minister\", \"minister\", \"mixture\", \"mixture\", \"mixture\", \"mixture\", \"mobile\", \"mobile\", \"mobile\", \"mobile\", \"mobile\", \"monopoly\", \"movie\", \"movie\", \"movie\", \"movie\", \"movie\", \"msn\", \"msn\", \"msn\", \"multimedia\", \"multimedia\", \"multimedia\", \"multimedia\", \"music\", \"music\", \"music\", \"music\", \"music\", \"need\", \"need\", \"need\", \"need\", \"need\", \"net\", \"net\", \"net\", \"net\", \"net\", \"network\", \"network\", \"network\", \"network\", \"network\", \"new\", \"new\", \"new\", \"new\", \"new\", \"nielsen\", \"nielsen\", \"nielsen\", \"nintendo\", \"nintendo\", \"nintendo\", \"nominate\", \"nomination\", \"nomination\", \"nuclear\", \"number\", \"number\", \"number\", \"number\", \"number\", \"offer\", \"offer\", \"offer\", \"offer\", \"offer\", \"oil\", \"oil\", \"oil\", \"oil\", \"one\", \"one\", \"one\", \"one\", \"one\", \"online\", \"online\", \"online\", \"online\", \"online\", \"oscar\", \"oxford\", \"oxford\", \"oxford\", \"packard\", \"packard\", \"packard\", \"parliament\", \"parliament\", \"participate\", \"participate\", \"participate\", \"party\", \"party\", \"party\", \"party\", \"party\", \"password\", \"password\", \"patent\", \"patent\", \"pc\", \"pc\", \"pc\", \"pc\", \"pc\", \"peertopeer\", \"peertopeer\", \"peertopeer\", \"peertopeer\", \"pew\", \"pew\", \"phishe\", \"phishe\", \"phone\", \"phone\", \"phone\", \"phone\", \"phone\", \"plan\", \"plan\", \"plan\", \"plan\", \"plan\", \"play\", \"play\", \"play\", \"play\", \"play\", \"player\", \"player\", \"player\", \"player\", \"player\", \"poland\", \"pornographic\", \"pornographic\", \"pornographic\", \"portable\", \"portable\", \"portable\", \"portable\", \"portable\", \"premiership\", \"premiership\", \"preshow\", \"preshow\", \"price\", \"price\", \"price\", \"price\", \"price\", \"print\", \"print\", \"print\", \"print\", \"print\", \"prize\", \"prize\", \"prize\", \"prize\", \"prize\", \"production\", \"production\", \"production\", \"program\", \"program\", \"program\", \"program\", \"program\", \"project\", \"project\", \"project\", \"project\", \"project\", \"psp\", \"psp\", \"psp\", \"query\", \"query\", \"race\", \"race\", \"race\", \"race\", \"radio\", \"radio\", \"radio\", \"radio\", \"radio\", \"rap\", \"rap\", \"recession\", \"recorder\", \"recorder\", \"recorder\", \"recorder\", \"referee\", \"refund\", \"refund\", \"report\", \"report\", \"report\", \"report\", \"report\", \"reserve\", \"reserve\", \"reserve\", \"reserve\", \"revolution\", \"revolution\", \"revolution\", \"revolution\", \"revolution\", \"ringtone\", \"ringtone\", \"ringtone\", \"river\", \"river\", \"robinson\", \"robinson\", \"rugby\", \"rugby\", \"scam\", \"scam\", \"scam\", \"score\", \"score\", \"search\", \"search\", \"search\", \"search\", \"search\", \"season\", \"season\", \"security\", \"security\", \"security\", \"security\", \"security\", \"see\", \"see\", \"see\", \"see\", \"see\", \"send\", \"send\", \"send\", \"send\", \"send\", \"sequel\", \"sequel\", \"service\", \"service\", \"service\", \"service\", \"service\", \"shareholder\", \"shareholder\", \"shooter\", \"shopper\", \"shopper\", \"shopping\", \"shopping\", \"shore\", \"shore\", \"shore\", \"show\", \"show\", \"show\", \"show\", \"show\", \"showcase\", \"showcase\", \"showcase\", \"showcase\", \"shrink\", \"shrink\", \"shrink\", \"side\", \"side\", \"side\", \"side\", \"side\", \"siemen\", \"siemen\", \"siemen\", \"silicon\", \"silicon\", \"silicon\", \"silicon\", \"site\", \"site\", \"site\", \"site\", \"site\", \"software\", \"software\", \"software\", \"software\", \"software\", \"spam\", \"spam\", \"spam\", \"spam\", \"spam\", \"spammer\", \"spammer\", \"spammer\", \"spammer\", \"spanish\", \"spanish\", \"sport\", \"sport\", \"sport\", \"spy\", \"spy\", \"spy\", \"spyware\", \"spyware\", \"spyware\", \"spyware\", \"squad\", \"squad\", \"star\", \"star\", \"star\", \"star\", \"storage\", \"storage\", \"storage\", \"storage\", \"storage\", \"store\", \"store\", \"store\", \"store\", \"store\", \"strain\", \"strain\", \"strain\", \"swap\", \"swap\", \"swap\", \"swap\", \"swap\", \"system\", \"system\", \"system\", \"system\", \"system\", \"tag\", \"tag\", \"tag\", \"tag\", \"take\", \"take\", \"take\", \"take\", \"take\", \"tax\", \"tax\", \"tax\", \"team\", \"team\", \"team\", \"team\", \"team\", \"technology\", \"technology\", \"technology\", \"technology\", \"technology\", \"texas\", \"texas\", \"texas\", \"texas\", \"th\", \"th\", \"th\", \"th\", \"think\", \"think\", \"think\", \"think\", \"think\", \"time\", \"time\", \"time\", \"time\", \"time\", \"title\", \"title\", \"title\", \"title\", \"tmobile\", \"tool\", \"tool\", \"tool\", \"tool\", \"tool\", \"top\", \"top\", \"top\", \"top\", \"top\", \"tour\", \"tour\", \"tour\", \"tour\", \"tour\", \"tracker\", \"tracker\", \"tracker\", \"tracker\", \"tv\", \"tv\", \"tv\", \"tv\", \"tv\", \"two\", \"two\", \"two\", \"two\", \"two\", \"ukip\", \"uniform\", \"uniform\", \"uniform\", \"unsolicited\", \"us\", \"us\", \"us\", \"us\", \"us\", \"use\", \"use\", \"use\", \"use\", \"use\", \"user\", \"user\", \"user\", \"user\", \"user\", \"value\", \"value\", \"value\", \"value\", \"value\", \"vhs\", \"vhs\", \"video\", \"video\", \"video\", \"video\", \"video\", \"virginia\", \"virginia\", \"virginia\", \"virginia\", \"vote\", \"vote\", \"vote\", \"vote\", \"vote\", \"walmart\", \"walmart\", \"want\", \"want\", \"want\", \"want\", \"want\", \"warner\", \"warner\", \"warner\", \"way\", \"way\", \"way\", \"way\", \"way\", \"web\", \"web\", \"web\", \"web\", \"web\", \"webpage\", \"webpage\", \"website\", \"website\", \"website\", \"website\", \"website\", \"well\", \"well\", \"well\", \"well\", \"well\", \"wifi\", \"wifi\", \"wifi\", \"wifi\", \"win\", \"win\", \"win\", \"win\", \"win\", \"winner\", \"winner\", \"winner\", \"winner\", \"work\", \"work\", \"work\", \"work\", \"work\", \"world\", \"world\", \"world\", \"world\", \"world\", \"worldcom\", \"worthwhile\", \"yahoo\", \"yahoo\", \"yahoo\", \"yahoo\", \"yahoo\", \"year\", \"year\", \"year\", \"year\", \"year\", \"yukos\", \"yukos\"]}, \"R\": 30, \"lambda.step\": 0.01, \"plot.opts\": {\"xlab\": \"PC1\", \"ylab\": \"PC2\"}, \"topic.order\": [3, 1, 4, 2, 5]};\n",
              "\n",
              "function LDAvis_load_lib(url, callback){\n",
              "  var s = document.createElement('script');\n",
              "  s.src = url;\n",
              "  s.async = true;\n",
              "  s.onreadystatechange = s.onload = callback;\n",
              "  s.onerror = function(){console.warn(\"failed to load library \" + url);};\n",
              "  document.getElementsByTagName(\"head\")[0].appendChild(s);\n",
              "}\n",
              "\n",
              "if(typeof(LDAvis) !== \"undefined\"){\n",
              "   // already loaded: just create the visualization\n",
              "   !function(LDAvis){\n",
              "       new LDAvis(\"#\" + \"ldavis_el4101397826351719206007785109\", ldavis_el4101397826351719206007785109_data);\n",
              "   }(LDAvis);\n",
              "}else if(typeof define === \"function\" && define.amd){\n",
              "   // require.js is available: use it to load d3/LDAvis\n",
              "   require.config({paths: {d3: \"https://d3js.org/d3.v5\"}});\n",
              "   require([\"d3\"], function(d3){\n",
              "      window.d3 = d3;\n",
              "      LDAvis_load_lib(\"https://cdn.jsdelivr.net/gh/bmabey/pyLDAvis@3.3.1/pyLDAvis/js/ldavis.v3.0.0.js\", function(){\n",
              "        new LDAvis(\"#\" + \"ldavis_el4101397826351719206007785109\", ldavis_el4101397826351719206007785109_data);\n",
              "      });\n",
              "    });\n",
              "}else{\n",
              "    // require.js not available: dynamically load d3 & LDAvis\n",
              "    LDAvis_load_lib(\"https://d3js.org/d3.v5.js\", function(){\n",
              "         LDAvis_load_lib(\"https://cdn.jsdelivr.net/gh/bmabey/pyLDAvis@3.3.1/pyLDAvis/js/ldavis.v3.0.0.js\", function(){\n",
              "                 new LDAvis(\"#\" + \"ldavis_el4101397826351719206007785109\", ldavis_el4101397826351719206007785109_data);\n",
              "            })\n",
              "         });\n",
              "}\n",
              "</script>"
            ]
          },
          "metadata": {},
          "execution_count": 21
        }
      ]
    },
    {
      "cell_type": "markdown",
      "source": [
        "### **II. TF-IDF**"
      ],
      "metadata": {
        "id": "QQg0xIAWGyB4"
      }
    },
    {
      "cell_type": "code",
      "source": [
        "lda_2 = gensimvis.prepare(lda_tfidf, tfidf_corpus, id2word)\n",
        "\n",
        "pyLDAvis.display(lda_2)"
      ],
      "metadata": {
        "colab": {
          "base_uri": "https://localhost:8080/",
          "height": 881
        },
        "id": "q5vxlOvDHM02",
        "outputId": "a943a81f-a861-4938-cdd2-da44df194cd6"
      },
      "execution_count": 22,
      "outputs": [
        {
          "output_type": "execute_result",
          "data": {
            "text/plain": [
              "<IPython.core.display.HTML object>"
            ],
            "text/html": [
              "\n",
              "<link rel=\"stylesheet\" type=\"text/css\" href=\"https://cdn.jsdelivr.net/gh/bmabey/pyLDAvis@3.3.1/pyLDAvis/js/ldavis.v1.0.0.css\">\n",
              "\n",
              "\n",
              "<div id=\"ldavis_el4101397826693753128516423107\"></div>\n",
              "<script type=\"text/javascript\">\n",
              "\n",
              "var ldavis_el4101397826693753128516423107_data = {\"mdsDat\": {\"x\": [-0.04692645042205345, -0.03194513842228103, 0.06349827900399983, 0.05313113866768711, -0.037757828827352284], \"y\": [-0.060721447819111964, 0.004520753194313346, -0.02039531080949616, 0.016307150526372365, 0.06028885490792236], \"topics\": [1, 2, 3, 4, 5], \"cluster\": [1, 1, 1, 1, 1], \"Freq\": [32.18537459197335, 29.525843670060397, 17.18473577507356, 16.555883148071665, 4.548162814821033]}, \"tinfo\": {\"Term\": [\"search\", \"mobile\", \"user\", \"spam\", \"computer\", \"phone\", \"net\", \"site\", \"broadband\", \"software\", \"google\", \"engine\", \"use\", \"email\", \"information\", \"consumer\", \"internet\", \"spyware\", \"blog\", \"nintendo\", \"music\", \"camera\", \"device\", \"console\", \"apple\", \"gadget\", \"game\", \"network\", \"survey\", \"technology\", \"rugby\", \"wale\", \"cup\", \"england\", \"championship\", \"hole\", \"coach\", \"injury\", \"indoor\", \"squad\", \"ireland\", \"victory\", \"strange\", \"flaw\", \"madrid\", \"johnson\", \"scotland\", \"match\", \"ie\", \"gambling\", \"premiership\", \"robinson\", \"roddick\", \"warrior\", \"referee\", \"season\", \"football\", \"scottish\", \"defeat\", \"zealand\", \"champion\", \"blog\", \"patent\", \"olympic\", \"creative\", \"directive\", \"commission\", \"club\", \"attack\", \"engine\", \"side\", \"win\", \"critical\", \"team\", \"phishe\", \"council\", \"play\", \"fix\", \"game\", \"spam\", \"pc\", \"site\", \"technology\", \"player\", \"get\", \"good\", \"search\", \"user\", \"open\", \"european\", \"security\", \"email\", \"microsoft\", \"like\", \"software\", \"use\", \"computer\", \"world\", \"program\", \"oscar\", \"lord\", \"pension\", \"fox\", \"chancellor\", \"deficit\", \"aviator\", \"actor\", \"actress\", \"loophole\", \"trader\", \"kenteris\", \"foreign\", \"gerrard\", \"library\", \"sun\", \"thanou\", \"baby\", \"poland\", \"insurance\", \"benitez\", \"banking\", \"greek\", \"brown\", \"browser\", \"chinese\", \"currency\", \"disney\", \"davenport\", \"imf\", \"domain\", \"hotspot\", \"blair\", \"war\", \"xp\", \"film\", \"china\", \"dollar\", \"scan\", \"movie\", \"program\", \"bn\", \"date\", \"malicious\", \"spyware\", \"book\", \"star\", \"software\", \"user\", \"virus\", \"net\", \"labour\", \"service\", \"security\", \"microsoft\", \"use\", \"government\", \"google\", \"system\", \"eu\", \"minister\", \"network\", \"phone\", \"firm\", \"company\", \"file\", \"technology\", \"site\", \"computer\", \"website\", \"hiphop\", \"robot\", \"rap\", \"megapixel\", \"gartner\", \"silicon\", \"visual\", \"battery\", \"singer\", \"gig\", \"camera\", \"beckham\", \"mouse\", \"photographer\", \"mini\", \"album\", \"farmer\", \"light\", \"strain\", \"gsm\", \"tmobile\", \"genius\", \"knife\", \"mac\", \"minor\", \"viewer\", \"bizarre\", \"cord\", \"translate\", \"youth\", \"print\", \"band\", \"listener\", \"mobile\", \"tv\", \"station\", \"phone\", \"handset\", \"radio\", \"chip\", \"laser\", \"magazine\", \"apple\", \"storage\", \"music\", \"computer\", \"digital\", \"picture\", \"pc\", \"gadget\", \"technology\", \"image\", \"game\", \"use\", \"video\", \"virus\", \"network\", \"offer\", \"service\", \"online\", \"content\", \"user\", \"software\", \"ds\", \"nintendo\", \"portable\", \"ce\", \"yukos\", \"prototype\", \"gates\", \"vegas\", \"playstation\", \"map\", \"crystal\", \"tvs\", \"chapter\", \"las\", \"preshow\", \"kit\", \"musician\", \"handheld\", \"gm\", \"nuclear\", \"physics\", \"lse\", \"buoy\", \"boerse\", \"showcase\", \"glazer\", \"violation\", \"bankruptcy\", \"gazprom\", \"aol\", \"console\", \"device\", \"ship\", \"consumer\", \"multimedia\", \"gamer\", \"psp\", \"sony\", \"gadget\", \"fileshare\", \"electronic\", \"music\", \"broadband\", \"japan\", \"game\", \"developer\", \"xbox\", \"gaming\", \"technology\", \"detail\", \"machine\", \"video\", \"online\", \"digital\", \"launch\", \"system\", \"sale\", \"site\", \"file\", \"apple\", \"content\", \"mobile\", \"player\", \"network\", \"microsoft\", \"net\", \"phone\", \"nielsen\", \"tag\", \"prosecutor\", \"rip\", \"yahoo\", \"wifi\", \"pew\", \"bulk\", \"consultation\", \"virginia\", \"convict\", \"sister\", \"juror\", \"jerry\", \"secretly\", \"cafe\", \"hugo\", \"unsolicited\", \"refund\", \"ware\", \"wenger\", \"worthwhile\", \"survey\", \"distributor\", \"monopoly\", \"learning\", \"prosper\", \"attorney\", \"reporter\", \"troubled\", \"item\", \"search\", \"spammer\", \"california\", \"spam\", \"spyware\", \"junk\", \"bill\", \"google\", \"engine\", \"server\", \"information\", \"broadband\", \"user\", \"internet\", \"computer\", \"email\", \"net\", \"site\", \"software\", \"use\", \"find\", \"bt\", \"law\", \"network\", \"consumer\", \"file\", \"service\", \"online\", \"technology\", \"message\"], \"Freq\": [22.0, 43.0, 42.0, 17.0, 35.0, 38.0, 32.0, 36.0, 20.0, 40.0, 14.0, 12.0, 38.0, 26.0, 21.0, 17.0, 20.0, 9.0, 21.0, 12.0, 26.0, 14.0, 19.0, 17.0, 19.0, 17.0, 47.0, 28.0, 7.0, 45.0, 5.790841954011077, 7.298829075656425, 6.889231644322082, 10.146172359544329, 4.899316019760713, 5.609180914256242, 6.362430787248216, 6.718344683801264, 4.099954085152184, 4.418193719545864, 6.703108819194359, 5.2586836066988685, 3.6890728784996183, 8.59630300757307, 4.349829096931692, 3.817873666740033, 5.801802211411254, 8.906760053009922, 3.3338039441075082, 3.1594499703603343, 3.860129619843522, 4.166200717619208, 3.106237517581123, 2.894002265218263, 3.153625155844363, 6.096121538372095, 6.190449304077162, 3.996541849772422, 3.7905392958345168, 2.6220227809457812, 6.333156747301488, 16.516782688096306, 11.836523215417525, 5.261759133359315, 5.626260796736421, 8.536600964660733, 6.789498904406018, 7.125116306345734, 12.956050447397068, 8.408526783685316, 6.483659077489948, 10.816324255558204, 6.421228243400931, 8.474445469290846, 5.868253127444083, 6.568860355328691, 9.436579387654788, 6.337279995862146, 13.930157842318678, 8.69071275999351, 11.093788480283512, 11.649926917008521, 12.147911493296494, 9.412018900619408, 9.280176063627323, 8.313674303001859, 8.954015146083309, 10.636209006999472, 7.719082047098807, 7.63057055562686, 8.47684699682866, 8.599208753410432, 9.203587490238563, 8.157726688467344, 9.17548449387642, 8.962735799708534, 8.613039912293937, 8.052776177340387, 8.35055466046736, 4.824084668477726, 7.513740668460164, 4.930841232182099, 3.640805029887664, 5.506141397474394, 3.58978025740094, 2.68688318362217, 5.200473492696076, 3.792419920834526, 2.48336808364898, 2.680750270402182, 2.367219732704452, 7.078943758752386, 2.2793807148856775, 9.280434595443793, 6.400420427637954, 2.118275791001448, 2.7403977872551795, 2.376513430939095, 2.662901518616571, 2.007218980224786, 2.1265702662518327, 2.086238762282861, 7.079803682813481, 5.068254840784712, 5.851531902267343, 2.4195624390974952, 2.8521452950546746, 1.962941195738559, 1.7944079883331245, 14.6233797048861, 4.985336099103414, 7.85803433133845, 6.340237651930601, 5.995302179840535, 18.37991785270774, 11.366151574358678, 5.180567378861961, 3.666120141278089, 11.759657086730453, 19.23732732536841, 8.83379304659127, 5.764762932082173, 8.564409925883625, 6.480450401099434, 6.054924626021196, 6.903076126155301, 17.31521653997829, 17.73956524699039, 12.67352822055713, 13.814816676669633, 7.420242103053429, 12.778569323506972, 11.142377020763151, 13.708962030402516, 12.860430082815725, 7.898526600993771, 7.80411044897957, 10.359458156511508, 6.551745752319345, 6.970203478099492, 8.8867855534729, 9.643647841199806, 8.10698610762656, 7.900147419960239, 7.823072652000265, 8.581179698608612, 8.180210020315853, 8.054068812761935, 7.669208294978131, 4.938498738116487, 6.164662230696449, 3.151178868813775, 2.924475868768399, 3.6500016012190963, 4.3445792049329475, 4.468650056962708, 3.8722732779247835, 2.4802101228533413, 2.1562151799678766, 10.896445161312792, 1.9611811396878893, 2.2173915183956017, 1.7250564476436818, 5.713780963170751, 2.9658694811445656, 2.186475309048937, 4.484084450089049, 1.7249769227630025, 1.8214770823300896, 3.020387252384035, 1.4106555614640255, 1.5323755048078322, 7.828381830978925, 1.7140997065719208, 3.1336195562839615, 1.3729499154293632, 1.3442915925458392, 1.9751698580338073, 1.4331857262258432, 4.512742225783026, 3.4049019062420744, 2.8833084280712296, 25.119481744187333, 8.871543981394531, 4.093104022159446, 19.86808032486802, 6.756285026959085, 7.843483532861323, 5.417568657498761, 3.414787432579364, 3.645712729557872, 8.378394145408679, 3.9907336131433144, 9.964316524804936, 11.9087633314018, 9.532389903151245, 5.393660851856735, 9.082567994586523, 6.411149233568992, 10.002206117725297, 5.77312439901603, 10.089134108168414, 8.866054575869475, 6.977975588366964, 7.258634213591594, 6.6375784564448725, 5.428742632820268, 6.214909552322742, 5.921305881612852, 5.349821119813618, 5.781775830530667, 5.354788506511831, 6.7582137346878834, 10.3356281017265, 8.886361967461715, 5.259635099183151, 2.304636688559982, 1.8485721396976842, 1.7597251854934322, 2.621287302929831, 4.812895763114308, 2.564275016995085, 1.8842396552847986, 2.0412213923894726, 1.7324100859479714, 2.612340419508961, 1.406361949199522, 1.868681408968381, 2.745440839822318, 5.328810507510625, 1.2649605993777988, 1.2680504064018756, 1.2271730862451462, 1.1198482654153776, 1.1762023847616356, 1.0796352621156178, 3.478674793843013, 1.1233687669551091, 1.421258953793211, 2.0847463152664663, 1.0833964148749282, 2.48735325765431, 11.039406487048252, 11.684493738861791, 3.3710964062298543, 9.3974464667147, 3.8394551660645124, 8.242993276383835, 4.858088638803457, 9.585260202604454, 9.190280120299414, 4.635073226233564, 6.16670481033299, 10.957269124313294, 8.527264308696727, 4.593738853267689, 14.955818029678992, 5.355813349139187, 5.868057613305806, 5.570611651574017, 12.659650787983766, 4.5484848263376385, 7.613640168565282, 8.143066525649365, 8.313571648812896, 8.102355965629458, 6.105838941889756, 7.59720524540733, 5.5213754136632405, 8.38324329594584, 6.855358455405283, 6.188483086747582, 6.135045336854225, 7.484804344416927, 6.3441312699235315, 6.589871397366325, 6.783446704769456, 6.545517769741952, 6.200752696646017, 1.1850009091253306, 2.3970290479208494, 1.37180699410664, 1.1224836050952716, 2.2970472793203895, 2.3176966010537754, 1.2871987255743134, 0.7487105392262543, 0.7498298108991479, 1.0749253240099323, 0.8315181542318577, 1.1829809486370808, 0.5093652549123515, 0.7364109088658402, 0.6146209625076918, 1.425285839049208, 0.4513041351053789, 0.5624707518380924, 0.4333006410749013, 0.5777151683017523, 0.4803846823209191, 0.412025210758861, 2.6036151436597197, 0.6815347363185287, 0.40976127549985275, 0.5117516602927318, 0.4280876716359107, 0.7739191575907874, 0.889710336860874, 0.4113066099599869, 1.1320554874548006, 6.1409737739518695, 2.083803481863293, 1.1517866453298908, 3.75013456002503, 2.2386298520771355, 1.3840726398531613, 2.15809288236084, 2.657658982808255, 2.26463561238657, 1.5769678601003836, 2.8924167787090314, 2.807013830185366, 4.2576712109966754, 2.760474218592022, 3.6167032421062424, 2.980049195141819, 3.278467896639585, 3.4594405998839637, 3.2781597179817847, 3.09014466898012, 2.09368566691899, 1.7086245439624597, 1.8546971727773618, 2.144001625636768, 1.880710463768284, 1.9806607579820137, 1.916380019370276, 1.8246393265444087, 1.8496788424906658, 1.7097153342117786], \"Total\": [22.0, 43.0, 42.0, 17.0, 35.0, 38.0, 32.0, 36.0, 20.0, 40.0, 14.0, 12.0, 38.0, 26.0, 21.0, 17.0, 20.0, 9.0, 21.0, 12.0, 26.0, 14.0, 19.0, 17.0, 19.0, 17.0, 47.0, 28.0, 7.0, 45.0, 6.318632981898777, 8.021636652560998, 7.602930381989974, 11.214750650916876, 5.428415033085427, 6.2469219120241615, 7.12931374939875, 7.569346796526988, 4.6209542058381805, 4.986704561289566, 7.566916499886469, 5.956740952384875, 4.198327077794126, 9.831514307044497, 4.98775386284236, 4.389192916441262, 6.696959687970712, 10.284303718876899, 3.8669181501214176, 3.6686605759932873, 4.483997595809787, 4.8730190346590545, 3.6442511316730264, 3.405921572816378, 3.725238607982759, 7.236066152207422, 7.3827941182090315, 4.770342431400639, 4.5253283214029025, 3.156686673332857, 7.691841452964836, 21.77971164606973, 15.404859005704516, 6.517548779710394, 7.054827118279065, 11.746040533872131, 9.090640587519255, 9.717062325643592, 20.705241315636147, 12.186269769919804, 8.784371773079755, 17.52377302891727, 8.92611217513038, 13.734482872327542, 7.909911825580542, 9.885092572546643, 19.78964771926972, 9.253113838659772, 47.90087752943539, 17.989281056540186, 30.708034767178198, 36.89841314555577, 45.24062694010484, 23.60196291843147, 23.107535106705004, 18.163887612018495, 22.89402056710817, 42.607861427950645, 16.24617768616802, 15.903538673452891, 24.438981588520022, 26.229401977137705, 35.2697552934569, 21.304829882818094, 40.57753092280887, 38.88261541693894, 35.45849649065923, 22.87341677461131, 33.23679440239703, 5.404928787697869, 8.600464979316055, 5.65383210351678, 4.228397588924068, 6.397363977462476, 4.27958646453932, 3.21006201721537, 6.237722176134331, 4.572821321346167, 2.9966711663207746, 3.264868975253569, 2.904163735671705, 8.712603919221024, 2.805840105338144, 11.448107300888838, 7.922858535557364, 2.643942317881291, 3.443708530832962, 2.9975559341455176, 3.3614119212782896, 2.5473435083174105, 2.701906207397294, 2.6522512499542152, 9.011796334039621, 6.455751705462089, 7.467325172945408, 3.094652415281262, 3.6634877988323367, 2.528704220897372, 2.321794531106862, 18.929790287429995, 6.502793379183095, 10.36867421098537, 8.353594863387679, 7.979198950100305, 26.317985385478526, 15.834221624496392, 6.961799446287925, 4.864007152490673, 18.650697016075508, 33.23679440239703, 14.264561181092512, 8.506461997030463, 13.793491961359056, 9.92032129190034, 9.224708560205972, 11.119592028223115, 40.57753092280887, 42.607861427950645, 27.32455455625921, 32.20936778925327, 12.598844528411906, 30.548612909241328, 24.438981588520022, 35.2697552934569, 38.88261541693894, 15.155682366824564, 14.808431565040756, 27.959541574807808, 10.510754655359515, 12.935691854780373, 28.42465672339238, 38.4284821966945, 26.686533996502895, 24.87976258829237, 23.678415950983418, 45.24062694010484, 36.89841314555577, 35.45849649065923, 24.560285846787668, 5.596167137175772, 7.399001546399185, 3.8000828344992468, 3.557105991132159, 4.462159028047934, 5.366033372917828, 5.663434461032506, 4.915999409905665, 3.151410715443348, 2.789864647791693, 14.35419681595178, 2.665027870706379, 3.017679980595054, 2.3710925652758434, 7.968205200948798, 4.18144075154241, 3.095685833612809, 6.393101430526908, 2.4631003261397284, 2.6193050256846995, 4.373802705937649, 2.0665668235137917, 2.24980284219153, 11.508571689721471, 2.5506839378211796, 4.663310643660414, 2.0469612202296794, 2.0101583690291154, 2.9590263313337632, 2.148044637588729, 6.899663503926226, 5.2165228469985, 4.420964835686717, 43.24641426714766, 14.594273221971946, 6.624273278904196, 38.4284821966945, 12.207220628519279, 14.679726497281862, 9.704074760758056, 5.505693893766436, 6.112610021917457, 19.106961099685016, 7.017330445633665, 26.70807016412378, 35.45849649065923, 28.892962269012447, 12.15078486679826, 30.708034767178198, 17.71915804136237, 45.24062694010484, 15.278416357644897, 47.90087752943539, 38.88261541693894, 24.14741047808066, 27.32455455625921, 28.42465672339238, 16.692270209353172, 30.548612909241328, 28.25629977282805, 19.37824583612796, 42.607861427950645, 40.57753092280887, 7.674031379432898, 12.437539157707658, 11.090397529424477, 6.831896381103435, 3.046631373940793, 2.4812689956449803, 2.405270291298082, 3.601356196431706, 6.7601531147874265, 3.6102810997095, 2.698989564271082, 2.9406752443578514, 2.49694194056599, 3.776466063510657, 2.0440990327729986, 2.7232085321697106, 4.014492761819226, 8.063518409187656, 1.930112355102424, 1.9353874492803003, 1.8971002429325161, 1.748932473487777, 1.8414652350581096, 1.70647112721573, 5.5457070917110185, 1.7984025729299116, 2.2790048852141607, 3.34510718169666, 1.7434325885711046, 4.010303224850231, 17.8156291063123, 19.699279908705673, 5.63345565233974, 17.047586589645967, 6.58376854322977, 15.125349756113748, 8.538155293042003, 18.548985397043776, 17.71915804136237, 8.556343901840696, 12.41798457239684, 26.70807016412378, 20.106991867465236, 9.181321228694186, 47.90087752943539, 11.524682554133554, 13.185234656968344, 12.380865945668528, 45.24062694010484, 9.203829385286738, 21.544411475191875, 24.14741047808066, 28.25629977282805, 28.892962269012447, 17.579488986805405, 27.959541574807808, 14.26497673089374, 36.89841314555577, 23.678415950983418, 19.106961099685016, 19.37824583612796, 43.24641426714766, 23.60196291843147, 28.42465672339238, 35.2697552934569, 32.20936778925327, 38.4284821966945, 1.9072369121730268, 3.915196422242108, 2.6160398421130306, 2.206700503648393, 4.860528774470055, 5.1205430442492865, 2.8469070899429383, 1.660984106774514, 1.706387572267235, 2.457349755405308, 1.902703325005739, 2.760858190431134, 1.204681937719783, 1.7681384963476086, 1.5323259757262109, 3.566340051836241, 1.2224956983907125, 1.544675177061284, 1.2351898445524576, 1.6553779435243305, 1.403245261151846, 1.2543226215275314, 7.938371211112452, 2.085192355541892, 1.2862334063802419, 1.6099372748413625, 1.3614441210608605, 2.5204195115519505, 2.9344488310927734, 1.360369211951972, 3.8116454445132666, 22.89402056710817, 7.609770806783381, 4.133782066648894, 17.989281056540186, 9.92032129190034, 5.763133432588686, 10.613754227700767, 14.808431565040756, 12.186269769919804, 7.470964000560777, 21.051763567582398, 20.106991867465236, 42.607861427950645, 20.831017505747784, 35.45849649065923, 26.229401977137705, 32.20936778925327, 36.89841314555577, 40.57753092280887, 38.88261541693894, 18.35218061565213, 11.442028569595164, 15.0891431284677, 28.42465672339238, 17.047586589645967, 23.678415950983418, 30.548612909241328, 28.25629977282805, 45.24062694010484, 20.347813265536917], \"Category\": [\"Default\", \"Default\", \"Default\", \"Default\", \"Default\", \"Default\", \"Default\", \"Default\", \"Default\", \"Default\", \"Default\", \"Default\", \"Default\", \"Default\", \"Default\", \"Default\", \"Default\", \"Default\", \"Default\", \"Default\", \"Default\", \"Default\", \"Default\", \"Default\", \"Default\", \"Default\", \"Default\", \"Default\", \"Default\", \"Default\", \"Topic1\", \"Topic1\", \"Topic1\", \"Topic1\", \"Topic1\", \"Topic1\", \"Topic1\", \"Topic1\", \"Topic1\", \"Topic1\", \"Topic1\", \"Topic1\", \"Topic1\", \"Topic1\", \"Topic1\", \"Topic1\", \"Topic1\", \"Topic1\", \"Topic1\", \"Topic1\", \"Topic1\", \"Topic1\", \"Topic1\", \"Topic1\", \"Topic1\", \"Topic1\", \"Topic1\", \"Topic1\", \"Topic1\", \"Topic1\", \"Topic1\", \"Topic1\", \"Topic1\", \"Topic1\", \"Topic1\", \"Topic1\", \"Topic1\", \"Topic1\", \"Topic1\", \"Topic1\", \"Topic1\", \"Topic1\", \"Topic1\", \"Topic1\", \"Topic1\", \"Topic1\", \"Topic1\", \"Topic1\", \"Topic1\", \"Topic1\", \"Topic1\", \"Topic1\", \"Topic1\", \"Topic1\", \"Topic1\", \"Topic1\", \"Topic1\", \"Topic1\", \"Topic1\", \"Topic1\", \"Topic1\", \"Topic1\", \"Topic1\", \"Topic1\", \"Topic1\", \"Topic1\", \"Topic1\", \"Topic1\", \"Topic1\", \"Topic2\", \"Topic2\", \"Topic2\", \"Topic2\", \"Topic2\", \"Topic2\", \"Topic2\", \"Topic2\", \"Topic2\", \"Topic2\", \"Topic2\", \"Topic2\", \"Topic2\", \"Topic2\", \"Topic2\", \"Topic2\", \"Topic2\", \"Topic2\", \"Topic2\", \"Topic2\", \"Topic2\", \"Topic2\", \"Topic2\", \"Topic2\", \"Topic2\", \"Topic2\", \"Topic2\", \"Topic2\", \"Topic2\", \"Topic2\", \"Topic2\", \"Topic2\", \"Topic2\", \"Topic2\", \"Topic2\", \"Topic2\", \"Topic2\", \"Topic2\", \"Topic2\", \"Topic2\", \"Topic2\", \"Topic2\", \"Topic2\", \"Topic2\", \"Topic2\", \"Topic2\", \"Topic2\", \"Topic2\", \"Topic2\", \"Topic2\", \"Topic2\", \"Topic2\", \"Topic2\", \"Topic2\", \"Topic2\", \"Topic2\", \"Topic2\", \"Topic2\", \"Topic2\", \"Topic2\", \"Topic2\", \"Topic2\", \"Topic2\", \"Topic2\", \"Topic2\", \"Topic2\", \"Topic2\", \"Topic2\", \"Topic2\", \"Topic2\", \"Topic3\", \"Topic3\", \"Topic3\", \"Topic3\", \"Topic3\", \"Topic3\", \"Topic3\", \"Topic3\", \"Topic3\", \"Topic3\", \"Topic3\", \"Topic3\", \"Topic3\", \"Topic3\", \"Topic3\", \"Topic3\", \"Topic3\", \"Topic3\", \"Topic3\", \"Topic3\", \"Topic3\", \"Topic3\", \"Topic3\", \"Topic3\", \"Topic3\", \"Topic3\", \"Topic3\", \"Topic3\", \"Topic3\", \"Topic3\", \"Topic3\", \"Topic3\", \"Topic3\", \"Topic3\", \"Topic3\", \"Topic3\", \"Topic3\", \"Topic3\", \"Topic3\", \"Topic3\", \"Topic3\", \"Topic3\", \"Topic3\", \"Topic3\", \"Topic3\", \"Topic3\", \"Topic3\", \"Topic3\", \"Topic3\", \"Topic3\", \"Topic3\", \"Topic3\", \"Topic3\", \"Topic3\", \"Topic3\", \"Topic3\", \"Topic3\", \"Topic3\", \"Topic3\", \"Topic3\", \"Topic3\", \"Topic3\", \"Topic3\", \"Topic4\", \"Topic4\", \"Topic4\", \"Topic4\", \"Topic4\", \"Topic4\", \"Topic4\", \"Topic4\", \"Topic4\", \"Topic4\", \"Topic4\", \"Topic4\", \"Topic4\", \"Topic4\", \"Topic4\", \"Topic4\", \"Topic4\", \"Topic4\", \"Topic4\", \"Topic4\", \"Topic4\", \"Topic4\", \"Topic4\", \"Topic4\", \"Topic4\", \"Topic4\", \"Topic4\", \"Topic4\", \"Topic4\", \"Topic4\", \"Topic4\", \"Topic4\", \"Topic4\", \"Topic4\", \"Topic4\", \"Topic4\", \"Topic4\", \"Topic4\", \"Topic4\", \"Topic4\", \"Topic4\", \"Topic4\", \"Topic4\", \"Topic4\", \"Topic4\", \"Topic4\", \"Topic4\", \"Topic4\", \"Topic4\", \"Topic4\", \"Topic4\", \"Topic4\", \"Topic4\", \"Topic4\", \"Topic4\", \"Topic4\", \"Topic4\", \"Topic4\", \"Topic4\", \"Topic4\", \"Topic4\", \"Topic4\", \"Topic4\", \"Topic4\", \"Topic4\", \"Topic4\", \"Topic4\", \"Topic5\", \"Topic5\", \"Topic5\", \"Topic5\", \"Topic5\", \"Topic5\", \"Topic5\", \"Topic5\", \"Topic5\", \"Topic5\", \"Topic5\", \"Topic5\", \"Topic5\", \"Topic5\", \"Topic5\", \"Topic5\", \"Topic5\", \"Topic5\", \"Topic5\", \"Topic5\", \"Topic5\", \"Topic5\", \"Topic5\", \"Topic5\", \"Topic5\", \"Topic5\", \"Topic5\", \"Topic5\", \"Topic5\", \"Topic5\", \"Topic5\", \"Topic5\", \"Topic5\", \"Topic5\", \"Topic5\", \"Topic5\", \"Topic5\", \"Topic5\", \"Topic5\", \"Topic5\", \"Topic5\", \"Topic5\", \"Topic5\", \"Topic5\", \"Topic5\", \"Topic5\", \"Topic5\", \"Topic5\", \"Topic5\", \"Topic5\", \"Topic5\", \"Topic5\", \"Topic5\", \"Topic5\", \"Topic5\", \"Topic5\", \"Topic5\", \"Topic5\", \"Topic5\", \"Topic5\", \"Topic5\"], \"logprob\": [30.0, 29.0, 28.0, 27.0, 26.0, 25.0, 24.0, 23.0, 22.0, 21.0, 20.0, 19.0, 18.0, 17.0, 16.0, 15.0, 14.0, 13.0, 12.0, 11.0, 10.0, 9.0, 8.0, 7.0, 6.0, 5.0, 4.0, 3.0, 2.0, 1.0, -6.9211, -6.6897, -6.7475, -6.3603, -7.0883, -6.953, -6.827, -6.7726, -7.2664, -7.1917, -6.7748, -7.0175, -7.372, -6.5261, -7.2073, -7.3377, -6.9192, -6.4906, -7.4733, -7.527, -7.3267, -7.2504, -7.544, -7.6148, -7.5289, -6.8698, -6.8544, -7.292, -7.3449, -7.7135, -6.8316, -5.873, -6.2062, -7.0169, -6.95, -6.533, -6.762, -6.7138, -6.1158, -6.5482, -6.8081, -6.2964, -6.8178, -6.5404, -6.9079, -6.7951, -6.4328, -6.831, -6.0434, -6.5152, -6.271, -6.2221, -6.1803, -6.4354, -6.4495, -6.5595, -6.4853, -6.3131, -6.6337, -6.6452, -6.5401, -6.5257, -6.4578, -6.5784, -6.4609, -6.4843, -6.5241, -6.5914, -6.5551, -7.0175, -6.5744, -6.9957, -7.299, -6.8853, -7.3131, -7.6028, -6.9424, -7.2582, -7.6815, -7.6051, -7.7294, -6.634, -7.7673, -6.3633, -6.7348, -7.8406, -7.5831, -7.7255, -7.6117, -7.8944, -7.8367, -7.8558, -6.6339, -6.9682, -6.8245, -7.7076, -7.5431, -7.9167, -8.0065, -5.9085, -6.9847, -6.5296, -6.7442, -6.8002, -5.6799, -6.1605, -6.9463, -7.292, -6.1265, -5.6343, -6.4126, -6.8394, -6.4436, -6.7224, -6.7903, -6.6592, -5.7396, -5.7154, -6.0517, -5.9654, -6.587, -6.0434, -6.1804, -5.9731, -6.037, -6.5245, -6.5365, -6.2533, -6.7114, -6.6495, -6.4066, -6.3249, -6.4984, -6.5243, -6.5341, -6.4416, -6.4894, -6.505, -6.554, -6.4529, -6.2311, -6.9021, -6.9768, -6.7552, -6.581, -6.5528, -6.6961, -7.1416, -7.2816, -5.6615, -7.3764, -7.2536, -7.5047, -6.307, -6.9628, -7.2676, -6.5494, -7.5047, -7.4503, -6.9445, -7.7059, -7.6231, -5.9922, -7.511, -6.9077, -7.733, -7.7541, -7.3693, -7.69, -6.543, -6.8247, -6.991, -4.8263, -5.8671, -6.6406, -5.0608, -6.1394, -5.9902, -6.3603, -6.8218, -6.7564, -5.9243, -6.6659, -5.7509, -5.5726, -5.7952, -6.3647, -5.8436, -6.1919, -5.7471, -6.2967, -5.7385, -5.8677, -6.1072, -6.0677, -6.1572, -6.3582, -6.223, -6.2714, -6.3729, -6.2952, -6.3719, -6.1019, -5.677, -5.8281, -6.3526, -7.1777, -7.3982, -7.4475, -7.049, -6.4413, -7.071, -7.3791, -7.2991, -7.4631, -7.0524, -7.6716, -7.3874, -7.0027, -6.3395, -7.7776, -7.7752, -7.8079, -7.8994, -7.8504, -7.936, -6.766, -7.8963, -7.6611, -7.278, -7.9325, -7.1014, -5.6112, -5.5544, -6.7974, -5.7722, -6.6673, -5.9033, -6.432, -5.7524, -5.7945, -6.479, -6.1935, -5.6186, -5.8694, -6.4879, -5.3075, -6.3345, -6.2431, -6.2951, -5.4742, -6.4978, -5.9827, -5.9155, -5.8948, -5.9205, -6.2034, -5.9849, -6.304, -5.8864, -6.0876, -6.19, -6.1986, -5.9998, -6.1651, -6.1271, -6.0982, -6.1339, -6.188, -6.5509, -5.8464, -6.4045, -6.6051, -5.889, -5.88, -6.4682, -7.01, -7.0085, -6.6484, -6.9051, -6.5526, -7.3952, -7.0266, -7.2074, -6.3663, -7.5162, -7.296, -7.5569, -7.2693, -7.4538, -7.6073, -5.7637, -7.104, -7.6128, -7.3905, -7.5691, -6.9769, -6.8375, -7.609, -6.5966, -4.9056, -5.9864, -6.5793, -5.3988, -5.9148, -6.3956, -5.9514, -5.7432, -5.9032, -6.2651, -5.6585, -5.6885, -5.2719, -5.7052, -5.4351, -5.6287, -5.5332, -5.4795, -5.5333, -5.5924, -5.9817, -6.1849, -6.1029, -5.9579, -6.089, -6.0372, -6.0702, -6.1192, -6.1056, -6.1843], \"loglift\": [30.0, 29.0, 28.0, 27.0, 26.0, 25.0, 24.0, 23.0, 22.0, 21.0, 20.0, 19.0, 18.0, 17.0, 16.0, 15.0, 14.0, 13.0, 12.0, 11.0, 10.0, 9.0, 8.0, 7.0, 6.0, 5.0, 4.0, 3.0, 2.0, 1.0, 1.0464, 1.0392, 1.0351, 1.0335, 1.0311, 1.026, 1.0199, 1.0144, 1.014, 1.0126, 1.0124, 1.009, 1.0043, 0.9994, 0.9968, 0.9942, 0.9902, 0.9898, 0.9853, 0.9842, 0.9838, 0.9769, 0.9739, 0.9708, 0.9671, 0.9622, 0.9575, 0.9567, 0.9565, 0.9481, 0.9393, 0.8571, 0.8702, 0.9196, 0.9074, 0.8145, 0.8418, 0.8234, 0.6648, 0.7626, 0.83, 0.6512, 0.8043, 0.6508, 0.8351, 0.725, 0.3931, 0.7551, -0.1014, 0.4061, 0.1155, -0.0192, -0.1812, 0.2143, 0.2214, 0.3521, 0.1949, -0.2541, 0.3895, 0.3993, 0.0748, 0.0184, -0.2098, 0.1737, -0.353, -0.3338, -0.2814, 0.0897, -0.2477, 1.1062, 1.0848, 1.0831, 1.0703, 1.0699, 1.0441, 1.042, 1.038, 1.0328, 1.032, 1.0228, 1.0155, 1.0123, 1.0121, 1.01, 1.0065, 0.9982, 0.9915, 0.9877, 0.987, 0.9816, 0.9805, 0.9799, 0.9786, 0.9779, 0.9761, 0.9738, 0.9696, 0.9666, 0.9622, 0.9618, 0.9542, 0.9427, 0.9441, 0.934, 0.8609, 0.8884, 0.9244, 0.9372, 0.7587, 0.6731, 0.7407, 0.8308, 0.7433, 0.7941, 0.7989, 0.7432, 0.3683, 0.3437, 0.4516, 0.3734, 0.6905, 0.3484, 0.4345, 0.2749, 0.1135, 0.5682, 0.5794, 0.227, 0.7472, 0.6016, 0.0572, -0.1626, 0.0285, 0.0727, 0.1124, -0.4425, -0.2865, -0.2623, 0.056, 1.6361, 1.5786, 1.5739, 1.5653, 1.5602, 1.55, 1.5242, 1.5225, 1.5216, 1.5035, 1.4855, 1.4545, 1.453, 1.4431, 1.4286, 1.4177, 1.4134, 1.4065, 1.4049, 1.3979, 1.3909, 1.3793, 1.3771, 1.3758, 1.3637, 1.3636, 1.3618, 1.3588, 1.3569, 1.3565, 1.3366, 1.3345, 1.3337, 1.2179, 1.2634, 1.2797, 1.1015, 1.1696, 1.1344, 1.1782, 1.2835, 1.2443, 0.9368, 1.1967, 0.7752, 0.6701, 0.6522, 0.949, 0.543, 0.7445, 0.252, 0.7879, 0.2035, 0.2828, 0.5197, 0.4356, 0.3066, 0.6379, 0.1688, 0.1984, 0.4741, -0.2362, -0.2641, 1.6713, 1.6133, 1.5769, 1.5369, 1.5193, 1.5041, 1.4859, 1.4808, 1.4587, 1.4563, 1.4391, 1.4333, 1.4329, 1.4299, 1.4245, 1.4219, 1.4185, 1.3842, 1.3759, 1.3756, 1.3628, 1.3526, 1.3502, 1.3406, 1.3321, 1.3279, 1.3262, 1.3256, 1.3227, 1.3208, 1.3198, 1.2761, 1.2849, 1.2029, 1.2592, 1.1914, 1.2345, 1.1382, 1.1419, 1.1854, 1.0984, 0.9075, 0.9406, 1.106, 0.6344, 1.0321, 0.9889, 0.9998, 0.5249, 1.0936, 0.7583, 0.7114, 0.575, 0.527, 0.7409, 0.4955, 0.8492, 0.3165, 0.5589, 0.6711, 0.6483, 0.0444, 0.4846, 0.3367, 0.1499, 0.205, -0.0257, 2.6145, 2.5998, 2.4449, 2.4145, 2.3409, 2.2978, 2.2967, 2.2936, 2.2682, 2.2636, 2.2627, 2.2429, 2.2296, 2.2146, 2.1769, 2.1733, 2.0939, 2.0802, 2.0429, 2.0377, 2.0185, 1.9772, 1.9756, 1.9722, 1.9465, 1.9443, 1.9335, 1.9097, 1.8971, 1.8943, 1.8764, 1.7746, 1.7952, 1.8126, 1.5225, 1.6017, 1.664, 1.4975, 1.3727, 1.4076, 1.5349, 1.1056, 1.1215, 0.7871, 1.0694, 0.8076, 0.9155, 0.8056, 0.7234, 0.5745, 0.5581, 0.9196, 1.1888, 0.9942, 0.5059, 0.8861, 0.6093, 0.3216, 0.3505, -0.1065, 0.6138]}, \"token.table\": {\"Topic\": [2, 2, 3, 4, 4, 5, 1, 3, 4, 5, 1, 2, 3, 4, 4, 5, 2, 2, 1, 3, 2, 3, 4, 1, 3, 3, 2, 1, 2, 3, 4, 5, 3, 1, 2, 1, 3, 4, 5, 1, 2, 3, 4, 4, 1, 2, 3, 1, 2, 3, 4, 5, 1, 2, 2, 3, 1, 2, 4, 5, 5, 4, 2, 5, 1, 2, 3, 4, 5, 1, 3, 4, 3, 4, 1, 2, 1, 1, 2, 4, 1, 2, 4, 5, 2, 5, 1, 3, 4, 1, 2, 3, 4, 1, 1, 4, 1, 2, 3, 4, 5, 1, 2, 3, 4, 5, 2, 3, 4, 5, 1, 2, 3, 4, 5, 1, 2, 3, 4, 5, 2, 5, 3, 1, 2, 1, 4, 1, 2, 3, 5, 4, 1, 2, 1, 2, 3, 2, 1, 2, 1, 2, 3, 4, 1, 2, 3, 4, 1, 3, 4, 5, 1, 2, 3, 4, 5, 1, 2, 2, 3, 5, 2, 4, 2, 4, 1, 4, 1, 2, 3, 4, 1, 2, 3, 4, 5, 1, 2, 4, 5, 1, 1, 2, 5, 1, 2, 3, 4, 5, 3, 1, 2, 3, 4, 5, 1, 2, 4, 2, 3, 4, 5, 1, 2, 3, 4, 5, 1, 2, 3, 4, 5, 1, 2, 1, 2, 1, 3, 2, 3, 2, 1, 3, 4, 1, 1, 2, 3, 4, 5, 2, 3, 4, 5, 2, 3, 4, 5, 3, 4, 4, 3, 2, 1, 2, 3, 4, 5, 3, 4, 4, 1, 2, 3, 4, 1, 2, 3, 4, 5, 1, 2, 4, 2, 3, 1, 2, 4, 2, 3, 4, 3, 1, 2, 5, 1, 1, 2, 3, 4, 2, 1, 1, 2, 3, 4, 5, 1, 2, 1, 2, 3, 4, 5, 1, 2, 3, 5, 2, 3, 4, 5, 1, 1, 4, 5, 5, 2, 4, 3, 1, 2, 4, 3, 4, 2, 3, 1, 2, 3, 4, 1, 2, 4, 5, 3, 5, 2, 4, 2, 3, 1, 2, 3, 4, 5, 1, 3, 2, 2, 4, 1, 3, 4, 1, 2, 3, 4, 1, 1, 2, 3, 4, 1, 2, 3, 4, 1, 2, 3, 1, 2, 3, 4, 5, 1, 2, 3, 4, 5, 1, 3, 4, 1, 2, 3, 1, 2, 3, 4, 5, 3, 1, 2, 3, 4, 3, 4, 1, 2, 3, 4, 3, 4, 1, 2, 3, 4, 5, 1, 2, 3, 4, 5, 5, 1, 3, 4, 4, 1, 2, 3, 4, 5, 1, 2, 1, 2, 3, 4, 5, 1, 2, 3, 4, 2, 1, 2, 5, 1, 2, 3, 4, 5, 2, 1, 4, 5, 1, 2, 4, 1, 2, 3, 4, 3, 4, 1, 2, 3, 4, 1, 2, 3, 4, 1, 2, 3, 4, 5, 2, 3, 4, 2, 3, 4, 1, 4, 1, 2, 3, 1, 2, 3, 4, 5, 2, 5, 4, 2, 4, 1, 2, 3, 4, 3, 1, 2, 3, 5, 5, 1, 3, 4, 1, 1, 1, 2, 3, 4, 5, 2, 1, 1, 1, 2, 3, 5, 1, 2, 5, 1, 2, 3, 4, 5, 1, 2, 4, 5, 1, 2, 3, 4, 5, 1, 2, 4, 3, 4, 1, 2, 3, 3, 2, 5, 1, 2, 3, 4, 5, 1, 2, 3, 4, 5, 1, 2, 3, 4, 1, 2, 3, 4, 5, 1, 4, 5, 1, 2, 5, 1, 1, 2, 3, 2, 3, 1, 2, 3, 4, 3, 1, 1, 2, 1, 2, 3, 4, 5, 1, 2, 3, 4, 5, 1, 5, 1, 2, 3, 4, 1, 2, 3, 4, 5, 2, 2, 3, 2, 3, 1, 2, 3, 4, 4, 5, 1, 2, 3, 4, 5, 1, 2, 3, 4, 5, 4, 1, 1, 2, 3, 4, 5, 3, 4, 4, 2, 5, 1, 2, 3, 5, 1, 3, 1, 1, 2, 3, 5, 1, 1, 2, 3, 4, 5, 2, 4, 5, 1, 2, 3, 4, 1, 2, 3, 4, 5, 1, 2, 3, 4, 2, 3, 1, 2, 3, 5, 3, 4, 1], \"Freq\": [0.801574654788268, 0.8747335001540062, 0.7174560583916892, 0.2391520194638964, 0.49871540575954626, 0.24935770287977313, 0.15701083936625881, 0.41869557164335686, 0.31402167873251763, 0.05233694645541961, 0.6278603471374508, 0.2897816986788234, 0.04829694977980391, 0.04829694977980391, 0.39675934717084027, 0.39675934717084027, 0.934561383521932, 0.8711538659964239, 0.19169857572374732, 0.575095727171242, 0.7402181447025765, 0.29894408330820466, 0.5978881666164093, 0.20341743694781877, 0.8136697477912751, 0.7504611947903908, 0.7851316453669236, 0.18843473827387233, 0.18843473827387233, 0.09421736913693617, 0.2826521074108085, 0.18843473827387233, 0.48852904008010223, 0.1928886913894012, 0.7715547655576048, 0.7805429326272896, 0.04591429015454644, 0.13774287046363934, 0.09182858030909288, 0.1402076078338094, 0.6309342352521423, 0.0701038039169047, 0.2103114117507141, 0.5860046408353801, 0.10840450876831514, 0.6504270526098909, 0.10840450876831514, 0.04973394362475882, 0.19893577449903527, 0.19893577449903527, 0.44760549262282934, 0.14920183087427644, 0.22193133598076795, 0.7767596759326878, 0.7745031451208997, 0.15490062902417995, 0.3495883597624618, 0.3495883597624618, 0.1747941798812309, 0.1747941798812309, 0.602052720385093, 0.5430458207745876, 0.28039950915087836, 0.28039950915087836, 0.2419092211144705, 0.2419092211144705, 0.2419092211144705, 0.2419092211144705, 0.2419092211144705, 0.06966603654818936, 0.7663264020300828, 0.1393320730963787, 0.14637224340315416, 0.7318612170157708, 0.780047279535031, 0.13000787992250518, 0.9210791675886428, 0.15631438253676658, 0.9378862952205995, 0.8009797775060213, 0.18946305484058898, 0.6946978677488264, 0.06315435161352967, 0.06315435161352967, 0.8035005656025774, 0.13391676093376292, 0.10304949463537343, 0.5152474731768671, 0.20609898927074685, 0.7203823301129612, 0.10291176144470873, 0.10291176144470873, 0.10291176144470873, 0.8415957286921213, 0.7700227429088394, 0.11000324898697705, 0.28135316706333763, 0.3215464766438144, 0.1607732383219072, 0.20096654790238402, 0.0401933095804768, 0.25381786851483834, 0.22561588312430073, 0.3384238246864511, 0.08460595617161278, 0.11280794156215036, 0.11226098096594159, 0.22452196193188317, 0.6174353953126787, 0.5860333351299112, 0.11731865912414378, 0.05865932956207189, 0.17597798868621567, 0.5279339660586471, 0.11731865912414378, 0.2064170324716685, 0.15481277435375138, 0.2580212905895856, 0.30962554870750275, 0.05160425811791713, 0.5255680099245024, 0.5255680099245024, 0.4974732416147834, 0.7081370203290497, 0.20232486295115704, 0.8504815071164527, 0.1417469178527421, 0.6721851442464492, 0.1120308573744082, 0.1120308573744082, 0.1120308573744082, 0.7410180559701947, 0.9206976321369177, 0.6462761343161142, 0.11755768736157193, 0.7053461241694315, 0.11755768736157193, 0.7909189154950877, 0.8839137662303262, 0.9346697474496718, 0.21730085557618053, 0.21730085557618053, 0.10865042778809027, 0.5432521389404513, 0.26031085766644313, 0.08677028588881439, 0.17354057177762877, 0.4338514294440719, 0.15228983058787923, 0.20305310745050564, 0.6091593223515169, 0.05076327686262641, 0.2768840358255671, 0.10383151343458766, 0.34610504478195886, 0.2768840358255671, 0.034610504478195886, 0.7662156429689344, 0.25540521432297814, 0.8188917678274211, 0.479572063144325, 0.479572063144325, 0.7182051190322685, 0.1436410238064537, 0.7924018054209768, 0.21130714811226048, 0.1303096052851818, 0.9121672369962724, 0.16105673093246345, 0.08052836546623172, 0.24158509639869516, 0.4831701927973903, 0.34312638953204716, 0.2668760807471478, 0.19062577196224842, 0.11437546317734905, 0.11437546317734905, 0.6564765224340382, 0.08205956530425478, 0.08205956530425478, 0.16411913060850955, 0.8916827766636467, 0.2854219414654757, 0.66598453008611, 0.09514064715515858, 0.5030327000967442, 0.2515163500483721, 0.12575817502418604, 0.12575817502418604, 0.06287908751209302, 0.6460603909751098, 0.16893021933056596, 0.3378604386611319, 0.12669766449792447, 0.2956278838284904, 0.08446510966528298, 0.2337446955082938, 0.2337446955082938, 0.5843617387707345, 0.6839429286229431, 0.15198731747176514, 0.11399048810382385, 0.037996829367941284, 0.21795775029526993, 0.2724471878690874, 0.21795775029526993, 0.16346831272145243, 0.10897887514763496, 0.262304576567242, 0.29977665893399086, 0.18736041183374427, 0.18736041183374427, 0.03747208236674886, 0.6484303667519824, 0.21614345558399414, 0.9154235775816653, 0.10171373084240726, 0.8127004361670485, 0.13545007269450807, 0.803433745514034, 0.11477624935914772, 0.9459848360706816, 0.11287218023177734, 0.338616540695332, 0.507924811042998, 0.8177371380800885, 0.29227021971355144, 0.14613510985677572, 0.20876444265253674, 0.3131466639788051, 0.020876444265253674, 0.13222834726129815, 0.19834252089194723, 0.5289133890451926, 0.06611417363064907, 0.16153958929663592, 0.24230938394495388, 0.48461876788990776, 0.08076979464831796, 0.8964270378659912, 0.8315073807861466, 0.5735811103654931, 0.48389434525988184, 0.7127989924283199, 0.3894833420544501, 0.21637963447469452, 0.1298277806848167, 0.21637963447469452, 0.0432759268949389, 0.7168806564085798, 0.5560490265373818, 0.5181045535284052, 0.44043434813517796, 0.27527146758448623, 0.16516288055069173, 0.11010858703379449, 0.13505819243690415, 0.5402327697476166, 0.06752909621845207, 0.06752909621845207, 0.20258728865535622, 0.32990926300651985, 0.5278548208104317, 0.13196370520260792, 0.7540763719253691, 0.7635613188949576, 0.12401534283850454, 0.12401534283850454, 0.6200767141925227, 0.08191872912198678, 0.5734311038539075, 0.3276749164879471, 0.8934686683649264, 0.9604730272762202, 0.768900333817483, 0.1537800667634966, 0.775811611090295, 0.13090361940550568, 0.19635542910825854, 0.3927108582165171, 0.26180723881101137, 0.8614026664308431, 0.8656220818951943, 0.33251370971975464, 0.23750979265696762, 0.1900078341255741, 0.14250587559418057, 0.14250587559418057, 0.9247825721516394, 0.8924821087857479, 0.24002668129967145, 0.33603735381954003, 0.14401600877980286, 0.14401600877980286, 0.14401600877980286, 0.9250795882450963, 0.26235388746334365, 0.26235388746334365, 0.26235388746334365, 0.21783357211698934, 0.21783357211698934, 0.5445839302924733, 0.5655665560507113, 0.911329275370102, 0.520550154718951, 0.17351671823965037, 0.17351671823965037, 0.8300946238911789, 0.688666405214725, 0.7344277811903388, 0.8889667852191895, 0.3174894325411763, 0.5556065069470585, 0.07937235813529407, 0.2647978250519179, 0.7943934751557538, 0.18163014858712054, 0.5448904457613616, 0.11376894979718326, 0.34130684939154976, 0.17065342469577488, 0.34130684939154976, 0.46390970914667495, 0.26509126236952857, 0.13254563118476428, 0.13254563118476428, 0.6211422119526591, 0.6211422119526591, 0.7861561534543998, 0.17470136743431108, 0.15641860384461032, 0.6256744153784413, 0.3755017075471621, 0.2346885672169763, 0.18775085377358106, 0.1408131403301858, 0.046937713443395264, 0.22619496810466444, 0.6785849043139933, 0.6674072292207962, 0.9301822656379439, 0.5717773642831208, 0.2606752671731939, 0.6951340457951838, 0.08689175572439797, 0.1392472476425946, 0.32491024449938744, 0.1856629968567928, 0.3713259937135856, 0.8019641926998637, 0.1635962373543194, 0.1635962373543194, 0.6543849494172777, 0.1635962373543194, 0.14499591587125138, 0.6524816214206313, 0.2174938738068771, 0.8309602264049174, 0.8751200125955487, 0.09723555695506096, 0.8433822347377277, 0.2457266505619303, 0.34401731078670245, 0.19658132044954424, 0.14743599033715818, 0.09829066022477212, 0.2551761395880635, 0.3969406615814321, 0.14176452199336861, 0.19847033079071605, 0.02835290439867372, 0.12549877604569307, 0.7529926562741585, 0.12549877604569307, 0.3865274510348091, 0.5411384314487327, 0.784103420398068, 0.09249321747904124, 0.13873982621856185, 0.5780826092440078, 0.16186313058832216, 0.02312330436976031, 0.6627608006352024, 0.05361729908207048, 0.6434075889848457, 0.05361729908207048, 0.21446919632828193, 0.3037773862898997, 0.6075547725797994, 0.11232559977432656, 0.11232559977432656, 0.3744186659144219, 0.4118605325058641, 0.24909747241562727, 0.7472924172468818, 0.15523434153427443, 0.4346561562959684, 0.09314060492056465, 0.2173280781479842, 0.09314060492056465, 0.14072289558058784, 0.3166265150563226, 0.2462650672660287, 0.2462650672660287, 0.07036144779029392, 0.5243187113344201, 0.08040175691670412, 0.08040175691670412, 0.8040175691670411, 0.5166924071827909, 0.23963187450432488, 0.17972390587824366, 0.2995398431304061, 0.17972390587824366, 0.05990796862608122, 0.7671595823824696, 0.15343191647649393, 0.21234202808712224, 0.21234202808712224, 0.21234202808712224, 0.283122704116163, 0.07078067602904076, 0.49242351982960225, 0.3077646998935014, 0.12310587995740056, 0.06155293997870028, 0.9250815683974366, 0.7789749971457918, 0.1298291661909653, 0.06491458309548265, 0.3582124379954518, 0.22795336963346935, 0.2930829038144606, 0.06512953418099125, 0.06512953418099125, 0.8843559392027073, 0.35125838968634676, 0.35125838968634676, 0.35125838968634676, 0.7585419575217116, 0.12642365958695195, 0.12642365958695195, 0.0780670957714289, 0.26022365257142965, 0.5204473051428593, 0.1561341915428578, 0.8434930079447691, 0.5271202740737682, 0.16459842075428016, 0.24689763113142024, 0.41149605188570043, 0.16459842075428016, 0.4547832345310753, 0.10106294100690562, 0.15159441151035843, 0.25265735251726407, 0.381324215748667, 0.08473871461081488, 0.16947742922162976, 0.2542161438324446, 0.04236935730540744, 0.147925643549783, 0.147925643549783, 0.7396282177489149, 0.6672102352512462, 0.18033618675017754, 0.8115128403757988, 0.8920611384220916, 0.4892130879996615, 0.14493460433700192, 0.14493460433700192, 0.7246730216850097, 0.24069709921914256, 0.5716556106454636, 0.09026141220717845, 0.06017427480478564, 0.06017427480478564, 0.3822571751018436, 0.3822571751018436, 0.8060391692760102, 0.3513639535749355, 0.5856065892915592, 0.20436348051549108, 0.1362423203436607, 0.5449692813746428, 0.06812116017183036, 0.7894564752021578, 0.8053175422297364, 0.340779498147734, 0.340779498147734, 0.340779498147734, 0.4531652566112506, 0.8208463729671978, 0.8109202251647013, 0.13515337086078355, 0.8232143975826223, 0.949572481451039, 0.0701017617388954, 0.2804070469555816, 0.21030528521668623, 0.42061057043337247, 0.0701017617388954, 0.8223672117652524, 0.8959289408262957, 0.838514227756506, 0.3931157471278896, 0.3057566922105808, 0.0436795274586544, 0.26207716475192644, 0.8291798159100093, 0.13819663598500156, 0.6526026549449263, 0.3273458826843228, 0.4501005886909438, 0.0818364706710807, 0.0818364706710807, 0.04091823533554035, 0.13385153507966832, 0.401554605239005, 0.26770307015933664, 0.26770307015933664, 0.19640826304702452, 0.4255512366018865, 0.19640826304702452, 0.13093884203134967, 0.06546942101567484, 0.17751093852752184, 0.17751093852752184, 0.5325328155825655, 0.36063931378368913, 0.5409589706755337, 0.683031200749878, 0.227677066916626, 0.7454295793589082, 0.6346364154310604, 0.36220621669954034, 0.36220621669954034, 0.32521723773493333, 0.21681149182328888, 0.13550718238955556, 0.21681149182328888, 0.08130430943373333, 0.22179762531931305, 0.4189510700475913, 0.1232209029551739, 0.1232209029551739, 0.07393254177310435, 0.10782260901012666, 0.26955652252531664, 0.16173391351518998, 0.5391130450506333, 0.5002979258433432, 0.1667659752811144, 0.05558865842703813, 0.11117731685407627, 0.22235463370815253, 0.5256400096090126, 0.13141000240225315, 0.2628200048045063, 0.10080318676941155, 0.6048191206164693, 0.2016063735388231, 0.8021329418732591, 0.1798627139308451, 0.6295194987579579, 0.1798627139308451, 0.3019199111801808, 0.6038398223603616, 0.14250433377014782, 0.14250433377014782, 0.5700173350805913, 0.14250433377014782, 0.8119847895657916, 0.9527604509798387, 0.12621707121388745, 0.7573024272833248, 0.12597042559563854, 0.12597042559563854, 0.25194085119127707, 0.12597042559563854, 0.37791127678691555, 0.17882982761438104, 0.3576596552287621, 0.14306386209150482, 0.28612772418300964, 0.035765965522876204, 0.2554150270262384, 0.5108300540524768, 0.5824755161418221, 0.14561887903545553, 0.14561887903545553, 0.07280943951772777, 0.2652483135542549, 0.19893623516569117, 0.22104026129521243, 0.28735233968377616, 0.04420805225904249, 0.756446154847542, 0.22863399820079938, 0.6859019946023982, 0.9188730153457391, 0.6758980069969543, 0.06852002732787554, 0.06852002732787554, 0.6166802459508799, 0.20556008198362663, 0.6801159032563405, 0.6473852981197519, 0.2314659110117169, 0.3343396492391466, 0.2314659110117169, 0.12859217278428717, 0.0771553036705723, 0.2581683199144097, 0.42245725076903407, 0.140819083589678, 0.09387938905978535, 0.09387938905978535, 0.833019517195344, 0.8393851671522112, 0.08282461599000278, 0.2898861559650097, 0.2898861559650097, 0.3312984639600111, 0.04141230799500139, 0.6433197848567908, 0.21443992828559694, 0.4387880019423604, 0.40694247849755644, 0.40694247849755644, 0.2561798394768897, 0.4757625590285095, 0.2561798394768897, 0.03659711992526996, 0.17657130260454873, 0.7062852104181949, 0.87263987427867, 0.11970894164173825, 0.7182536498504295, 0.11970894164173825, 0.6040916540611755, 0.8808188726199239, 0.24429683096643448, 0.32572910795524596, 0.20358069247202873, 0.20358069247202873, 0.08143227698881149, 0.3905835734055852, 0.1952917867027926, 0.3905835734055852, 0.6277186985843796, 0.285326681174718, 0.0570653362349436, 0.0570653362349436, 0.3497509829349028, 0.30603211006803993, 0.1748754914674514, 0.13115661860058855, 0.04371887286686285, 0.07584241206291342, 0.22752723618874027, 0.3033696482516537, 0.45505447237748053, 0.7519551821583011, 0.25065172738610036, 0.20573893220270678, 0.20573893220270678, 0.20573893220270678, 0.41147786440541356, 0.4655396738507922, 0.6564627467264004, 0.9503635648553532], \"Term\": [\"actor\", \"actress\", \"album\", \"album\", \"aol\", \"aol\", \"apple\", \"apple\", \"apple\", \"apple\", \"attack\", \"attack\", \"attack\", \"attack\", \"attorney\", \"attorney\", \"aviator\", \"baby\", \"band\", \"band\", \"banking\", \"bankruptcy\", \"bankruptcy\", \"battery\", \"battery\", \"beckham\", \"benitez\", \"bill\", \"bill\", \"bill\", \"bill\", \"bill\", \"bizarre\", \"blair\", \"blair\", \"blog\", \"blog\", \"blog\", \"blog\", \"bn\", \"bn\", \"bn\", \"bn\", \"boerse\", \"book\", \"book\", \"book\", \"broadband\", \"broadband\", \"broadband\", \"broadband\", \"broadband\", \"brown\", \"brown\", \"browser\", \"browser\", \"bt\", \"bt\", \"bt\", \"bt\", \"bulk\", \"buoy\", \"cafe\", \"cafe\", \"california\", \"california\", \"california\", \"california\", \"california\", \"camera\", \"camera\", \"camera\", \"ce\", \"ce\", \"champion\", \"champion\", \"championship\", \"chancellor\", \"chancellor\", \"chapter\", \"china\", \"china\", \"china\", \"china\", \"chinese\", \"chinese\", \"chip\", \"chip\", \"chip\", \"club\", \"club\", \"club\", \"club\", \"coach\", \"commission\", \"commission\", \"company\", \"company\", \"company\", \"company\", \"company\", \"computer\", \"computer\", \"computer\", \"computer\", \"computer\", \"console\", \"console\", \"console\", \"consultation\", \"consumer\", \"consumer\", \"consumer\", \"consumer\", \"consumer\", \"content\", \"content\", \"content\", \"content\", \"content\", \"convict\", \"convict\", \"cord\", \"council\", \"council\", \"creative\", \"creative\", \"critical\", \"critical\", \"critical\", \"critical\", \"crystal\", \"cup\", \"currency\", \"date\", \"date\", \"date\", \"davenport\", \"defeat\", \"deficit\", \"detail\", \"detail\", \"detail\", \"detail\", \"developer\", \"developer\", \"developer\", \"developer\", \"device\", \"device\", \"device\", \"device\", \"digital\", \"digital\", \"digital\", \"digital\", \"digital\", \"directive\", \"directive\", \"disney\", \"distributor\", \"distributor\", \"dollar\", \"dollar\", \"domain\", \"domain\", \"ds\", \"ds\", \"electronic\", \"electronic\", \"electronic\", \"electronic\", \"email\", \"email\", \"email\", \"email\", \"email\", \"engine\", \"engine\", \"engine\", \"engine\", \"england\", \"eu\", \"eu\", \"eu\", \"european\", \"european\", \"european\", \"european\", \"european\", \"farmer\", \"file\", \"file\", \"file\", \"file\", \"file\", \"fileshare\", \"fileshare\", \"fileshare\", \"film\", \"film\", \"film\", \"film\", \"find\", \"find\", \"find\", \"find\", \"find\", \"firm\", \"firm\", \"firm\", \"firm\", \"firm\", \"fix\", \"fix\", \"flaw\", \"flaw\", \"football\", \"football\", \"foreign\", \"foreign\", \"fox\", \"gadget\", \"gadget\", \"gadget\", \"gambling\", \"game\", \"game\", \"game\", \"game\", \"game\", \"gamer\", \"gamer\", \"gamer\", \"gamer\", \"gaming\", \"gaming\", \"gaming\", \"gaming\", \"gartner\", \"gates\", \"gazprom\", \"genius\", \"gerrard\", \"get\", \"get\", \"get\", \"get\", \"get\", \"gig\", \"glazer\", \"gm\", \"good\", \"good\", \"good\", \"good\", \"google\", \"google\", \"google\", \"google\", \"google\", \"government\", \"government\", \"government\", \"greek\", \"gsm\", \"handheld\", \"handheld\", \"handheld\", \"handset\", \"handset\", \"handset\", \"hiphop\", \"hole\", \"hotspot\", \"hotspot\", \"ie\", \"image\", \"image\", \"image\", \"image\", \"imf\", \"indoor\", \"information\", \"information\", \"information\", \"information\", \"information\", \"injury\", \"insurance\", \"internet\", \"internet\", \"internet\", \"internet\", \"internet\", \"ireland\", \"item\", \"item\", \"item\", \"japan\", \"japan\", \"japan\", \"jerry\", \"johnson\", \"junk\", \"junk\", \"junk\", \"juror\", \"kenteris\", \"kit\", \"knife\", \"labour\", \"labour\", \"labour\", \"las\", \"las\", \"laser\", \"laser\", \"launch\", \"launch\", \"launch\", \"launch\", \"law\", \"law\", \"law\", \"law\", \"learning\", \"learning\", \"library\", \"library\", \"light\", \"light\", \"like\", \"like\", \"like\", \"like\", \"like\", \"listener\", \"listener\", \"loophole\", \"lord\", \"lse\", \"mac\", \"mac\", \"mac\", \"machine\", \"machine\", \"machine\", \"machine\", \"madrid\", \"magazine\", \"magazine\", \"magazine\", \"magazine\", \"malicious\", \"malicious\", \"malicious\", \"map\", \"match\", \"match\", \"megapixel\", \"message\", \"message\", \"message\", \"message\", \"message\", \"microsoft\", \"microsoft\", \"microsoft\", \"microsoft\", \"microsoft\", \"mini\", \"mini\", \"mini\", \"minister\", \"minister\", \"minor\", \"mobile\", \"mobile\", \"mobile\", \"mobile\", \"mobile\", \"mouse\", \"movie\", \"movie\", \"movie\", \"movie\", \"multimedia\", \"multimedia\", \"music\", \"music\", \"music\", \"music\", \"musician\", \"musician\", \"net\", \"net\", \"net\", \"net\", \"net\", \"network\", \"network\", \"network\", \"network\", \"network\", \"nielsen\", \"nintendo\", \"nintendo\", \"nintendo\", \"nuclear\", \"offer\", \"offer\", \"offer\", \"offer\", \"offer\", \"olympic\", \"olympic\", \"online\", \"online\", \"online\", \"online\", \"online\", \"open\", \"open\", \"open\", \"open\", \"oscar\", \"patent\", \"patent\", \"patent\", \"pc\", \"pc\", \"pc\", \"pc\", \"pc\", \"pension\", \"pew\", \"pew\", \"pew\", \"phishe\", \"phishe\", \"phishe\", \"phone\", \"phone\", \"phone\", \"phone\", \"photographer\", \"physics\", \"picture\", \"picture\", \"picture\", \"picture\", \"play\", \"play\", \"play\", \"play\", \"player\", \"player\", \"player\", \"player\", \"player\", \"playstation\", \"playstation\", \"playstation\", \"poland\", \"portable\", \"portable\", \"premiership\", \"preshow\", \"print\", \"print\", \"print\", \"program\", \"program\", \"program\", \"program\", \"program\", \"prosecutor\", \"prosecutor\", \"prototype\", \"psp\", \"psp\", \"radio\", \"radio\", \"radio\", \"radio\", \"rap\", \"referee\", \"reporter\", \"reporter\", \"reporter\", \"rip\", \"robinson\", \"robot\", \"robot\", \"roddick\", \"rugby\", \"sale\", \"sale\", \"sale\", \"sale\", \"sale\", \"scan\", \"scotland\", \"scottish\", \"search\", \"search\", \"search\", \"search\", \"season\", \"season\", \"secretly\", \"security\", \"security\", \"security\", \"security\", \"security\", \"server\", \"server\", \"server\", \"server\", \"service\", \"service\", \"service\", \"service\", \"service\", \"ship\", \"ship\", \"ship\", \"showcase\", \"showcase\", \"side\", \"side\", \"silicon\", \"singer\", \"sister\", \"sister\", \"site\", \"site\", \"site\", \"site\", \"site\", \"software\", \"software\", \"software\", \"software\", \"software\", \"sony\", \"sony\", \"sony\", \"sony\", \"spam\", \"spam\", \"spam\", \"spam\", \"spam\", \"spammer\", \"spammer\", \"spammer\", \"spyware\", \"spyware\", \"spyware\", \"squad\", \"star\", \"star\", \"star\", \"station\", \"station\", \"storage\", \"storage\", \"storage\", \"storage\", \"strain\", \"strange\", \"sun\", \"sun\", \"survey\", \"survey\", \"survey\", \"survey\", \"survey\", \"system\", \"system\", \"system\", \"system\", \"system\", \"tag\", \"tag\", \"team\", \"team\", \"team\", \"team\", \"technology\", \"technology\", \"technology\", \"technology\", \"technology\", \"thanou\", \"tmobile\", \"tmobile\", \"trader\", \"translate\", \"tv\", \"tv\", \"tv\", \"tv\", \"tvs\", \"unsolicited\", \"use\", \"use\", \"use\", \"use\", \"use\", \"user\", \"user\", \"user\", \"user\", \"user\", \"vegas\", \"victory\", \"video\", \"video\", \"video\", \"video\", \"video\", \"viewer\", \"viewer\", \"violation\", \"virginia\", \"virginia\", \"virus\", \"virus\", \"virus\", \"virus\", \"visual\", \"visual\", \"wale\", \"war\", \"war\", \"war\", \"ware\", \"warrior\", \"website\", \"website\", \"website\", \"website\", \"website\", \"wifi\", \"wifi\", \"wifi\", \"win\", \"win\", \"win\", \"win\", \"world\", \"world\", \"world\", \"world\", \"world\", \"xbox\", \"xbox\", \"xbox\", \"xbox\", \"xp\", \"xp\", \"yahoo\", \"yahoo\", \"yahoo\", \"yahoo\", \"youth\", \"yukos\", \"zealand\"]}, \"R\": 30, \"lambda.step\": 0.01, \"plot.opts\": {\"xlab\": \"PC1\", \"ylab\": \"PC2\"}, \"topic.order\": [4, 2, 5, 1, 3]};\n",
              "\n",
              "function LDAvis_load_lib(url, callback){\n",
              "  var s = document.createElement('script');\n",
              "  s.src = url;\n",
              "  s.async = true;\n",
              "  s.onreadystatechange = s.onload = callback;\n",
              "  s.onerror = function(){console.warn(\"failed to load library \" + url);};\n",
              "  document.getElementsByTagName(\"head\")[0].appendChild(s);\n",
              "}\n",
              "\n",
              "if(typeof(LDAvis) !== \"undefined\"){\n",
              "   // already loaded: just create the visualization\n",
              "   !function(LDAvis){\n",
              "       new LDAvis(\"#\" + \"ldavis_el4101397826693753128516423107\", ldavis_el4101397826693753128516423107_data);\n",
              "   }(LDAvis);\n",
              "}else if(typeof define === \"function\" && define.amd){\n",
              "   // require.js is available: use it to load d3/LDAvis\n",
              "   require.config({paths: {d3: \"https://d3js.org/d3.v5\"}});\n",
              "   require([\"d3\"], function(d3){\n",
              "      window.d3 = d3;\n",
              "      LDAvis_load_lib(\"https://cdn.jsdelivr.net/gh/bmabey/pyLDAvis@3.3.1/pyLDAvis/js/ldavis.v3.0.0.js\", function(){\n",
              "        new LDAvis(\"#\" + \"ldavis_el4101397826693753128516423107\", ldavis_el4101397826693753128516423107_data);\n",
              "      });\n",
              "    });\n",
              "}else{\n",
              "    // require.js not available: dynamically load d3 & LDAvis\n",
              "    LDAvis_load_lib(\"https://d3js.org/d3.v5.js\", function(){\n",
              "         LDAvis_load_lib(\"https://cdn.jsdelivr.net/gh/bmabey/pyLDAvis@3.3.1/pyLDAvis/js/ldavis.v3.0.0.js\", function(){\n",
              "                 new LDAvis(\"#\" + \"ldavis_el4101397826693753128516423107\", ldavis_el4101397826693753128516423107_data);\n",
              "            })\n",
              "         });\n",
              "}\n",
              "</script>"
            ]
          },
          "metadata": {},
          "execution_count": 22
        }
      ]
    },
    {
      "cell_type": "markdown",
      "source": [
        "## **iii) TFIDF NMF (Sklearn)**"
      ],
      "metadata": {
        "id": "GEad9wSsGtcM"
      }
    },
    {
      "cell_type": "code",
      "source": [
        "import pyLDAvis.sklearn\n",
        "\n",
        "pyLDAvis.sklearn.prepare(sk_nmf, dtm_tfidf, tfidf_vectorizer)\n"
      ],
      "metadata": {
        "colab": {
          "base_uri": "https://localhost:8080/",
          "height": 881
        },
        "id": "dbAUG14IJdXT",
        "outputId": "5a9d203e-6dbf-48df-a1c2-5a926e95d0d5"
      },
      "execution_count": 23,
      "outputs": [
        {
          "output_type": "execute_result",
          "data": {
            "text/plain": [
              "PreparedData(topic_coordinates=              x         y  topics  cluster       Freq\n",
              "topic                                                \n",
              "0     -0.012513 -0.083715       1        1  32.137591\n",
              "1     -0.192271  0.212789       2        1  22.597620\n",
              "4      0.170978 -0.176676       3        1  18.355262\n",
              "2     -0.190878 -0.142886       4        1  15.255531\n",
              "3      0.224684  0.190488       5        1  11.653996, topic_info=          Term       Freq      Total Category  logprob  loglift\n",
              "1614      film  65.000000  65.000000  Default  30.0000  30.0000\n",
              "2417    labour  46.000000  46.000000  Default  29.0000  29.0000\n",
              "327      award  39.000000  39.000000  Default  28.0000  28.0000\n",
              "1353  election  40.000000  40.000000  Default  27.0000  27.0000\n",
              "449      blair  35.000000  35.000000  Default  26.0000  26.0000\n",
              "...        ...        ...        ...      ...      ...      ...\n",
              "119      album   7.477747  13.264875   Topic5  -5.6878   1.5763\n",
              "4968      year   9.328016  47.971093   Topic5  -5.4667   0.5119\n",
              "2901     music   8.616128  32.141309   Topic5  -5.5461   0.8330\n",
              "4601        tv   8.093344  21.705890   Topic5  -5.6087   1.1630\n",
              "535    british   7.526039  18.860719   Topic5  -5.6814   1.2308\n",
              "\n",
              "[415 rows x 6 columns], token_table=      Topic      Freq           Term\n",
              "term                                \n",
              "5         1  1.188573            abn\n",
              "15        5  0.998253        academy\n",
              "16        5  0.960745  academy award\n",
              "20        1  0.161329         access\n",
              "20        3  0.887310         access\n",
              "...     ...       ...            ...\n",
              "4941      2  1.011107   world number\n",
              "4965      2  1.066727       yachvili\n",
              "4968      1  0.583685           year\n",
              "4968      2  0.208459           year\n",
              "4968      5  0.187613           year\n",
              "\n",
              "[511 rows x 3 columns], R=30, lambda_step=0.01, plot_opts={'xlab': 'PC1', 'ylab': 'PC2'}, topic_order=[1, 2, 5, 3, 4])"
            ],
            "text/html": [
              "\n",
              "<link rel=\"stylesheet\" type=\"text/css\" href=\"https://cdn.jsdelivr.net/gh/bmabey/pyLDAvis@3.3.1/pyLDAvis/js/ldavis.v1.0.0.css\">\n",
              "\n",
              "\n",
              "<div id=\"ldavis_el4101397826693750565602421632\"></div>\n",
              "<script type=\"text/javascript\">\n",
              "\n",
              "var ldavis_el4101397826693750565602421632_data = {\"mdsDat\": {\"x\": [-0.012512709903460416, -0.19227121983968667, 0.17097844384117003, -0.19087823366347964, 0.2246837195654567], \"y\": [-0.08371547857680658, 0.21278903905421276, -0.17667557338434664, -0.1428860785534012, 0.19048809146034182], \"topics\": [1, 2, 3, 4, 5], \"cluster\": [1, 1, 1, 1, 1], \"Freq\": [32.137590587986914, 22.597620407666135, 18.355262351006367, 15.255531046386125, 11.653995606954474]}, \"tinfo\": {\"Term\": [\"film\", \"labour\", \"award\", \"election\", \"blair\", \"mobile\", \"phone\", \"party\", \"tory\", \"game\", \"win\", \"star\", \"technology\", \"use\", \"brown\", \"good\", \"play\", \"minister\", \"actor\", \"bn\", \"oscar\", \"howard\", \"festival\", \"government\", \"user\", \"prime\", \"prime minister\", \"chancellor\", \"england\", \"service\", \"abn\", \"account\", \"accounting\", \"advisor\", \"agency\", \"aggressive\", \"agree\", \"agree pay\", \"agreement\", \"agricultural\", \"airbus\", \"aircraft\", \"airline\", \"airport\", \"airways\", \"analyst\", \"analyst believe\", \"analyst expect\", \"annual\", \"annual rate\", \"anticipate\", \"apparent\", \"approval\", \"arise\", \"arm\", \"asset\", \"assist\", \"associated press\", \"att\", \"auditor\", \"bn\", \"company\", \"rise\", \"market\", \"growth\", \"economy\", \"sale\", \"bank\", \"price\", \"rate\", \"economic\", \"share\", \"fall\", \"month\", \"oil\", \"report\", \"high\", \"expect\", \"profit\", \"business\", \"figure\", \"increase\", \"china\", \"job\", \"cost\", \"may\", \"quarter\", \"however\", \"deal\", \"us\", \"year\", \"firm\", \"government\", \"new\", \"last\", \"biarritz\", \"stade toulousain\", \"toulousain\", \"yachvili\", \"safin\", \"agassi\", \"stade\", \"grewcock\", \"two game\", \"barkley\", \"laporte\", \"first grand\", \"shanklin\", \"mcclaren\", \"grand slam\", \"hantuchova\", \"vickery\", \"nadal\", \"northampton\", \"johansson\", \"drop goal\", \"andy robinson\", \"ljubicic\", \"moya\", \"open champion\", \"coach andy\", \"seed\", \"moody\", \"kicking\", \"second set\", \"cup\", \"injury\", \"six nation\", \"rugby\", \"slam\", \"tournament\", \"grand\", \"roddick\", \"australian open\", \"andy\", \"williams\", \"captain\", \"world cup\", \"squad\", \"champion\", \"federer\", \"mourinho\", \"barcelona\", \"hodgson\", \"ruddock\", \"davenport\", \"bath\", \"beat\", \"coach\", \"play well\", \"wimbledon\", \"davis cup\", \"match\", \"robinson\", \"world number\", \"championship\", \"league\", \"play\", \"ireland\", \"goal\", \"victory\", \"england\", \"win\", \"team\", \"season\", \"side\", \"title\", \"chelsea\", \"wale\", \"game\", \"final\", \"france\", \"player\", \"six\", \"first\", \"second\", \"club\", \"get\", \"go\", \"good\", \"world\", \"well\", \"time\", \"multimedia message\", \"use phone\", \"antispyware\", \"mms\", \"phone use\", \"skype\", \"cabir\", \"camera phone\", \"malicious program\", \"antivirus firm\", \"antivirus\", \"gartner\", \"multimedia\", \"mobile tv\", \"variant\", \"desktop search\", \"megapixel\", \"motorola\", \"malicious\", \"battery life\", \"sophos\", \"gsm\", \"use mobile\", \"attachment\", \"nokia\", \"mobile phone\", \"spyware\", \"bot net\", \"hsdpa\", \"gprs\", \"mobile\", \"phone\", \"user\", \"device\", \"microsoft\", \"program\", \"technology\", \"virus\", \"apple\", \"handset\", \"wireless\", \"ipod\", \"portable\", \"vodafone\", \"music player\", \"wifi\", \"infect\", \"consumer electronic\", \"search engine\", \"ce\", \"browser\", \"storage\", \"music download\", \"gadget\", \"software\", \"email\", \"search\", \"tool\", \"computer\", \"web\", \"pc\", \"digital\", \"site\", \"message\", \"broadband\", \"download\", \"use\", \"network\", \"content\", \"camera\", \"machine\", \"service\", \"net\", \"online\", \"system\", \"music\", \"video\", \"information\", \"access\", \"game\", \"tv\", \"peston\", \"new book\", \"unified\", \"alan milburn\", \"partys\", \"election widely\", \"milburn\", \"labour party\", \"next election\", \"change mind\", \"blair brown\", \"rift\", \"leader charles\", \"tuition\", \"next general\", \"win next\", \"backbencher\", \"liam fox\", \"new labour\", \"charles kennedy\", \"labour tory\", \"dem leader\", \"tuition fee\", \"third term\", \"manifesto\", \"electorate\", \"labour campaign\", \"preelection\", \"labour\", \"spring conference\", \"blair\", \"tory\", \"election\", \"tony blair\", \"michael howard\", \"kennedy\", \"lib\", \"conservative\", \"leader michael\", \"general election\", \"liberal democrats\", \"tory leader\", \"conservative party\", \"labour government\", \"blair tell\", \"prime minister\", \"prime\", \"party\", \"liberal\", \"lib dem\", \"dem\", \"cabinet\", \"election campaign\", \"brown\", \"chancellor\", \"howard\", \"tony\", \"democrats\", \"leader\", \"minister\", \"campaign\", \"gordon brown\", \"lord\", \"voter\", \"tax\", \"immigration\", \"britain\", \"government\", \"general\", \"vote\", \"plan\", \"claim\", \"tell\", \"public\", \"berlin film\", \"film festival\", \"british film\", \"eternal\", \"eternal sunshine\", \"find neverland\", \"sunshine\", \"red carpet\", \"dicaprio\", \"category include\", \"biopic\", \"neverland\", \"martin scorsese\", \"oscar nomination\", \"mike leigh\", \"scorsese\", \"vera drake\", \"staunton\", \"good film\", \"drake\", \"imelda\", \"imelda staunton\", \"good support\", \"film award\", \"support actress\", \"oscarnominate\", \"good actor\", \"leonardo\", \"nominee\", \"festival\", \"film\", \"oscar\", \"actor\", \"actress\", \"nomination\", \"aviator\", \"hollywood\", \"nominate\", \"ray\", \"academy\", \"dollar baby\", \"good actress\", \"good director\", \"vera\", \"foxx\", \"eastwood\", \"academy award\", \"sideways\", \"berlin\", \"swank\", \"cinema\", \"drama\", \"baby\", \"award\", \"comedy\", \"category\", \"million dollar\", \"ceremony\", \"star\", \"win good\", \"box office\", \"prize\", \"theatre\", \"director\", \"movie\", \"good\", \"include\", \"role\", \"singer\", \"band\", \"name\", \"show\", \"album\", \"year\", \"music\", \"tv\", \"british\"], \"Freq\": [65.0, 46.0, 39.0, 40.0, 35.0, 36.0, 34.0, 33.0, 30.0, 59.0, 44.0, 27.0, 27.0, 33.0, 27.0, 46.0, 36.0, 29.0, 18.0, 33.0, 17.0, 23.0, 17.0, 36.0, 21.0, 19.0, 19.0, 19.0, 29.0, 27.0, 1.6826905994017758, 6.949920738626216, 2.0884696982917883, 1.0632184765811155, 5.5736995003399326, 1.25076936003323, 6.19896965958739, 1.103726767448953, 4.835931835762066, 1.0372578289561263, 1.9396437886166185, 2.294805606042312, 8.42326980613369, 2.102126542811259, 1.0501348960901233, 15.10394936332146, 0.9600890746959437, 1.7556521504592801, 6.774237013827018, 1.5722291981043772, 1.2470575298145947, 1.1504423416475964, 2.785232157484823, 0.5906852111382832, 2.1962292596802584, 4.898845307003409, 0.7520753790227427, 0.8504625169594845, 1.1318629190108729, 1.0956627683806726, 33.49865603164616, 24.925775060990492, 24.0815958245676, 23.032767700808115, 22.77021216413749, 22.673711311623066, 22.01606331576672, 21.293482930425892, 19.675654489287837, 19.573897811799192, 18.351843512684436, 17.991017189187623, 16.932892687113625, 16.616060612472868, 15.718126332220885, 15.690890910611616, 14.692880436150086, 14.249883637034142, 14.172619684614533, 13.893047124401196, 13.89124304892187, 13.289294187622504, 13.0065792651414, 12.489001724696498, 12.365171334561255, 11.79203090464962, 11.682555669230888, 11.58836295177567, 11.508937216300604, 22.73632304455357, 28.44221852416084, 20.120049181387294, 18.1272911772135, 15.835249066966794, 14.309705197956614, 1.7957539722062934, 1.4953799948304884, 1.4953799948304884, 1.8748935480092643, 3.9804320325674425, 4.533756324894999, 3.2388605237739774, 1.623765406331426, 2.328342736193804, 2.8665095184614446, 3.328545240690893, 1.9655771608913104, 1.384873946475875, 2.594780939418246, 8.633232154590797, 2.6682959303778198, 1.8862648196419323, 2.614850600399346, 1.4502018652414705, 2.7854456622317167, 1.7718170134524756, 3.3752006078624275, 2.252205507231266, 3.5770668023063066, 2.704885638185445, 3.086891226115055, 10.829533053116808, 2.2524341049571874, 2.918509398474374, 2.7271154324277354, 17.840610285616307, 16.958608989722247, 13.349894179921819, 14.317972273321407, 8.871327512228236, 7.559343986401832, 9.613544963595638, 7.261531571852253, 6.997168114418979, 7.887492395586607, 11.54987358947278, 8.515797433009935, 6.977344447625102, 9.848737321314767, 14.83975519471484, 5.549299477467598, 5.744371438709849, 4.962951146183581, 4.762727132753953, 4.677879430089344, 4.5888023392571355, 4.498987015282106, 15.430460175705182, 16.70013876847502, 4.345376070441965, 4.2755545959924355, 4.25690188395975, 21.07478603930003, 11.455005737390303, 4.936385057052936, 10.384538314500228, 12.177760185969596, 34.1056112786263, 17.10685541711924, 12.070175643176137, 13.52461519568587, 27.184476616255047, 38.6646081254326, 18.59936026273323, 14.648633891696793, 17.974782361788822, 13.569895000704758, 11.699208287233306, 16.81134952654142, 43.14844004297358, 15.070139661538857, 15.063033691739703, 24.254814205371794, 14.340313767784844, 17.826553136084943, 14.553967287367671, 13.945218828640735, 17.91740596132895, 17.731830680353728, 18.824559562175235, 14.875848234813935, 13.774528149503146, 13.908444277639756, 2.166827477569047, 2.0153316558263845, 1.948027653720027, 2.0045212548745575, 1.8779282796840902, 2.5852729665536005, 2.1533173056507167, 4.12854394572917, 2.253858977029391, 1.5357064939512384, 4.625828307467842, 3.129509158883413, 5.418460787446321, 1.9814426709503425, 1.4498286553915334, 1.7782997412457142, 2.022310530030871, 2.6727842464993627, 4.626126551931684, 2.1212666049979902, 1.243966737454774, 2.0491563550551173, 1.727989623439631, 2.1017471179577507, 3.4236111971624545, 12.152139911767362, 5.237823094560776, 1.2816925850880234, 1.878179284941362, 1.6311806265717002, 36.74285173497786, 34.71754417921857, 21.525222145726136, 15.904510645183985, 13.72287491797164, 12.863786902658523, 27.742629745906864, 10.324434288557255, 10.113400068204834, 9.541212503069216, 6.989742343367833, 6.555605378204774, 6.902526464855876, 4.819274640648683, 4.754883193384914, 4.549154779333184, 3.878762071844724, 4.033394939870036, 3.468543101093005, 3.3542698161455715, 3.565697774586701, 4.251707541525024, 3.2859130513048322, 13.82063059500994, 17.10588903230803, 11.378217354082306, 11.215518927325627, 5.67639818076914, 17.174357950179598, 7.908564720445241, 13.030937291140186, 19.61407400705184, 14.002168497390048, 9.904247268353387, 14.610246051224408, 12.115106500630235, 29.066495324235433, 15.806463543053123, 10.305627982302564, 10.331237898573871, 8.935309434638624, 20.433233700341493, 14.144499138416853, 11.919509753262844, 14.405657096724106, 20.954783014996455, 13.8894777790383, 10.811326144047616, 10.667178797666013, 16.050019601713565, 12.116394823384956, 4.0104488565494805, 3.017979788253899, 2.098749606566127, 3.948949773859972, 5.890316882715164, 2.0404236693947304, 7.925865916111773, 6.91893386712237, 5.147969052548647, 1.3522553321872726, 1.901007926530983, 2.2025603903910325, 3.431008204562203, 1.9142462770847422, 3.9468245892295895, 1.7121511582568614, 2.369095312506596, 2.5136556565054247, 5.10408958520943, 4.818848148485394, 2.4074273393834202, 1.6724535274407581, 1.6131129957671766, 2.9350282120416367, 5.968101863382261, 1.9023659899951249, 2.1446575838153796, 3.058103946801407, 46.18723848456996, 1.9173055251321054, 35.16857247424178, 30.822685484086275, 40.044821255568934, 12.504181336598142, 10.644803227401262, 10.952808277648593, 12.281282674549317, 14.68710459178885, 4.996081870431259, 12.03934756721035, 6.902628564521364, 6.165469748026649, 3.3364953680247815, 2.9720256397337685, 2.7764751530309746, 19.219571865635018, 19.331316312962816, 32.715803247930815, 10.429763544544551, 9.74466981866727, 9.720607427323062, 7.408137939846618, 6.49140058335303, 25.248239881962117, 18.411849535400222, 21.643273460707753, 12.646181396103538, 6.840309938455195, 14.433699723273238, 21.95902356313424, 15.001878445808023, 7.86950919170044, 13.77868738368497, 9.66607979233334, 16.990421632800388, 8.308756756273755, 12.473092927133239, 18.154443289970043, 10.656251129602289, 10.838772252324503, 12.899398845793053, 11.027811121643111, 11.603936140454005, 10.541698634019037, 3.267859071162772, 6.768990280717518, 2.7376816750241666, 1.9046827372742334, 1.9313142021754557, 2.0340775012644317, 2.0385210494412216, 2.0117523326802824, 4.585123826360714, 1.9368045428976641, 2.509052658719536, 2.5248128116950803, 3.488479837237006, 3.131538243720079, 2.928785748368217, 4.378438039756025, 4.828038144114692, 4.0713187799371084, 6.490142902096048, 4.799557473507771, 2.939917585735127, 2.9080102852384138, 3.0290165599035235, 3.14484258944786, 2.0805645927915055, 2.22382047222593, 4.364071857732172, 2.1763278455405657, 6.291454435883887, 17.17008843008013, 65.88019298600352, 17.414891430911833, 18.250456300667786, 14.474370328656267, 12.537611612199337, 8.988761041729047, 8.668045308390148, 7.287140913501258, 6.369195609455455, 6.999734498517789, 5.7785305442214865, 5.0812880194762675, 5.0544568472304965, 4.75561913587831, 4.438412968866801, 4.229332520747895, 4.163394284860067, 3.950896098132846, 3.914750767203159, 3.8124537334583186, 7.121443968546119, 7.59955396806698, 5.574261916424245, 36.51389879661184, 10.616614476672677, 9.174129239030307, 5.489112066928624, 8.8683933396649, 22.538483976891282, 7.489872548004141, 6.672208350167111, 10.071997540120107, 6.56703737152984, 12.94054283603768, 11.05551334422183, 20.87549484794078, 11.912051128561666, 9.424673757761392, 7.180900388714344, 8.00647534879136, 7.755402243422996, 9.472702237076398, 7.477746552743684, 9.328015965027852, 8.61612774437648, 8.09334443924571, 7.526038923629783], \"Total\": [65.0, 46.0, 39.0, 40.0, 35.0, 36.0, 34.0, 33.0, 30.0, 59.0, 44.0, 27.0, 27.0, 33.0, 27.0, 46.0, 36.0, 29.0, 18.0, 33.0, 17.0, 23.0, 17.0, 36.0, 21.0, 19.0, 19.0, 19.0, 29.0, 27.0, 1.6826905994017758, 6.949920738626216, 2.0884696982917883, 1.0632184765811155, 5.5736995003399326, 1.25076936003323, 6.19896965958739, 1.103726767448953, 4.835931835762066, 1.0372578289561263, 1.9396437886166185, 2.294805606042312, 8.42326980613369, 2.102126542811259, 1.0501348960901233, 15.10394936332146, 0.9600890746959437, 1.7556521504592801, 6.774237013827018, 1.5722291981043772, 1.2470575298145947, 1.1504423416475964, 2.785232157484823, 0.5906852111382832, 2.1962292596802584, 4.898845307003409, 0.7520753790227427, 0.8504625169594845, 1.1318629190108729, 1.0956627683806726, 33.49865603164616, 24.925775060990492, 24.0815958245676, 23.032767700808115, 22.77021216413749, 22.673711311623066, 22.01606331576672, 21.293482930425892, 19.675654489287837, 19.573897811799192, 18.351843512684436, 17.991017189187623, 16.932892687113625, 16.616060612472868, 15.718126332220885, 15.690890910611616, 14.692880436150086, 14.249883637034142, 14.172619684614533, 13.893047124401196, 13.89124304892187, 13.289294187622504, 13.0065792651414, 12.489001724696498, 12.365171334561255, 11.79203090464962, 11.682555669230888, 11.58836295177567, 11.508937216300604, 27.52700583637685, 47.97109264412224, 28.97938606651695, 36.28173446718387, 31.66639068634462, 27.724958019666893, 1.7957539722062934, 1.4953799948304884, 1.4953799948304884, 1.874893548009265, 3.9804320325717737, 4.5337563249012405, 3.238860523786483, 1.6237654063454223, 2.328342736248812, 2.8665095185496656, 3.3285452410214855, 1.9655771613561157, 1.3848739469543878, 2.5947809404305624, 8.633232158160158, 2.6682959327275446, 1.886264821527636, 2.6148506034309924, 1.4502018669358632, 2.7854456665463023, 1.771817016200907, 3.3752006212621173, 2.252205518317371, 3.5770668222233173, 2.7048856541782844, 3.08689125455448, 10.829533164465438, 2.2524341288589005, 2.9185094335892012, 2.727115480618188, 17.84701921354615, 16.960013592758845, 13.35082278345249, 14.341286857643489, 8.87146110946407, 7.560279651405485, 9.640470455152986, 7.2615398161062785, 6.997190342383781, 7.8987281135500655, 11.612180728498428, 8.536737400018763, 6.9832919711500825, 9.894623674188175, 14.983379502299703, 5.549307680933848, 5.747356209929196, 4.964815476497378, 4.762733229747242, 4.677900457801878, 4.588803432622147, 4.499159276530825, 15.626802787125003, 16.928694389919425, 4.3453763955950455, 4.275820146733946, 4.257218024988814, 21.50537041800433, 11.634874326268557, 4.945075816270823, 10.602337386696307, 12.525640235184598, 36.568256290525724, 17.826391000324623, 12.45616691848289, 14.156247744797591, 29.847168387779096, 44.12323206211928, 20.211023727633616, 15.645591017257244, 19.616652014143728, 14.416529093475525, 12.3560651720916, 19.052931382467698, 59.21547679900725, 17.170023056885483, 17.681296959760086, 33.99074454319802, 18.205207828039615, 28.050759910351548, 19.85263512550258, 19.143979506974816, 39.164678511407686, 38.67847046751594, 46.310381625864764, 27.136690586747875, 24.432983437650023, 31.804121067172744, 2.166827477569047, 2.0153316558263845, 1.948027653720027, 2.0045212548745575, 1.8779282796840902, 2.5852729665536005, 2.1533173056507167, 4.128543945729172, 2.2538589770293918, 1.5357064939513068, 4.625828307468647, 3.129509158884094, 5.418460787448, 1.9814426709510153, 1.4498286553921007, 1.7782997412464898, 2.0223105300336, 2.672784246610414, 4.626126552302104, 2.1212666051712468, 1.2439667375931434, 2.049156355539771, 1.7279896238780392, 2.1017471202127047, 3.423611200929744, 12.152139932015215, 5.237823133913648, 1.281692605639453, 1.878179315674236, 1.6311806598206575, 36.742852831012684, 34.717544908213135, 21.527481400028893, 15.911309231347852, 13.724519026927902, 12.863795127137147, 27.988360126003382, 10.324671117989128, 10.118305440379167, 9.541240040748905, 6.990415161023646, 6.556315680209615, 6.913392767213736, 4.81966726125783, 4.754892459496114, 4.54915662458506, 3.8787621673183543, 4.038550228169838, 3.4685592509074583, 3.3543986301002517, 3.568227867225951, 4.263314699801312, 3.286812845180454, 14.027074471332432, 17.462625039188122, 11.583020381804559, 11.436129450592219, 5.724315638322415, 17.777010193725367, 8.070102176827064, 13.514945599806353, 20.85720036784219, 14.681985604210393, 10.236599247516432, 15.59950082906122, 12.915562129990445, 33.72940162660716, 17.959463833527536, 11.135329126956352, 11.284973898198523, 9.601082245133078, 27.045351267178486, 17.05513909079234, 13.806172155490414, 17.87137403024101, 32.14130904629585, 17.968515526182543, 12.881030156511521, 12.397013719371964, 59.21547679900725, 21.705890339026915, 4.010448856549499, 3.0179797882541766, 2.098749606662494, 3.9489498069759383, 5.8903169442928975, 2.0404236990942626, 7.925866318509631, 6.918934613805896, 5.147969698685178, 1.352255502582129, 1.9010082568087432, 2.2025613665538675, 3.431009870351629, 1.9142474067948407, 3.946827355330503, 1.7121530142394341, 2.369097963106201, 2.513660134961621, 5.104098868228755, 4.818858906890422, 2.407438066077644, 1.672461688085747, 1.6131282811715395, 2.9350570924161272, 5.968169094091429, 1.9024074701135236, 2.1447554185626716, 3.0584404566245573, 46.19344339884938, 1.9176176652519872, 35.17580204680751, 30.831827759837804, 40.197250720055216, 12.506650245037646, 10.647560580122244, 10.968539184852359, 12.372944385281766, 14.835627193414062, 4.997207492100993, 12.16704712216042, 6.94030220594205, 6.192827366290922, 3.33729058839432, 2.975462396564837, 2.777784064106176, 19.702700799406617, 19.84830910619688, 33.976983946874554, 10.598614071616653, 9.8982271516175, 9.892590564184273, 7.50408982897724, 6.584375617026332, 27.0473751090149, 19.53048454242033, 23.30201013165639, 13.274974517221695, 6.97395885725992, 16.391677413615348, 29.034233337145324, 18.341366369508258, 8.419742875365115, 17.217068130287757, 10.936683602490172, 24.11202233481925, 9.128843286591113, 17.653176602780213, 36.28173446718387, 14.687534876624595, 15.899282176554964, 24.88084163782522, 17.148476763591695, 24.8760228355836, 19.37823478981811, 3.2678590711627735, 6.7689902807286995, 2.7376816752166504, 1.9046827400804518, 1.9313142050372136, 2.0340775051293822, 2.038521055415282, 2.011752339883241, 4.585123847973345, 1.936804552087647, 2.5090526871227197, 2.5248128708473208, 3.4884799416114, 3.1315383689989225, 2.9287858758530767, 4.37843840324832, 4.828038554147039, 4.071319198015695, 6.490143586200214, 4.799557984558388, 2.9399179172660257, 2.9080106460164097, 3.0290180374812388, 3.144844480300677, 2.080566186883546, 2.2238227594677693, 4.364076501870023, 2.176330320346769, 6.291463609151416, 17.170119755772106, 65.88186324857172, 17.415637072604124, 18.29285667320341, 14.475048851110857, 12.566619077119409, 8.988850025607222, 8.670023767116003, 7.294901706046011, 6.3703435606676555, 7.012253096610715, 5.778634269067953, 5.081376283925872, 5.054538882699112, 4.756665935532022, 4.438440221036207, 4.229497060126925, 4.163437006571005, 3.9509217387454934, 3.9153049956574026, 3.812464071874251, 7.166560944217885, 7.681800170454505, 5.604914558667139, 39.30347999843546, 10.971495098749639, 9.52287793808367, 5.549968811909127, 9.209647393667426, 27.430382157826845, 8.003459817828405, 7.2503886502018995, 12.318388686967431, 7.206784835847314, 17.721849097554433, 14.708779997963601, 46.310381625864764, 22.336984629815504, 15.49060221958435, 9.700327041626052, 14.322628594925293, 13.612752445929097, 31.11426942896933, 13.264874778459522, 47.97109264412224, 32.14130904629585, 21.705890339026915, 18.860719452773733], \"Category\": [\"Default\", \"Default\", \"Default\", \"Default\", \"Default\", \"Default\", \"Default\", \"Default\", \"Default\", \"Default\", \"Default\", \"Default\", \"Default\", \"Default\", \"Default\", \"Default\", \"Default\", \"Default\", \"Default\", \"Default\", \"Default\", \"Default\", \"Default\", \"Default\", \"Default\", \"Default\", \"Default\", \"Default\", \"Default\", \"Default\", \"Topic1\", \"Topic1\", \"Topic1\", \"Topic1\", \"Topic1\", \"Topic1\", \"Topic1\", \"Topic1\", \"Topic1\", \"Topic1\", \"Topic1\", \"Topic1\", \"Topic1\", \"Topic1\", \"Topic1\", \"Topic1\", \"Topic1\", \"Topic1\", \"Topic1\", \"Topic1\", \"Topic1\", \"Topic1\", \"Topic1\", \"Topic1\", \"Topic1\", \"Topic1\", \"Topic1\", \"Topic1\", \"Topic1\", \"Topic1\", \"Topic1\", \"Topic1\", \"Topic1\", \"Topic1\", \"Topic1\", \"Topic1\", \"Topic1\", \"Topic1\", \"Topic1\", \"Topic1\", \"Topic1\", \"Topic1\", \"Topic1\", \"Topic1\", \"Topic1\", \"Topic1\", \"Topic1\", \"Topic1\", \"Topic1\", \"Topic1\", \"Topic1\", \"Topic1\", \"Topic1\", \"Topic1\", \"Topic1\", \"Topic1\", \"Topic1\", \"Topic1\", \"Topic1\", \"Topic1\", \"Topic1\", \"Topic1\", \"Topic1\", \"Topic1\", \"Topic1\", \"Topic2\", \"Topic2\", \"Topic2\", \"Topic2\", \"Topic2\", \"Topic2\", \"Topic2\", \"Topic2\", \"Topic2\", \"Topic2\", \"Topic2\", \"Topic2\", \"Topic2\", \"Topic2\", \"Topic2\", \"Topic2\", \"Topic2\", \"Topic2\", \"Topic2\", \"Topic2\", \"Topic2\", \"Topic2\", \"Topic2\", \"Topic2\", \"Topic2\", \"Topic2\", \"Topic2\", \"Topic2\", \"Topic2\", \"Topic2\", \"Topic2\", \"Topic2\", \"Topic2\", \"Topic2\", \"Topic2\", \"Topic2\", \"Topic2\", \"Topic2\", \"Topic2\", \"Topic2\", \"Topic2\", \"Topic2\", \"Topic2\", \"Topic2\", \"Topic2\", \"Topic2\", \"Topic2\", \"Topic2\", \"Topic2\", \"Topic2\", \"Topic2\", \"Topic2\", \"Topic2\", \"Topic2\", \"Topic2\", \"Topic2\", \"Topic2\", \"Topic2\", \"Topic2\", \"Topic2\", \"Topic2\", \"Topic2\", \"Topic2\", \"Topic2\", \"Topic2\", \"Topic2\", \"Topic2\", \"Topic2\", \"Topic2\", \"Topic2\", \"Topic2\", \"Topic2\", \"Topic2\", \"Topic2\", \"Topic2\", \"Topic2\", \"Topic2\", \"Topic2\", \"Topic2\", \"Topic2\", \"Topic2\", \"Topic2\", \"Topic2\", \"Topic2\", \"Topic2\", \"Topic2\", \"Topic2\", \"Topic2\", \"Topic3\", \"Topic3\", \"Topic3\", \"Topic3\", \"Topic3\", \"Topic3\", \"Topic3\", \"Topic3\", \"Topic3\", \"Topic3\", \"Topic3\", \"Topic3\", \"Topic3\", \"Topic3\", \"Topic3\", \"Topic3\", \"Topic3\", \"Topic3\", \"Topic3\", \"Topic3\", \"Topic3\", \"Topic3\", \"Topic3\", \"Topic3\", \"Topic3\", \"Topic3\", \"Topic3\", \"Topic3\", \"Topic3\", \"Topic3\", \"Topic3\", \"Topic3\", \"Topic3\", \"Topic3\", \"Topic3\", \"Topic3\", \"Topic3\", \"Topic3\", \"Topic3\", \"Topic3\", \"Topic3\", \"Topic3\", \"Topic3\", \"Topic3\", \"Topic3\", \"Topic3\", \"Topic3\", \"Topic3\", \"Topic3\", \"Topic3\", \"Topic3\", \"Topic3\", \"Topic3\", \"Topic3\", \"Topic3\", \"Topic3\", \"Topic3\", \"Topic3\", \"Topic3\", \"Topic3\", \"Topic3\", \"Topic3\", \"Topic3\", \"Topic3\", \"Topic3\", \"Topic3\", \"Topic3\", \"Topic3\", \"Topic3\", \"Topic3\", \"Topic3\", \"Topic3\", \"Topic3\", \"Topic3\", \"Topic3\", \"Topic3\", \"Topic3\", \"Topic3\", \"Topic3\", \"Topic3\", \"Topic3\", \"Topic4\", \"Topic4\", \"Topic4\", \"Topic4\", \"Topic4\", \"Topic4\", \"Topic4\", \"Topic4\", \"Topic4\", \"Topic4\", \"Topic4\", \"Topic4\", \"Topic4\", \"Topic4\", \"Topic4\", \"Topic4\", \"Topic4\", \"Topic4\", \"Topic4\", \"Topic4\", \"Topic4\", \"Topic4\", \"Topic4\", \"Topic4\", \"Topic4\", \"Topic4\", \"Topic4\", \"Topic4\", \"Topic4\", \"Topic4\", \"Topic4\", \"Topic4\", \"Topic4\", \"Topic4\", \"Topic4\", \"Topic4\", \"Topic4\", \"Topic4\", \"Topic4\", \"Topic4\", \"Topic4\", \"Topic4\", \"Topic4\", \"Topic4\", \"Topic4\", \"Topic4\", \"Topic4\", \"Topic4\", \"Topic4\", \"Topic4\", \"Topic4\", \"Topic4\", \"Topic4\", \"Topic4\", \"Topic4\", \"Topic4\", \"Topic4\", \"Topic4\", \"Topic4\", \"Topic4\", \"Topic4\", \"Topic4\", \"Topic4\", \"Topic4\", \"Topic4\", \"Topic4\", \"Topic4\", \"Topic4\", \"Topic4\", \"Topic4\", \"Topic4\", \"Topic4\", \"Topic4\", \"Topic4\", \"Topic5\", \"Topic5\", \"Topic5\", \"Topic5\", \"Topic5\", \"Topic5\", \"Topic5\", \"Topic5\", \"Topic5\", \"Topic5\", \"Topic5\", \"Topic5\", \"Topic5\", \"Topic5\", \"Topic5\", \"Topic5\", \"Topic5\", \"Topic5\", \"Topic5\", \"Topic5\", \"Topic5\", \"Topic5\", \"Topic5\", \"Topic5\", \"Topic5\", \"Topic5\", \"Topic5\", \"Topic5\", \"Topic5\", \"Topic5\", \"Topic5\", \"Topic5\", \"Topic5\", \"Topic5\", \"Topic5\", \"Topic5\", \"Topic5\", \"Topic5\", \"Topic5\", \"Topic5\", \"Topic5\", \"Topic5\", \"Topic5\", \"Topic5\", \"Topic5\", \"Topic5\", \"Topic5\", \"Topic5\", \"Topic5\", \"Topic5\", \"Topic5\", \"Topic5\", \"Topic5\", \"Topic5\", \"Topic5\", \"Topic5\", \"Topic5\", \"Topic5\", \"Topic5\", \"Topic5\", \"Topic5\", \"Topic5\", \"Topic5\", \"Topic5\", \"Topic5\", \"Topic5\", \"Topic5\", \"Topic5\", \"Topic5\", \"Topic5\", \"Topic5\", \"Topic5\", \"Topic5\", \"Topic5\", \"Topic5\", \"Topic5\", \"Topic5\"], \"logprob\": [30.0, 29.0, 28.0, 27.0, 26.0, 25.0, 24.0, 23.0, 22.0, 21.0, 20.0, 19.0, 18.0, 17.0, 16.0, 15.0, 14.0, 13.0, 12.0, 11.0, 10.0, 9.0, 8.0, 7.0, 6.0, 5.0, 4.0, 3.0, 2.0, 1.0, -8.1937, -6.7754, -7.9777, -8.6528, -6.9961, -8.4904, -6.8897, -8.6154, -7.1381, -8.6776, -8.0516, -7.8835, -6.5831, -7.9712, -8.6652, -5.9992, -8.7549, -8.1513, -6.801, -8.2616, -8.4933, -8.574, -7.6898, -9.2406, -7.9274, -7.1251, -8.9991, -8.8761, -8.5903, -8.6228, -5.2026, -5.4982, -5.5327, -5.5772, -5.5887, -5.5929, -5.6224, -5.6557, -5.7348, -5.7399, -5.8044, -5.8243, -5.8849, -5.9038, -5.9593, -5.9611, -6.0268, -6.0574, -6.0628, -6.0827, -6.0829, -6.1272, -6.1487, -6.1893, -6.1992, -6.2467, -6.256, -6.2641, -6.271, -5.5902, -5.3663, -5.7124, -5.8167, -5.9519, -6.0532, -7.7765, -7.9596, -7.9596, -7.7334, -6.9806, -6.8504, -7.1867, -7.8772, -7.5168, -7.3089, -7.1594, -7.6862, -8.0363, -7.4084, -6.2063, -7.3805, -7.7274, -7.4007, -7.9902, -7.3375, -7.7899, -7.1455, -7.55, -7.0874, -7.3669, -7.2348, -5.9797, -7.5499, -7.2909, -7.3587, -5.4805, -5.5312, -5.7704, -5.7004, -6.1791, -6.3392, -6.0988, -6.3794, -6.4164, -6.2967, -5.9153, -6.22, -6.4193, -6.0746, -5.6646, -6.6483, -6.6137, -6.76, -6.8011, -6.8191, -6.8383, -6.8581, -5.6256, -5.5465, -6.8928, -6.909, -6.9134, -5.3139, -5.9235, -6.7653, -6.0216, -5.8623, -4.8325, -5.5225, -5.8712, -5.7574, -5.0593, -4.707, -5.4388, -5.6776, -5.473, -5.7541, -5.9024, -5.5399, -4.5973, -5.6492, -5.6497, -5.1733, -5.6989, -5.4813, -5.6841, -5.7268, -5.4762, -5.4866, -5.4268, -5.6622, -5.7391, -5.7295, -7.3808, -7.4532, -7.4872, -7.4586, -7.5239, -7.2042, -7.387, -6.7361, -7.3414, -7.725, -6.6224, -7.0131, -6.4642, -7.4702, -7.7826, -7.5784, -7.4498, -7.1709, -6.6223, -7.402, -7.9357, -7.4366, -7.6071, -7.4113, -6.9233, -5.6565, -6.4981, -7.9058, -7.5237, -7.6647, -4.5501, -4.6068, -5.0848, -5.3874, -5.535, -5.5996, -4.8311, -5.8195, -5.8402, -5.8984, -6.2096, -6.2737, -6.2221, -6.5814, -6.5949, -6.6391, -6.7985, -6.7594, -6.9103, -6.9438, -6.8827, -6.7067, -6.9644, -5.5279, -5.3146, -5.7223, -5.7367, -6.4177, -5.3106, -6.0861, -5.5867, -5.1778, -5.5148, -5.8611, -5.4723, -5.6596, -4.7844, -5.3936, -5.8213, -5.8189, -5.964, -5.1369, -5.5047, -5.6758, -5.4864, -5.1117, -5.5229, -5.7734, -5.7869, -5.3783, -5.6595, -6.5801, -6.8645, -7.2277, -6.5956, -6.1957, -7.2559, -5.8989, -6.0348, -6.3304, -7.6673, -7.3267, -7.1794, -6.7362, -7.3197, -6.5961, -7.4313, -7.1065, -7.0473, -6.339, -6.3965, -7.0905, -7.4548, -7.4909, -6.8923, -6.1826, -7.326, -7.2061, -6.8513, -4.1363, -7.3181, -4.4089, -4.5408, -4.279, -5.443, -5.604, -5.5755, -5.461, -5.2821, -6.3604, -5.4809, -6.0371, -6.1501, -6.7641, -6.8798, -6.9479, -5.0131, -5.0073, -4.4812, -5.6244, -5.6923, -5.6948, -5.9665, -6.0986, -4.7403, -5.0561, -4.8944, -5.4317, -6.0462, -5.2995, -4.8799, -5.2609, -5.9061, -5.3459, -5.7004, -5.1364, -5.8517, -5.4455, -5.0701, -5.6029, -5.5859, -5.4119, -5.5686, -5.5177, -5.6137, -6.5156, -5.7874, -6.6926, -7.0554, -7.0416, -6.9897, -6.9875, -7.0007, -6.1769, -7.0387, -6.7799, -6.7736, -6.4503, -6.5582, -6.6252, -6.2231, -6.1253, -6.2958, -5.8295, -6.1312, -6.6214, -6.6323, -6.5915, -6.554, -6.9671, -6.9005, -6.2263, -6.9221, -5.8606, -4.8566, -3.5119, -4.8424, -4.7956, -5.0274, -5.171, -5.5038, -5.5401, -5.7136, -5.8483, -5.7539, -5.9456, -6.0742, -6.0795, -6.1404, -6.2095, -6.2577, -6.2734, -6.3258, -6.335, -6.3615, -5.7366, -5.6717, -5.9816, -4.1021, -5.3373, -5.4834, -5.997, -5.5173, -4.5845, -5.6862, -5.8018, -5.39, -5.8177, -5.1394, -5.2968, -4.6612, -5.2222, -5.4564, -5.7283, -5.6195, -5.6514, -5.4513, -5.6878, -5.4667, -5.5461, -5.6087, -5.6814], \"loglift\": [30.0, 29.0, 28.0, 27.0, 26.0, 25.0, 24.0, 23.0, 22.0, 21.0, 20.0, 19.0, 18.0, 17.0, 16.0, 15.0, 14.0, 13.0, 12.0, 11.0, 10.0, 9.0, 8.0, 7.0, 6.0, 5.0, 4.0, 3.0, 2.0, 1.0, 1.1351, 1.1351, 1.1351, 1.1351, 1.1351, 1.1351, 1.1351, 1.1351, 1.1351, 1.1351, 1.1351, 1.1351, 1.1351, 1.1351, 1.1351, 1.1351, 1.1351, 1.1351, 1.1351, 1.1351, 1.1351, 1.1351, 1.1351, 1.1351, 1.1351, 1.1351, 1.1351, 1.1351, 1.1351, 1.1351, 1.1351, 1.1351, 1.1351, 1.1351, 1.1351, 1.1351, 1.1351, 1.1351, 1.1351, 1.1351, 1.1351, 1.1351, 1.1351, 1.1351, 1.1351, 1.1351, 1.1351, 1.1351, 1.1351, 1.1351, 1.1351, 1.1351, 1.1351, 1.1351, 1.1351, 1.1351, 1.1351, 1.1351, 1.1351, 0.9439, 0.6124, 0.7703, 0.4412, 0.4421, 0.4737, 1.4873, 1.4873, 1.4873, 1.4873, 1.4873, 1.4873, 1.4873, 1.4873, 1.4873, 1.4873, 1.4873, 1.4873, 1.4873, 1.4873, 1.4873, 1.4873, 1.4873, 1.4873, 1.4873, 1.4873, 1.4873, 1.4873, 1.4873, 1.4873, 1.4873, 1.4873, 1.4873, 1.4873, 1.4873, 1.4873, 1.487, 1.4872, 1.4873, 1.4857, 1.4873, 1.4872, 1.4845, 1.4873, 1.4873, 1.4859, 1.4819, 1.4849, 1.4865, 1.4827, 1.4777, 1.4873, 1.4868, 1.4869, 1.4873, 1.4873, 1.4873, 1.4873, 1.4747, 1.4737, 1.4873, 1.4873, 1.4873, 1.4671, 1.4717, 1.4856, 1.4666, 1.4592, 1.4176, 1.4461, 1.4558, 1.4417, 1.3939, 1.3553, 1.4042, 1.4215, 1.3999, 1.4268, 1.4327, 1.3622, 1.1708, 1.3569, 1.3271, 1.1499, 1.2487, 1.034, 1.1769, 1.1705, 0.7053, 0.7074, 0.5871, 0.8862, 0.9142, 0.6602, 1.6953, 1.6953, 1.6953, 1.6953, 1.6953, 1.6953, 1.6953, 1.6953, 1.6953, 1.6953, 1.6953, 1.6953, 1.6953, 1.6953, 1.6953, 1.6953, 1.6953, 1.6953, 1.6953, 1.6953, 1.6953, 1.6953, 1.6953, 1.6953, 1.6953, 1.6953, 1.6953, 1.6953, 1.6953, 1.6953, 1.6953, 1.6953, 1.6951, 1.6948, 1.6951, 1.6953, 1.6864, 1.6952, 1.6948, 1.6953, 1.6952, 1.6951, 1.6937, 1.6952, 1.6953, 1.6953, 1.6953, 1.694, 1.6952, 1.6952, 1.6945, 1.6925, 1.695, 1.6804, 1.6746, 1.6774, 1.6758, 1.6868, 1.6608, 1.675, 1.6588, 1.6338, 1.6478, 1.6622, 1.6297, 1.6313, 1.5465, 1.5676, 1.6178, 1.607, 1.6234, 1.4149, 1.5081, 1.5483, 1.4797, 1.2675, 1.4378, 1.5201, 1.545, 0.3898, 1.1122, 1.8802, 1.8802, 1.8802, 1.8802, 1.8802, 1.8802, 1.8802, 1.8802, 1.8802, 1.8802, 1.8802, 1.8802, 1.8802, 1.8802, 1.8802, 1.8802, 1.8802, 1.8802, 1.8802, 1.8802, 1.8802, 1.8802, 1.8802, 1.8802, 1.8802, 1.8802, 1.8802, 1.8801, 1.8801, 1.8801, 1.88, 1.8799, 1.8764, 1.88, 1.88, 1.8788, 1.8728, 1.8702, 1.88, 1.8697, 1.8748, 1.8758, 1.88, 1.8791, 1.8798, 1.8554, 1.8538, 1.8424, 1.8642, 1.8646, 1.8627, 1.8674, 1.866, 1.8114, 1.8212, 1.8064, 1.8317, 1.8609, 1.753, 1.6009, 1.6792, 1.8126, 1.6574, 1.7567, 1.5302, 1.7861, 1.5329, 1.1878, 1.5594, 1.4971, 1.2233, 1.4387, 1.1177, 1.2714, 2.1495, 2.1495, 2.1495, 2.1495, 2.1495, 2.1495, 2.1495, 2.1495, 2.1495, 2.1495, 2.1495, 2.1495, 2.1495, 2.1495, 2.1495, 2.1495, 2.1495, 2.1495, 2.1495, 2.1495, 2.1495, 2.1495, 2.1495, 2.1495, 2.1495, 2.1495, 2.1495, 2.1495, 2.1495, 2.1495, 2.1495, 2.1495, 2.1472, 2.1495, 2.1472, 2.1495, 2.1493, 2.1485, 2.1493, 2.1477, 2.1495, 2.1495, 2.1495, 2.1493, 2.1495, 2.1495, 2.1495, 2.1495, 2.1494, 2.1495, 2.1432, 2.1388, 2.144, 2.0759, 2.1166, 2.1122, 2.1385, 2.1118, 1.9531, 2.0832, 2.0664, 1.9482, 2.0566, 1.8351, 1.864, 1.3527, 1.5208, 1.6526, 1.8488, 1.5679, 1.5869, 0.9603, 1.5763, 0.5119, 0.833, 1.163, 1.2308]}, \"token.table\": {\"Topic\": [1, 5, 5, 1, 3, 1, 1, 5, 5, 1, 2, 1, 1, 1, 1, 1, 1, 1, 1, 1, 1, 1, 4, 1, 2, 5, 1, 1, 1, 2, 2, 1, 1, 1, 3, 3, 3, 1, 3, 1, 1, 1, 1, 1, 1, 1, 3, 1, 2, 5, 2, 5, 5, 4, 1, 2, 5, 1, 2, 2, 2, 3, 2, 5, 5, 2, 5, 4, 4, 4, 1, 3, 1, 5, 1, 3, 4, 5, 1, 2, 4, 5, 5, 1, 3, 1, 4, 3, 1, 4, 3, 3, 5, 3, 3, 4, 5, 2, 5, 5, 3, 5, 2, 2, 1, 4, 4, 4, 2, 1, 5, 1, 4, 1, 2, 2, 2, 5, 1, 1, 3, 4, 4, 3, 3, 5, 1, 2, 2, 2, 1, 4, 4, 4, 3, 3, 5, 3, 5, 1, 2, 5, 5, 3, 5, 5, 5, 2, 5, 1, 1, 4, 4, 4, 4, 3, 1, 2, 4, 5, 5, 1, 1, 2, 5, 1, 5, 5, 5, 1, 2, 5, 1, 3, 1, 2, 4, 2, 5, 1, 2, 3, 2, 3, 3, 1, 4, 4, 1, 2, 3, 4, 1, 2, 3, 4, 2, 1, 2, 4, 5, 5, 5, 5, 5, 5, 1, 4, 1, 4, 3, 2, 2, 2, 1, 3, 3, 2, 1, 2, 5, 4, 5, 1, 3, 5, 5, 3, 4, 1, 2, 5, 1, 3, 1, 3, 2, 3, 2, 4, 1, 2, 4, 2, 4, 4, 4, 4, 4, 2, 1, 2, 1, 4, 4, 4, 2, 5, 4, 4, 4, 4, 4, 2, 1, 3, 4, 5, 3, 3, 3, 4, 1, 5, 2, 1, 2, 3, 3, 4, 3, 5, 4, 5, 1, 4, 3, 3, 3, 3, 1, 2, 3, 2, 3, 5, 2, 3, 3, 1, 2, 3, 5, 3, 3, 2, 1, 2, 5, 1, 3, 1, 3, 5, 5, 1, 3, 5, 4, 4, 4, 4, 3, 5, 5, 5, 2, 1, 1, 3, 2, 5, 5, 5, 3, 4, 4, 3, 4, 3, 3, 1, 3, 4, 1, 2, 4, 2, 2, 3, 3, 4, 1, 1, 4, 4, 2, 5, 1, 3, 1, 3, 4, 5, 1, 1, 5, 5, 1, 4, 1, 2, 2, 1, 2, 4, 5, 2, 2, 2, 1, 5, 3, 3, 1, 2, 1, 2, 4, 2, 2, 1, 3, 2, 1, 1, 2, 3, 5, 2, 4, 5, 1, 2, 5, 1, 3, 1, 2, 4, 2, 3, 2, 3, 3, 4, 3, 2, 2, 2, 1, 2, 5, 5, 3, 5, 5, 5, 1, 3, 1, 4, 1, 2, 4, 3, 1, 3, 4, 5, 2, 5, 4, 1, 2, 3, 4, 1, 2, 4, 4, 3, 4, 4, 2, 2, 4, 4, 1, 2, 3, 5, 2, 4, 1, 5, 1, 3, 3, 3, 3, 3, 5, 5, 2, 2, 4, 2, 3, 5, 3, 3, 1, 3, 4, 5, 4, 5, 2, 4, 3, 1, 2, 4, 3, 2, 2, 2, 4, 2, 5, 4, 3, 1, 2, 2, 2, 2, 1, 2, 5], \"Freq\": [1.188572635225414, 0.9982526163214734, 0.960744690909684, 0.16132917533798782, 0.8873104643589329, 1.0072057312963951, 0.9576389840062559, 0.9839906539238125, 0.967181537278584, 0.940540464661223, 1.1028382739800018, 1.0764842990968688, 0.7995079124527262, 0.9679027853798798, 0.9060213356166971, 1.0339268976093992, 0.9640804552966143, 1.0311171627169897, 0.8715335167100526, 0.9497499408334905, 0.9514175094927058, 0.9522586133678765, 1.012927536565261, 0.22616120016991192, 0.22616120016991192, 0.5277094670631278, 0.9931177362409668, 1.0415700234029805, 1.1391778260157048, 1.0128212903386566, 0.8888360535078903, 1.0333267031714677, 1.2720791614933638, 0.8018876243413359, 1.0266794704791407, 1.080887501148115, 1.3023321890461543, 0.8692308721598845, 0.9883077812706617, 1.0771094940642654, 1.6929491057901118, 0.9106517414721873, 1.02064868079259, 1.3296539521070534, 1.1758307745003644, 0.8834992146168134, 0.9515892662660541, 0.9126895873973552, 1.0004015408297815, 1.0012404227861198, 0.0763291189512842, 0.9413924670658386, 1.0704891104400374, 0.8442031655701292, 0.20945875822423698, 0.27927834429898263, 0.5585566885979653, 0.9862172416140274, 1.0070867736513431, 1.046568999888713, 0.8890549887543185, 0.9428329259152897, 0.9598892495372483, 1.0216317769462495, 0.9180322451703942, 1.1137383132405194, 1.195670388030105, 0.9950021879650797, 1.0520732841831186, 1.07999755588105, 0.9851141481265672, 0.7802182797965719, 0.13792364082057218, 0.9654654857440054, 0.16994108581724196, 0.056647028605747315, 0.6797643432689678, 0.056647028605747315, 0.21208098715511853, 0.15906074036633888, 0.21208098715511853, 0.42416197431023706, 1.0958176866061649, 0.06410461533083428, 0.9615692299625143, 0.0739443288651474, 0.9243041108143426, 1.121004641194544, 1.0076983022256476, 0.9328246542264614, 0.9287994828962816, 0.886134083269466, 0.0886134083269466, 0.9688645809711809, 0.16356469521198663, 0.8178234760599332, 0.05452156507066221, 1.0542669380904488, 0.9450924456363565, 1.032628717153848, 0.8943480876363046, 0.9772361107102124, 1.0011092622794306, 0.9431882456926797, 0.051202006679762296, 0.9216361202357214, 0.7395052178308774, 1.037590038764274, 0.9711829642258736, 0.9994941586863632, 0.9767585951596115, 0.34988530367541043, 0.6414563900715858, 0.261178716691497, 0.7313004067361917, 1.0042121151482915, 0.9718515336663452, 1.002598087224558, 1.0029778387563832, 0.05625242878878268, 0.9562912894093055, 1.0110795994293322, 0.8989328080787231, 0.9904544388476485, 0.8980426070920569, 0.08980426070920569, 0.9704677497237274, 1.0085717835916115, 1.089608668886234, 0.939580725375349, 1.0426679522592133, 1.0108575640646242, 1.1958420418521778, 1.0037340545410547, 1.124669791943011, 1.0055740710813044, 1.0904830852518919, 0.9589014655502937, 0.04794507327751468, 0.2257100812664063, 0.05642752031660157, 0.7335577641158204, 1.0383076209056836, 0.9291117087451832, 0.07742597572876526, 1.0417625989906767, 1.0414225601401799, 1.128784734378699, 0.9457389243060408, 0.9808278927159961, 1.0143906166878676, 0.9950929300755187, 0.9112481348246274, 0.9801885759745849, 1.051299488369152, 0.9496659452727538, 0.0335040157581397, 0.9046084254697719, 0.0670080315162794, 1.050043641344449, 1.0355642778288698, 0.982464162978516, 1.0039631334188661, 1.0812159543098734, 0.9900921042956082, 1.0078291734364673, 1.0017931604481578, 0.9539422438190557, 1.0341276482445225, 0.11648208003995456, 0.8736156002996591, 0.9832467027222669, 0.6901457454651941, 0.3105655854593374, 0.2851972647289233, 0.6416938456400775, 0.10694897427334625, 1.0175128401574094, 0.9012175000221478, 0.16967081130007255, 0.8483540565003628, 0.9980698419055403, 0.7261615091938414, 0.27019963132794095, 0.9586167822783194, 0.272339778839678, 0.7489343918091146, 0.9862705288733394, 0.10213284398172452, 0.45959779791776034, 0.25533210995431127, 0.17873247696801792, 0.1809792350987338, 0.4653751759681726, 0.1809792350987338, 0.20683341154141005, 0.96337822690815, 0.08637372138963252, 0.41027517660075447, 0.06478029104222438, 0.4534620372955707, 0.9165742163974406, 0.9839853851832834, 0.9892099192498469, 0.9244787762103768, 0.9904199852486291, 0.11876847248219986, 0.9501477798575989, 0.49611740630207896, 0.49611740630207896, 1.2261057584019497, 1.0372937759126517, 1.042483259469997, 1.231705018584773, 1.0100915983657113, 0.9760114178662455, 1.0480817962122129, 1.1243130730755888, 1.0209026109743793, 1.0498173546170568, 1.0380594380992982, 0.9441245573107199, 0.08582950521006544, 1.0355215874698898, 1.0648610509705418, 1.0204366531395705, 1.031633087076075, 0.1095429035865747, 0.8763432286925976, 0.3581504008970649, 0.08953760022426623, 0.5372256013455974, 0.9782310344298082, 1.0312568359316203, 0.15526708467404488, 0.8539689657072469, 1.0023576872166087, 1.0676728122060466, 0.9536422711523844, 0.05609660418543438, 0.9608454113886847, 1.0770269318229875, 1.0028682775907924, 1.0279219814995018, 0.9958123191384732, 0.9325072605902631, 1.008246652171942, 1.011716455020741, 0.8307586509415509, 0.9012946445875377, 0.5049601874985348, 0.46889160267721086, 0.12201313810255617, 0.8540919667178931, 0.8743781316177162, 1.0005588136781234, 0.9580348608681837, 0.9189781446785737, 1.1934787675843872, 0.969858073093305, 1.0102819269373777, 0.9435195896773186, 1.008601613054665, 0.8880184262643162, 0.11616379658053738, 0.05808189829026869, 0.8131465760637616, 0.05808189829026869, 0.937394323911997, 1.0808178166919893, 0.8873669650068433, 1.005333445719573, 0.9985773441892106, 0.859973412550063, 0.976500269087147, 1.0176364103038755, 1.1561669631742393, 0.9889678020747736, 0.9768869287743354, 1.03310048505718, 1.0200721768487184, 1.0243152374962134, 1.009353385297105, 0.9009059635201906, 0.24109470770989702, 0.7577262242311049, 0.9977444714723963, 1.0069985629632512, 0.9874803999240992, 1.0093655644551542, 1.023106523049087, 0.8879282969367963, 1.1224250531274855, 1.0439582619978094, 0.27194641571590517, 0.7478526432187391, 1.1182346315559768, 0.9227712806527317, 0.9230084170077952, 0.031112609587855156, 0.031112609587855156, 0.6533648013449583, 0.2800134862906964, 0.9127383095143322, 1.051548492966308, 1.1472930790247238, 0.14692105861354302, 0.29384211722708603, 0.5876842344541721, 0.17590006062276137, 0.8208669495728864, 0.05568094956894843, 0.8908951931031749, 0.05568094956894843, 1.1882068705524333, 0.5052675613864519, 0.31579222586653244, 0.18947533551991946, 0.9940424424563236, 0.9796048487859954, 0.9712566881030845, 1.0134722499573443, 0.8762677254897681, 0.9595742728374809, 1.0344866761872067, 0.9536731629938288, 0.6895591729673495, 1.0179330323361313, 0.1448627452617012, 0.8691764715702073, 1.1091041853713288, 0.9761342596385436, 0.9579956067915042, 0.899352248952908, 0.02943168827355517, 0.9712457130273205, 1.0186209089840867, 0.9618980634436493, 0.9973945917468976, 1.0081358025901206, 1.0650033984985012, 0.40191566449253274, 0.08038313289850654, 0.5224903638402926, 0.027346122058849294, 0.929768150000876, 0.05469224411769859, 0.9205186469128066, 0.7060745600761695, 0.2941977333650706, 1.0125274573140113, 0.9808920731158994, 1.016484611014528, 0.0503821254823056, 0.9572603841638063, 0.9643347982309217, 0.1623588969972959, 0.8117944849864794, 0.9878201991970528, 1.0105882339944545, 0.36123001273975713, 0.05160428753425102, 0.5676471628767612, 0.05160428753425102, 1.0271725074338987, 1.0217688981672293, 0.9418644289525822, 0.99415815771641, 1.0196999068535577, 0.9080337239952613, 0.9966116936285279, 0.9454335037521485, 0.9639828710260354, 0.06455526943527909, 0.06455526943527909, 0.25822107774111636, 0.5809974249175118, 1.0688555785023, 0.9762024941672794, 1.004916041090038, 0.9992703820144261, 0.9135677224629767, 0.9618638935072885, 0.8649124270300783, 0.06391577019346792, 0.9587365529020188, 0.2518557344348222, 0.7555672033044665, 0.05037114688696443, 1.1000634264743179, 1.015740921879616, 0.2588245177830252, 0.7394986222372147, 0.72208738000971, 1.0004992942154363, 0.25711675532871425, 0.1606979720804464, 0.2892563497448035, 0.2892563497448035, 0.9175877711967306, 0.10195419679963673, 1.0124219775788548, 0.10308930778403647, 0.10308930778403647, 0.7216251544882553, 0.0681106784162237, 0.9535494978271319, 0.10985867444586955, 0.7690107211210868, 0.10985867444586955, 0.9737227593278137, 1.160419050062349, 1.014489032747808, 0.9735077035583173, 0.8038800152605559, 1.0429607717121168, 0.9545950430487429, 1.0106498568598135, 0.9262516795545008, 0.6687263461173673, 0.03645592665265384, 0.14582370661061536, 0.8384863130110383, 0.9824825334131366, 0.9382370952316553, 0.9811034301985982, 0.9612767969644719, 1.0491902151968489, 0.16786621973909538, 0.7833756921157784, 0.2903116089889966, 0.7050424789732775, 0.04947794893896173, 0.9400810298402729, 0.04947794893896173, 1.00041588267209, 0.28139546447058794, 0.1607974082689074, 0.4823922248067222, 0.0803987041344537, 0.13875813178518856, 0.9713069224963199, 1.022126624981735, 0.2515397291785988, 0.4401945260625479, 0.1886547968839491, 0.1257698645892994, 0.06936482377388391, 0.9711075328343746, 0.9792862489592753, 1.0394469938229947, 1.0481602306888824, 1.0054545011561482, 0.9688627899849866, 0.6687263461173673, 1.0581619158112452, 1.0447970272289624, 1.2398270015745392, 0.04607044375424733, 0.04607044375424733, 0.552845325050968, 0.3685635500339786, 0.8589800671795407, 0.9529483620394672, 0.8355431076199931, 0.18163980600434632, 0.14823862146596137, 0.859784004502576, 1.1574143573336406, 0.9923924899497012, 1.021949553279859, 0.6897366776969612, 1.0511564334695624, 1.035617247858399, 1.060296506182124, 0.9889626299557372, 0.07064018785398123, 0.11130580025298868, 0.7791406017709208, 0.11130580025298868, 0.9685538537471242, 1.037416014211551, 0.06289592126835745, 0.06289592126835745, 0.691855133951932, 0.2515836850734298, 0.9143539635473318, 0.09143539635473318, 0.8922511533129867, 0.1049707239191749, 0.9913133470567004, 0.32742624413490146, 0.5729959272360775, 0.12278484155058804, 1.0991048259315677, 1.0333976262141522, 0.9354930429090593, 0.8838881055923897, 0.11331898789646022, 0.12494596371589356, 0.8746217460112549, 1.168119895457143, 1.0013711401620031, 0.4422057273947828, 0.5527571592434786, 1.0023925720017068, 1.011106843609649, 1.0667272294598118, 0.5836848497014746, 0.20845887489338377, 0.1876129874040454], \"Term\": [\"abn\", \"academy\", \"academy award\", \"access\", \"access\", \"account\", \"accounting\", \"actor\", \"actress\", \"advisor\", \"agassi\", \"agency\", \"aggressive\", \"agree\", \"agree pay\", \"agreement\", \"agricultural\", \"airbus\", \"aircraft\", \"airline\", \"airport\", \"airways\", \"alan milburn\", \"album\", \"album\", \"album\", \"analyst\", \"analyst believe\", \"analyst expect\", \"andy\", \"andy robinson\", \"annual\", \"annual rate\", \"anticipate\", \"antispyware\", \"antivirus\", \"antivirus firm\", \"apparent\", \"apple\", \"approval\", \"arise\", \"arm\", \"asset\", \"assist\", \"associated press\", \"att\", \"attachment\", \"auditor\", \"australian open\", \"aviator\", \"award\", \"award\", \"baby\", \"backbencher\", \"band\", \"band\", \"band\", \"bank\", \"barcelona\", \"barkley\", \"bath\", \"battery life\", \"beat\", \"berlin\", \"berlin film\", \"biarritz\", \"biopic\", \"blair\", \"blair brown\", \"blair tell\", \"bn\", \"bot net\", \"box office\", \"box office\", \"britain\", \"britain\", \"britain\", \"britain\", \"british\", \"british\", \"british\", \"british\", \"british film\", \"broadband\", \"broadband\", \"brown\", \"brown\", \"browser\", \"business\", \"cabinet\", \"cabir\", \"camera\", \"camera\", \"camera phone\", \"campaign\", \"campaign\", \"campaign\", \"captain\", \"category\", \"category include\", \"ce\", \"ceremony\", \"champion\", \"championship\", \"chancellor\", \"chancellor\", \"change mind\", \"charles kennedy\", \"chelsea\", \"china\", \"cinema\", \"claim\", \"claim\", \"club\", \"club\", \"coach\", \"coach andy\", \"comedy\", \"company\", \"computer\", \"computer\", \"conservative\", \"conservative party\", \"consumer electronic\", \"content\", \"content\", \"cost\", \"cup\", \"davenport\", \"davis cup\", \"deal\", \"dem\", \"dem leader\", \"democrats\", \"desktop search\", \"device\", \"dicaprio\", \"digital\", \"digital\", \"director\", \"director\", \"director\", \"dollar baby\", \"download\", \"download\", \"drake\", \"drama\", \"drop goal\", \"eastwood\", \"economic\", \"economy\", \"election\", \"election campaign\", \"election widely\", \"electorate\", \"email\", \"england\", \"england\", \"england\", \"eternal\", \"eternal sunshine\", \"expect\", \"fall\", \"federer\", \"festival\", \"figure\", \"film\", \"film award\", \"film festival\", \"final\", \"final\", \"find neverland\", \"firm\", \"firm\", \"first\", \"first\", \"first\", \"first grand\", \"foxx\", \"france\", \"france\", \"gadget\", \"game\", \"game\", \"gartner\", \"general\", \"general\", \"general election\", \"get\", \"get\", \"get\", \"get\", \"go\", \"go\", \"go\", \"go\", \"goal\", \"good\", \"good\", \"good\", \"good\", \"good actor\", \"good actress\", \"good director\", \"good film\", \"good support\", \"gordon brown\", \"gordon brown\", \"government\", \"government\", \"gprs\", \"grand\", \"grand slam\", \"grewcock\", \"growth\", \"gsm\", \"handset\", \"hantuchova\", \"high\", \"hodgson\", \"hollywood\", \"howard\", \"howard\", \"however\", \"hsdpa\", \"imelda\", \"imelda staunton\", \"immigration\", \"immigration\", \"include\", \"include\", \"include\", \"increase\", \"infect\", \"information\", \"information\", \"injury\", \"ipod\", \"ireland\", \"ireland\", \"job\", \"johansson\", \"kennedy\", \"kicking\", \"labour\", \"labour campaign\", \"labour government\", \"labour party\", \"labour tory\", \"laporte\", \"last\", \"last\", \"leader\", \"leader\", \"leader charles\", \"leader michael\", \"league\", \"leonardo\", \"liam fox\", \"lib\", \"lib dem\", \"liberal\", \"liberal democrats\", \"ljubicic\", \"lord\", \"lord\", \"lord\", \"lord\", \"machine\", \"malicious\", \"malicious program\", \"manifesto\", \"market\", \"martin scorsese\", \"match\", \"may\", \"mcclaren\", \"megapixel\", \"message\", \"michael howard\", \"microsoft\", \"mike leigh\", \"milburn\", \"million dollar\", \"minister\", \"minister\", \"mms\", \"mobile\", \"mobile phone\", \"mobile tv\", \"month\", \"moody\", \"motorola\", \"mourinho\", \"movie\", \"movie\", \"moya\", \"multimedia\", \"multimedia message\", \"music\", \"music\", \"music\", \"music\", \"music download\", \"music player\", \"nadal\", \"name\", \"name\", \"name\", \"net\", \"net\", \"network\", \"network\", \"network\", \"neverland\", \"new\", \"new\", \"new\", \"new book\", \"new labour\", \"next election\", \"next general\", \"nokia\", \"nominate\", \"nomination\", \"nominee\", \"northampton\", \"oil\", \"online\", \"online\", \"open champion\", \"oscar\", \"oscar nomination\", \"oscarnominate\", \"party\", \"party\", \"partys\", \"pc\", \"peston\", \"phone\", \"phone use\", \"plan\", \"plan\", \"plan\", \"play\", \"play\", \"play\", \"play well\", \"player\", \"player\", \"portable\", \"preelection\", \"price\", \"prime\", \"prime\", \"prime minister\", \"prize\", \"prize\", \"profit\", \"program\", \"public\", \"public\", \"public\", \"public\", \"quarter\", \"rate\", \"ray\", \"red carpet\", \"report\", \"rift\", \"rise\", \"robinson\", \"roddick\", \"role\", \"role\", \"role\", \"role\", \"ruddock\", \"rugby\", \"safin\", \"sale\", \"scorsese\", \"search\", \"search engine\", \"season\", \"season\", \"second\", \"second\", \"second\", \"second set\", \"seed\", \"service\", \"service\", \"shanklin\", \"share\", \"show\", \"show\", \"show\", \"show\", \"side\", \"side\", \"sideways\", \"singer\", \"singer\", \"singer\", \"site\", \"site\", \"six\", \"six\", \"six\", \"six nation\", \"skype\", \"slam\", \"software\", \"sophos\", \"spring conference\", \"spyware\", \"squad\", \"stade\", \"stade toulousain\", \"star\", \"star\", \"star\", \"staunton\", \"storage\", \"sunshine\", \"support actress\", \"swank\", \"system\", \"system\", \"tax\", \"tax\", \"team\", \"team\", \"team\", \"technology\", \"tell\", \"tell\", \"tell\", \"tell\", \"theatre\", \"theatre\", \"third term\", \"time\", \"time\", \"time\", \"time\", \"title\", \"title\", \"tony\", \"tony blair\", \"tool\", \"tory\", \"tory leader\", \"toulousain\", \"tournament\", \"tuition\", \"tuition fee\", \"tv\", \"tv\", \"tv\", \"tv\", \"two game\", \"unified\", \"us\", \"us\", \"use\", \"use\", \"use mobile\", \"use phone\", \"user\", \"variant\", \"vera\", \"vera drake\", \"vickery\", \"victory\", \"victory\", \"video\", \"video\", \"video\", \"virus\", \"vodafone\", \"vote\", \"vote\", \"vote\", \"vote\", \"voter\", \"voter\", \"wale\", \"wale\", \"web\", \"well\", \"well\", \"well\", \"wifi\", \"williams\", \"wimbledon\", \"win\", \"win\", \"win good\", \"win good\", \"win next\", \"wireless\", \"world\", \"world\", \"world cup\", \"world number\", \"yachvili\", \"year\", \"year\", \"year\"]}, \"R\": 30, \"lambda.step\": 0.01, \"plot.opts\": {\"xlab\": \"PC1\", \"ylab\": \"PC2\"}, \"topic.order\": [1, 2, 5, 3, 4]};\n",
              "\n",
              "function LDAvis_load_lib(url, callback){\n",
              "  var s = document.createElement('script');\n",
              "  s.src = url;\n",
              "  s.async = true;\n",
              "  s.onreadystatechange = s.onload = callback;\n",
              "  s.onerror = function(){console.warn(\"failed to load library \" + url);};\n",
              "  document.getElementsByTagName(\"head\")[0].appendChild(s);\n",
              "}\n",
              "\n",
              "if(typeof(LDAvis) !== \"undefined\"){\n",
              "   // already loaded: just create the visualization\n",
              "   !function(LDAvis){\n",
              "       new LDAvis(\"#\" + \"ldavis_el4101397826693750565602421632\", ldavis_el4101397826693750565602421632_data);\n",
              "   }(LDAvis);\n",
              "}else if(typeof define === \"function\" && define.amd){\n",
              "   // require.js is available: use it to load d3/LDAvis\n",
              "   require.config({paths: {d3: \"https://d3js.org/d3.v5\"}});\n",
              "   require([\"d3\"], function(d3){\n",
              "      window.d3 = d3;\n",
              "      LDAvis_load_lib(\"https://cdn.jsdelivr.net/gh/bmabey/pyLDAvis@3.3.1/pyLDAvis/js/ldavis.v3.0.0.js\", function(){\n",
              "        new LDAvis(\"#\" + \"ldavis_el4101397826693750565602421632\", ldavis_el4101397826693750565602421632_data);\n",
              "      });\n",
              "    });\n",
              "}else{\n",
              "    // require.js not available: dynamically load d3 & LDAvis\n",
              "    LDAvis_load_lib(\"https://d3js.org/d3.v5.js\", function(){\n",
              "         LDAvis_load_lib(\"https://cdn.jsdelivr.net/gh/bmabey/pyLDAvis@3.3.1/pyLDAvis/js/ldavis.v3.0.0.js\", function(){\n",
              "                 new LDAvis(\"#\" + \"ldavis_el4101397826693750565602421632\", ldavis_el4101397826693750565602421632_data);\n",
              "            })\n",
              "         });\n",
              "}\n",
              "</script>"
            ]
          },
          "metadata": {},
          "execution_count": 23
        }
      ]
    },
    {
      "cell_type": "markdown",
      "source": [
        "# **8) Evaluation**"
      ],
      "metadata": {
        "id": "Rj3bZug1TDm3"
      }
    },
    {
      "cell_type": "code",
      "source": [
        "from gensim.models import CoherenceModel"
      ],
      "metadata": {
        "id": "-8Thv9B3MgLK"
      },
      "execution_count": 24,
      "outputs": []
    },
    {
      "cell_type": "markdown",
      "source": [
        "## **i) LDA Model**"
      ],
      "metadata": {
        "id": "x8LFJttI728X"
      }
    },
    {
      "cell_type": "code",
      "source": [
        "# Compute Perplexity\n",
        "print('\\nPerplexity: ', lda_model.log_perplexity(corpus))  \n",
        "\n",
        "# Compute Coherence Score\n",
        "coherence_model_lda = CoherenceModel(model = lda_model, \n",
        "                                     texts = texts, \n",
        "                                     dictionary = id2word, \n",
        "                                     coherence = 'c_v')\n",
        "\n",
        "coherence_lda = coherence_model_lda.get_coherence()\n",
        "\n",
        "# Add to dictionary\n",
        "metrics[\"BOW LDA Model\"] = round(coherence_lda, 5)\n",
        "\n",
        "print('\\nCoherence Score: ', coherence_lda)"
      ],
      "metadata": {
        "id": "KRuvnLjhTFdX",
        "colab": {
          "base_uri": "https://localhost:8080/"
        },
        "outputId": "21d24f2d-67a2-4b84-ba76-c654aa1b2529"
      },
      "execution_count": 25,
      "outputs": [
        {
          "output_type": "stream",
          "name": "stdout",
          "text": [
            "\n",
            "Perplexity:  -7.624806181788596\n",
            "\n",
            "Coherence Score:  0.4421784164412464\n"
          ]
        }
      ]
    },
    {
      "cell_type": "code",
      "source": [
        "# Compute Perplexity\n",
        "print(f\"TF IDF Model\")\n",
        "print('\\nPerplexity: ', lda_tfidf.log_perplexity(corpus))  # a measure of how good the model is. lower the better.\n",
        "\n",
        "# Compute Coherence Score\n",
        "coherence_model_lda_tfidf = CoherenceModel(model = lda_tfidf, \n",
        "                                     texts = texts, \n",
        "                                     dictionary = id2word, \n",
        "                                     coherence = 'c_v')\n",
        "\n",
        "coherence_lda_tfidf = coherence_model_lda_tfidf.get_coherence()\n",
        "\n",
        "# Add to dictionary\n",
        "metrics[\"Tf-IDF LDA Model\"] = round(coherence_lda_tfidf, 5)\n",
        "\n",
        "print('\\nCoherence Score: ', coherence_lda_tfidf)"
      ],
      "metadata": {
        "colab": {
          "base_uri": "https://localhost:8080/"
        },
        "id": "qaJ9cN2l86BO",
        "outputId": "a1b9304d-ed27-49fe-cf87-17df559a20fb"
      },
      "execution_count": 26,
      "outputs": [
        {
          "output_type": "stream",
          "name": "stdout",
          "text": [
            "TF IDF Model\n",
            "\n",
            "Perplexity:  -8.133379329964027\n",
            "\n",
            "Coherence Score:  0.5183607462891404\n"
          ]
        }
      ]
    },
    {
      "cell_type": "markdown",
      "source": [
        "## **ii) NMF Model**"
      ],
      "metadata": {
        "id": "boHUW8NJ76HS"
      }
    },
    {
      "cell_type": "code",
      "source": [
        "# Compute Coherence Score\n",
        "print(f\"BOW Model\")\n",
        "coherence_model_nmf = CoherenceModel(model = nmf_model, \n",
        "                                     texts = texts, \n",
        "                                     dictionary = id2word, \n",
        "                                     coherence = 'c_v')\n",
        "\n",
        "coherence_nmf = coherence_model_nmf.get_coherence()\n",
        "\n",
        "# Add to dictionary\n",
        "metrics[\"BOW NMF Model\"] = round(coherence_nmf, 5)\n",
        "\n",
        "print('\\nCoherence Score: ', coherence_nmf)"
      ],
      "metadata": {
        "colab": {
          "base_uri": "https://localhost:8080/"
        },
        "outputId": "4c8e05cc-6b6a-40d1-ac8a-d441e7f1b8e2",
        "id": "QqzNU2vp76HT"
      },
      "execution_count": 27,
      "outputs": [
        {
          "output_type": "stream",
          "name": "stdout",
          "text": [
            "BOW Model\n",
            "\n",
            "Coherence Score:  0.4070841171857621\n"
          ]
        }
      ]
    },
    {
      "cell_type": "code",
      "source": [
        "# Compute Coherence Score\n",
        "print(f\"TF-IDF Model\")\n",
        "\n",
        "nmf2_score = CoherenceModel(model = nmf_tfidf, \n",
        "                            texts = texts, \n",
        "                            dictionary = id2word, \n",
        "                            coherence = 'c_v')\n",
        "\n",
        "coherence_nmf2 = nmf2_score.get_coherence()\n",
        "\n",
        "# Add to dictionary\n",
        "metrics[\"TF-IDF NMF Model\"] = round(coherence_nmf2, 5)\n",
        "\n",
        "print('\\nCoherence Score: ', coherence_nmf2)"
      ],
      "metadata": {
        "colab": {
          "base_uri": "https://localhost:8080/"
        },
        "id": "pEXA33N292DS",
        "outputId": "4ea48be4-7adf-4d07-89f3-af52834e6c63"
      },
      "execution_count": 28,
      "outputs": [
        {
          "output_type": "stream",
          "name": "stdout",
          "text": [
            "TF-IDF Model\n",
            "\n",
            "Coherence Score:  0.7440386272948706\n"
          ]
        }
      ]
    },
    {
      "cell_type": "markdown",
      "source": [
        "## **iii) Sklearn NMF**"
      ],
      "metadata": {
        "id": "7ZDEhq4eVJhQ"
      }
    },
    {
      "cell_type": "code",
      "source": [
        "from tmtoolkit.topicmod.evaluate import metric_coherence_gensim\n",
        "\n",
        "print(f\"TF-IDF Sklearn NMF Model\\n\")\n",
        "\n",
        "nmf_score = metric_coherence_gensim(measure = 'c_v',\n",
        "                                    topic_word_distrib = sk_nmf.components_,\n",
        "                                    vocab = np.array(tfidf_fn),    \n",
        "                                    dtm = dtm_tfidf,\n",
        "                                    dictionary = id2word, \n",
        "                                    return_coh_model = True,                               \n",
        "                                    texts = texts)\n",
        "\n",
        "nmf_sk_score = nmf_score.get_coherence()\n",
        "\n",
        "# Add to metrics dict\n",
        "metrics[\"TF-IDF NMF Sklearn Model\"] = round(nmf_sk_score, 5)\n",
        "\n",
        "print(nmf_sk_score)"
      ],
      "metadata": {
        "colab": {
          "base_uri": "https://localhost:8080/"
        },
        "id": "6lO4uAn8VM2W",
        "outputId": "f512c4be-ee67-4b53-a182-ec0db7d75223"
      },
      "execution_count": 29,
      "outputs": [
        {
          "output_type": "stream",
          "name": "stdout",
          "text": [
            "TF-IDF Sklearn NMF Model\n",
            "\n",
            "0.7400653935345888\n"
          ]
        }
      ]
    },
    {
      "cell_type": "markdown",
      "source": [
        "# **9) Metrics**"
      ],
      "metadata": {
        "id": "01p8N5axm6Qb"
      }
    },
    {
      "cell_type": "code",
      "source": [
        "print(f\"Metrics:\\n\")\n",
        "pprint(metrics)"
      ],
      "metadata": {
        "colab": {
          "base_uri": "https://localhost:8080/"
        },
        "id": "mTPN6CC_m826",
        "outputId": "808cd6e5-2bb9-4574-ce2b-370ed4bc2806"
      },
      "execution_count": 30,
      "outputs": [
        {
          "output_type": "stream",
          "name": "stdout",
          "text": [
            "Metrics:\n",
            "\n",
            "{'BOW LDA Model': 0.44218,\n",
            " 'BOW NMF Model': 0.40708,\n",
            " 'TF-IDF NMF Model': 0.74404,\n",
            " 'TF-IDF NMF Sklearn Model': 0.74007,\n",
            " 'Tf-IDF LDA Model': 0.51836}\n"
          ]
        }
      ]
    },
    {
      "cell_type": "markdown",
      "source": [
        "# **Elbow Method for Optimal Number of Topics**"
      ],
      "metadata": {
        "id": "xUQOC4XTikdy"
      }
    },
    {
      "cell_type": "code",
      "source": [
        "# NMF Model\n",
        "from gensim.models import nmf\n",
        "from gensim.models import CoherenceModel\n",
        "\n",
        "topic_nums = list(range(3, 21, 1))\n",
        "coherence_scores = []\n",
        "\n",
        "for num in topic_nums:\n",
        "   \n",
        "  nmf_tfidf = nmf.Nmf(corpus = tfidf_corpus,\n",
        "                    id2word = id2word,\n",
        "                    num_topics = num,\n",
        "                    passes = 5,              \n",
        "                    normalize = True,\n",
        "                    random_state = 42,)\n",
        "\n",
        "  # Calculate coherence score\n",
        "  coherence_model_nmf = CoherenceModel(model = nmf_tfidf, \n",
        "                                     texts = texts, \n",
        "                                     dictionary = id2word, \n",
        "                                     coherence = 'c_v')\n",
        "\n",
        "  coherence_nmf = coherence_model_nmf.get_coherence()\n",
        "  \n",
        "  # fit on the TF-IDF transformed data\n",
        "  coherence_scores.append(round(coherence_nmf, 5))\n"
      ],
      "metadata": {
        "id": "3-TQ7997iu0o"
      },
      "execution_count": 32,
      "outputs": []
    },
    {
      "cell_type": "code",
      "source": [
        "\n",
        "# Get the number of topics with the highest coherence score\n",
        "from operator import itemgetter\n",
        "\n",
        "# get the scores for each topic_num\n",
        "scores = list(zip(topic_nums, coherence_scores))\n",
        "best_num_topics = sorted(scores, key = itemgetter(1), reverse = True)[0][0]\n",
        "\n",
        "print(best_num_topics)\n",
        "\n",
        "# Plot the results\n",
        "fig = plt.figure(figsize=(8, 6))\n",
        "\n",
        "sb.lineplot(\n",
        "    x = topic_nums,\n",
        "    y = coherence_scores,\n",
        "    linewidth = 3,\n",
        "    color = '#AE0AEB'\n",
        ")\n",
        "\n",
        "plt.xlabel(\"Topic Num\", fontsize = 8)\n",
        "plt.ylabel(\"Coherence Score\", fontsize = 8)\n",
        "plt.title('Coherence Score by Topic Number - Best Number of Topics: {}'.format(best_num_topics), fontsize = 11)\n",
        "plt.xticks(np.arange(3, max(topic_nums) + 1, 1), fontsize = 10)\n",
        "plt.yticks(fontsize = 8)\n",
        "\n",
        "plt.show()"
      ],
      "metadata": {
        "colab": {
          "base_uri": "https://localhost:8080/",
          "height": 550
        },
        "id": "5fKoFKzHlid7",
        "outputId": "3d2f95cf-5a07-46c4-a25d-227ae8ead4d6"
      },
      "execution_count": 34,
      "outputs": [
        {
          "output_type": "stream",
          "name": "stdout",
          "text": [
            "5\n"
          ]
        },
        {
          "output_type": "display_data",
          "data": {
            "text/plain": [
              "<Figure size 576x432 with 1 Axes>"
            ],
            "image/svg+xml": "<?xml version=\"1.0\" encoding=\"utf-8\" standalone=\"no\"?>\n<!DOCTYPE svg PUBLIC \"-//W3C//DTD SVG 1.1//EN\"\n  \"http://www.w3.org/Graphics/SVG/1.1/DTD/svg11.dtd\">\n<!-- Created with matplotlib (https://matplotlib.org/) -->\n<svg height=\"383.338906pt\" version=\"1.1\" viewBox=\"0 0 497.355 383.338906\" width=\"497.355pt\" xmlns=\"http://www.w3.org/2000/svg\" xmlns:xlink=\"http://www.w3.org/1999/xlink\">\n <metadata>\n  <rdf:RDF xmlns:cc=\"http://creativecommons.org/ns#\" xmlns:dc=\"http://purl.org/dc/elements/1.1/\" xmlns:rdf=\"http://www.w3.org/1999/02/22-rdf-syntax-ns#\">\n   <cc:Work>\n    <dc:type rdf:resource=\"http://purl.org/dc/dcmitype/StillImage\"/>\n    <dc:date>2022-08-24T13:46:41.969930</dc:date>\n    <dc:format>image/svg+xml</dc:format>\n    <dc:creator>\n     <cc:Agent>\n      <dc:title>Matplotlib v3.3.4, https://matplotlib.org/</dc:title>\n     </cc:Agent>\n    </dc:creator>\n   </cc:Work>\n  </rdf:RDF>\n </metadata>\n <defs>\n  <style type=\"text/css\">*{stroke-linecap:butt;stroke-linejoin:round;}</style>\n </defs>\n <g id=\"figure_1\">\n  <g id=\"patch_1\">\n   <path d=\"M 0 383.338906 \nL 497.355 383.338906 \nL 497.355 0 \nL 0 0 \nz\n\" style=\"fill:none;\"/>\n  </g>\n  <g id=\"axes_1\">\n   <g id=\"patch_2\">\n    <path d=\"M 43.755 347.718281 \nL 490.155 347.718281 \nL 490.155 21.558281 \nL 43.755 21.558281 \nz\n\" style=\"fill:#eaeaf2;\"/>\n   </g>\n   <g id=\"matplotlib.axis_1\">\n    <g id=\"xtick_1\">\n     <g id=\"line2d_1\">\n      <path clip-path=\"url(#p221a26765d)\" d=\"M 64.045909 347.718281 \nL 64.045909 21.558281 \n\" style=\"fill:none;stroke:#ffffff;stroke-linecap:round;stroke-width:0.8;\"/>\n     </g>\n     <g id=\"text_1\">\n      <!-- 3 -->\n      <g style=\"fill:#262626;\" transform=\"translate(60.864659 362.316719)scale(0.1 -0.1)\">\n       <defs>\n        <path d=\"M 40.578125 39.3125 \nQ 47.65625 37.796875 51.625 33 \nQ 55.609375 28.21875 55.609375 21.1875 \nQ 55.609375 10.40625 48.1875 4.484375 \nQ 40.765625 -1.421875 27.09375 -1.421875 \nQ 22.515625 -1.421875 17.65625 -0.515625 \nQ 12.796875 0.390625 7.625 2.203125 \nL 7.625 11.71875 \nQ 11.71875 9.328125 16.59375 8.109375 \nQ 21.484375 6.890625 26.8125 6.890625 \nQ 36.078125 6.890625 40.9375 10.546875 \nQ 45.796875 14.203125 45.796875 21.1875 \nQ 45.796875 27.640625 41.28125 31.265625 \nQ 36.765625 34.90625 28.71875 34.90625 \nL 20.21875 34.90625 \nL 20.21875 43.015625 \nL 29.109375 43.015625 \nQ 36.375 43.015625 40.234375 45.921875 \nQ 44.09375 48.828125 44.09375 54.296875 \nQ 44.09375 59.90625 40.109375 62.90625 \nQ 36.140625 65.921875 28.71875 65.921875 \nQ 24.65625 65.921875 20.015625 65.03125 \nQ 15.375 64.15625 9.8125 62.3125 \nL 9.8125 71.09375 \nQ 15.4375 72.65625 20.34375 73.4375 \nQ 25.25 74.21875 29.59375 74.21875 \nQ 40.828125 74.21875 47.359375 69.109375 \nQ 53.90625 64.015625 53.90625 55.328125 \nQ 53.90625 49.265625 50.4375 45.09375 \nQ 46.96875 40.921875 40.578125 39.3125 \nz\n\" id=\"DejaVuSans-51\"/>\n       </defs>\n       <use xlink:href=\"#DejaVuSans-51\"/>\n      </g>\n     </g>\n    </g>\n    <g id=\"xtick_2\">\n     <g id=\"line2d_2\">\n      <path clip-path=\"url(#p221a26765d)\" d=\"M 87.917567 347.718281 \nL 87.917567 21.558281 \n\" style=\"fill:none;stroke:#ffffff;stroke-linecap:round;stroke-width:0.8;\"/>\n     </g>\n     <g id=\"text_2\">\n      <!-- 4 -->\n      <g style=\"fill:#262626;\" transform=\"translate(84.736317 362.316719)scale(0.1 -0.1)\">\n       <defs>\n        <path d=\"M 37.796875 64.3125 \nL 12.890625 25.390625 \nL 37.796875 25.390625 \nz\nM 35.203125 72.90625 \nL 47.609375 72.90625 \nL 47.609375 25.390625 \nL 58.015625 25.390625 \nL 58.015625 17.1875 \nL 47.609375 17.1875 \nL 47.609375 0 \nL 37.796875 0 \nL 37.796875 17.1875 \nL 4.890625 17.1875 \nL 4.890625 26.703125 \nz\n\" id=\"DejaVuSans-52\"/>\n       </defs>\n       <use xlink:href=\"#DejaVuSans-52\"/>\n      </g>\n     </g>\n    </g>\n    <g id=\"xtick_3\">\n     <g id=\"line2d_3\">\n      <path clip-path=\"url(#p221a26765d)\" d=\"M 111.789225 347.718281 \nL 111.789225 21.558281 \n\" style=\"fill:none;stroke:#ffffff;stroke-linecap:round;stroke-width:0.8;\"/>\n     </g>\n     <g id=\"text_3\">\n      <!-- 5 -->\n      <g style=\"fill:#262626;\" transform=\"translate(108.607975 362.316719)scale(0.1 -0.1)\">\n       <defs>\n        <path d=\"M 10.796875 72.90625 \nL 49.515625 72.90625 \nL 49.515625 64.59375 \nL 19.828125 64.59375 \nL 19.828125 46.734375 \nQ 21.96875 47.46875 24.109375 47.828125 \nQ 26.265625 48.1875 28.421875 48.1875 \nQ 40.625 48.1875 47.75 41.5 \nQ 54.890625 34.8125 54.890625 23.390625 \nQ 54.890625 11.625 47.5625 5.09375 \nQ 40.234375 -1.421875 26.90625 -1.421875 \nQ 22.3125 -1.421875 17.546875 -0.640625 \nQ 12.796875 0.140625 7.71875 1.703125 \nL 7.71875 11.625 \nQ 12.109375 9.234375 16.796875 8.0625 \nQ 21.484375 6.890625 26.703125 6.890625 \nQ 35.15625 6.890625 40.078125 11.328125 \nQ 45.015625 15.765625 45.015625 23.390625 \nQ 45.015625 31 40.078125 35.4375 \nQ 35.15625 39.890625 26.703125 39.890625 \nQ 22.75 39.890625 18.8125 39.015625 \nQ 14.890625 38.140625 10.796875 36.28125 \nz\n\" id=\"DejaVuSans-53\"/>\n       </defs>\n       <use xlink:href=\"#DejaVuSans-53\"/>\n      </g>\n     </g>\n    </g>\n    <g id=\"xtick_4\">\n     <g id=\"line2d_4\">\n      <path clip-path=\"url(#p221a26765d)\" d=\"M 135.660882 347.718281 \nL 135.660882 21.558281 \n\" style=\"fill:none;stroke:#ffffff;stroke-linecap:round;stroke-width:0.8;\"/>\n     </g>\n     <g id=\"text_4\">\n      <!-- 6 -->\n      <g style=\"fill:#262626;\" transform=\"translate(132.479632 362.316719)scale(0.1 -0.1)\">\n       <defs>\n        <path d=\"M 33.015625 40.375 \nQ 26.375 40.375 22.484375 35.828125 \nQ 18.609375 31.296875 18.609375 23.390625 \nQ 18.609375 15.53125 22.484375 10.953125 \nQ 26.375 6.390625 33.015625 6.390625 \nQ 39.65625 6.390625 43.53125 10.953125 \nQ 47.40625 15.53125 47.40625 23.390625 \nQ 47.40625 31.296875 43.53125 35.828125 \nQ 39.65625 40.375 33.015625 40.375 \nz\nM 52.59375 71.296875 \nL 52.59375 62.3125 \nQ 48.875 64.0625 45.09375 64.984375 \nQ 41.3125 65.921875 37.59375 65.921875 \nQ 27.828125 65.921875 22.671875 59.328125 \nQ 17.53125 52.734375 16.796875 39.40625 \nQ 19.671875 43.65625 24.015625 45.921875 \nQ 28.375 48.1875 33.59375 48.1875 \nQ 44.578125 48.1875 50.953125 41.515625 \nQ 57.328125 34.859375 57.328125 23.390625 \nQ 57.328125 12.15625 50.6875 5.359375 \nQ 44.046875 -1.421875 33.015625 -1.421875 \nQ 20.359375 -1.421875 13.671875 8.265625 \nQ 6.984375 17.96875 6.984375 36.375 \nQ 6.984375 53.65625 15.1875 63.9375 \nQ 23.390625 74.21875 37.203125 74.21875 \nQ 40.921875 74.21875 44.703125 73.484375 \nQ 48.484375 72.75 52.59375 71.296875 \nz\n\" id=\"DejaVuSans-54\"/>\n       </defs>\n       <use xlink:href=\"#DejaVuSans-54\"/>\n      </g>\n     </g>\n    </g>\n    <g id=\"xtick_5\">\n     <g id=\"line2d_5\">\n      <path clip-path=\"url(#p221a26765d)\" d=\"M 159.53254 347.718281 \nL 159.53254 21.558281 \n\" style=\"fill:none;stroke:#ffffff;stroke-linecap:round;stroke-width:0.8;\"/>\n     </g>\n     <g id=\"text_5\">\n      <!-- 7 -->\n      <g style=\"fill:#262626;\" transform=\"translate(156.35129 362.316719)scale(0.1 -0.1)\">\n       <defs>\n        <path d=\"M 8.203125 72.90625 \nL 55.078125 72.90625 \nL 55.078125 68.703125 \nL 28.609375 0 \nL 18.3125 0 \nL 43.21875 64.59375 \nL 8.203125 64.59375 \nz\n\" id=\"DejaVuSans-55\"/>\n       </defs>\n       <use xlink:href=\"#DejaVuSans-55\"/>\n      </g>\n     </g>\n    </g>\n    <g id=\"xtick_6\">\n     <g id=\"line2d_6\">\n      <path clip-path=\"url(#p221a26765d)\" d=\"M 183.404198 347.718281 \nL 183.404198 21.558281 \n\" style=\"fill:none;stroke:#ffffff;stroke-linecap:round;stroke-width:0.8;\"/>\n     </g>\n     <g id=\"text_6\">\n      <!-- 8 -->\n      <g style=\"fill:#262626;\" transform=\"translate(180.222948 362.316719)scale(0.1 -0.1)\">\n       <defs>\n        <path d=\"M 31.78125 34.625 \nQ 24.75 34.625 20.71875 30.859375 \nQ 16.703125 27.09375 16.703125 20.515625 \nQ 16.703125 13.921875 20.71875 10.15625 \nQ 24.75 6.390625 31.78125 6.390625 \nQ 38.8125 6.390625 42.859375 10.171875 \nQ 46.921875 13.96875 46.921875 20.515625 \nQ 46.921875 27.09375 42.890625 30.859375 \nQ 38.875 34.625 31.78125 34.625 \nz\nM 21.921875 38.8125 \nQ 15.578125 40.375 12.03125 44.71875 \nQ 8.5 49.078125 8.5 55.328125 \nQ 8.5 64.0625 14.71875 69.140625 \nQ 20.953125 74.21875 31.78125 74.21875 \nQ 42.671875 74.21875 48.875 69.140625 \nQ 55.078125 64.0625 55.078125 55.328125 \nQ 55.078125 49.078125 51.53125 44.71875 \nQ 48 40.375 41.703125 38.8125 \nQ 48.828125 37.15625 52.796875 32.3125 \nQ 56.78125 27.484375 56.78125 20.515625 \nQ 56.78125 9.90625 50.3125 4.234375 \nQ 43.84375 -1.421875 31.78125 -1.421875 \nQ 19.734375 -1.421875 13.25 4.234375 \nQ 6.78125 9.90625 6.78125 20.515625 \nQ 6.78125 27.484375 10.78125 32.3125 \nQ 14.796875 37.15625 21.921875 38.8125 \nz\nM 18.3125 54.390625 \nQ 18.3125 48.734375 21.84375 45.5625 \nQ 25.390625 42.390625 31.78125 42.390625 \nQ 38.140625 42.390625 41.71875 45.5625 \nQ 45.3125 48.734375 45.3125 54.390625 \nQ 45.3125 60.0625 41.71875 63.234375 \nQ 38.140625 66.40625 31.78125 66.40625 \nQ 25.390625 66.40625 21.84375 63.234375 \nQ 18.3125 60.0625 18.3125 54.390625 \nz\n\" id=\"DejaVuSans-56\"/>\n       </defs>\n       <use xlink:href=\"#DejaVuSans-56\"/>\n      </g>\n     </g>\n    </g>\n    <g id=\"xtick_7\">\n     <g id=\"line2d_7\">\n      <path clip-path=\"url(#p221a26765d)\" d=\"M 207.275856 347.718281 \nL 207.275856 21.558281 \n\" style=\"fill:none;stroke:#ffffff;stroke-linecap:round;stroke-width:0.8;\"/>\n     </g>\n     <g id=\"text_7\">\n      <!-- 9 -->\n      <g style=\"fill:#262626;\" transform=\"translate(204.094606 362.316719)scale(0.1 -0.1)\">\n       <defs>\n        <path d=\"M 10.984375 1.515625 \nL 10.984375 10.5 \nQ 14.703125 8.734375 18.5 7.8125 \nQ 22.3125 6.890625 25.984375 6.890625 \nQ 35.75 6.890625 40.890625 13.453125 \nQ 46.046875 20.015625 46.78125 33.40625 \nQ 43.953125 29.203125 39.59375 26.953125 \nQ 35.25 24.703125 29.984375 24.703125 \nQ 19.046875 24.703125 12.671875 31.3125 \nQ 6.296875 37.9375 6.296875 49.421875 \nQ 6.296875 60.640625 12.9375 67.421875 \nQ 19.578125 74.21875 30.609375 74.21875 \nQ 43.265625 74.21875 49.921875 64.515625 \nQ 56.59375 54.828125 56.59375 36.375 \nQ 56.59375 19.140625 48.40625 8.859375 \nQ 40.234375 -1.421875 26.421875 -1.421875 \nQ 22.703125 -1.421875 18.890625 -0.6875 \nQ 15.09375 0.046875 10.984375 1.515625 \nz\nM 30.609375 32.421875 \nQ 37.25 32.421875 41.125 36.953125 \nQ 45.015625 41.5 45.015625 49.421875 \nQ 45.015625 57.28125 41.125 61.84375 \nQ 37.25 66.40625 30.609375 66.40625 \nQ 23.96875 66.40625 20.09375 61.84375 \nQ 16.21875 57.28125 16.21875 49.421875 \nQ 16.21875 41.5 20.09375 36.953125 \nQ 23.96875 32.421875 30.609375 32.421875 \nz\n\" id=\"DejaVuSans-57\"/>\n       </defs>\n       <use xlink:href=\"#DejaVuSans-57\"/>\n      </g>\n     </g>\n    </g>\n    <g id=\"xtick_8\">\n     <g id=\"line2d_8\">\n      <path clip-path=\"url(#p221a26765d)\" d=\"M 231.147513 347.718281 \nL 231.147513 21.558281 \n\" style=\"fill:none;stroke:#ffffff;stroke-linecap:round;stroke-width:0.8;\"/>\n     </g>\n     <g id=\"text_8\">\n      <!-- 10 -->\n      <g style=\"fill:#262626;\" transform=\"translate(224.785013 362.316719)scale(0.1 -0.1)\">\n       <defs>\n        <path d=\"M 12.40625 8.296875 \nL 28.515625 8.296875 \nL 28.515625 63.921875 \nL 10.984375 60.40625 \nL 10.984375 69.390625 \nL 28.421875 72.90625 \nL 38.28125 72.90625 \nL 38.28125 8.296875 \nL 54.390625 8.296875 \nL 54.390625 0 \nL 12.40625 0 \nz\n\" id=\"DejaVuSans-49\"/>\n        <path d=\"M 31.78125 66.40625 \nQ 24.171875 66.40625 20.328125 58.90625 \nQ 16.5 51.421875 16.5 36.375 \nQ 16.5 21.390625 20.328125 13.890625 \nQ 24.171875 6.390625 31.78125 6.390625 \nQ 39.453125 6.390625 43.28125 13.890625 \nQ 47.125 21.390625 47.125 36.375 \nQ 47.125 51.421875 43.28125 58.90625 \nQ 39.453125 66.40625 31.78125 66.40625 \nz\nM 31.78125 74.21875 \nQ 44.046875 74.21875 50.515625 64.515625 \nQ 56.984375 54.828125 56.984375 36.375 \nQ 56.984375 17.96875 50.515625 8.265625 \nQ 44.046875 -1.421875 31.78125 -1.421875 \nQ 19.53125 -1.421875 13.0625 8.265625 \nQ 6.59375 17.96875 6.59375 36.375 \nQ 6.59375 54.828125 13.0625 64.515625 \nQ 19.53125 74.21875 31.78125 74.21875 \nz\n\" id=\"DejaVuSans-48\"/>\n       </defs>\n       <use xlink:href=\"#DejaVuSans-49\"/>\n       <use x=\"63.623047\" xlink:href=\"#DejaVuSans-48\"/>\n      </g>\n     </g>\n    </g>\n    <g id=\"xtick_9\">\n     <g id=\"line2d_9\">\n      <path clip-path=\"url(#p221a26765d)\" d=\"M 255.019171 347.718281 \nL 255.019171 21.558281 \n\" style=\"fill:none;stroke:#ffffff;stroke-linecap:round;stroke-width:0.8;\"/>\n     </g>\n     <g id=\"text_9\">\n      <!-- 11 -->\n      <g style=\"fill:#262626;\" transform=\"translate(248.656671 362.316719)scale(0.1 -0.1)\">\n       <use xlink:href=\"#DejaVuSans-49\"/>\n       <use x=\"63.623047\" xlink:href=\"#DejaVuSans-49\"/>\n      </g>\n     </g>\n    </g>\n    <g id=\"xtick_10\">\n     <g id=\"line2d_10\">\n      <path clip-path=\"url(#p221a26765d)\" d=\"M 278.890829 347.718281 \nL 278.890829 21.558281 \n\" style=\"fill:none;stroke:#ffffff;stroke-linecap:round;stroke-width:0.8;\"/>\n     </g>\n     <g id=\"text_10\">\n      <!-- 12 -->\n      <g style=\"fill:#262626;\" transform=\"translate(272.528329 362.316719)scale(0.1 -0.1)\">\n       <defs>\n        <path d=\"M 19.1875 8.296875 \nL 53.609375 8.296875 \nL 53.609375 0 \nL 7.328125 0 \nL 7.328125 8.296875 \nQ 12.9375 14.109375 22.625 23.890625 \nQ 32.328125 33.6875 34.8125 36.53125 \nQ 39.546875 41.84375 41.421875 45.53125 \nQ 43.3125 49.21875 43.3125 52.78125 \nQ 43.3125 58.59375 39.234375 62.25 \nQ 35.15625 65.921875 28.609375 65.921875 \nQ 23.96875 65.921875 18.8125 64.3125 \nQ 13.671875 62.703125 7.8125 59.421875 \nL 7.8125 69.390625 \nQ 13.765625 71.78125 18.9375 73 \nQ 24.125 74.21875 28.421875 74.21875 \nQ 39.75 74.21875 46.484375 68.546875 \nQ 53.21875 62.890625 53.21875 53.421875 \nQ 53.21875 48.921875 51.53125 44.890625 \nQ 49.859375 40.875 45.40625 35.40625 \nQ 44.1875 33.984375 37.640625 27.21875 \nQ 31.109375 20.453125 19.1875 8.296875 \nz\n\" id=\"DejaVuSans-50\"/>\n       </defs>\n       <use xlink:href=\"#DejaVuSans-49\"/>\n       <use x=\"63.623047\" xlink:href=\"#DejaVuSans-50\"/>\n      </g>\n     </g>\n    </g>\n    <g id=\"xtick_11\">\n     <g id=\"line2d_11\">\n      <path clip-path=\"url(#p221a26765d)\" d=\"M 302.762487 347.718281 \nL 302.762487 21.558281 \n\" style=\"fill:none;stroke:#ffffff;stroke-linecap:round;stroke-width:0.8;\"/>\n     </g>\n     <g id=\"text_11\">\n      <!-- 13 -->\n      <g style=\"fill:#262626;\" transform=\"translate(296.399987 362.316719)scale(0.1 -0.1)\">\n       <use xlink:href=\"#DejaVuSans-49\"/>\n       <use x=\"63.623047\" xlink:href=\"#DejaVuSans-51\"/>\n      </g>\n     </g>\n    </g>\n    <g id=\"xtick_12\">\n     <g id=\"line2d_12\">\n      <path clip-path=\"url(#p221a26765d)\" d=\"M 326.634144 347.718281 \nL 326.634144 21.558281 \n\" style=\"fill:none;stroke:#ffffff;stroke-linecap:round;stroke-width:0.8;\"/>\n     </g>\n     <g id=\"text_12\">\n      <!-- 14 -->\n      <g style=\"fill:#262626;\" transform=\"translate(320.271644 362.316719)scale(0.1 -0.1)\">\n       <use xlink:href=\"#DejaVuSans-49\"/>\n       <use x=\"63.623047\" xlink:href=\"#DejaVuSans-52\"/>\n      </g>\n     </g>\n    </g>\n    <g id=\"xtick_13\">\n     <g id=\"line2d_13\">\n      <path clip-path=\"url(#p221a26765d)\" d=\"M 350.505802 347.718281 \nL 350.505802 21.558281 \n\" style=\"fill:none;stroke:#ffffff;stroke-linecap:round;stroke-width:0.8;\"/>\n     </g>\n     <g id=\"text_13\">\n      <!-- 15 -->\n      <g style=\"fill:#262626;\" transform=\"translate(344.143302 362.316719)scale(0.1 -0.1)\">\n       <use xlink:href=\"#DejaVuSans-49\"/>\n       <use x=\"63.623047\" xlink:href=\"#DejaVuSans-53\"/>\n      </g>\n     </g>\n    </g>\n    <g id=\"xtick_14\">\n     <g id=\"line2d_14\">\n      <path clip-path=\"url(#p221a26765d)\" d=\"M 374.37746 347.718281 \nL 374.37746 21.558281 \n\" style=\"fill:none;stroke:#ffffff;stroke-linecap:round;stroke-width:0.8;\"/>\n     </g>\n     <g id=\"text_14\">\n      <!-- 16 -->\n      <g style=\"fill:#262626;\" transform=\"translate(368.01496 362.316719)scale(0.1 -0.1)\">\n       <use xlink:href=\"#DejaVuSans-49\"/>\n       <use x=\"63.623047\" xlink:href=\"#DejaVuSans-54\"/>\n      </g>\n     </g>\n    </g>\n    <g id=\"xtick_15\">\n     <g id=\"line2d_15\">\n      <path clip-path=\"url(#p221a26765d)\" d=\"M 398.249118 347.718281 \nL 398.249118 21.558281 \n\" style=\"fill:none;stroke:#ffffff;stroke-linecap:round;stroke-width:0.8;\"/>\n     </g>\n     <g id=\"text_15\">\n      <!-- 17 -->\n      <g style=\"fill:#262626;\" transform=\"translate(391.886618 362.316719)scale(0.1 -0.1)\">\n       <use xlink:href=\"#DejaVuSans-49\"/>\n       <use x=\"63.623047\" xlink:href=\"#DejaVuSans-55\"/>\n      </g>\n     </g>\n    </g>\n    <g id=\"xtick_16\">\n     <g id=\"line2d_16\">\n      <path clip-path=\"url(#p221a26765d)\" d=\"M 422.120775 347.718281 \nL 422.120775 21.558281 \n\" style=\"fill:none;stroke:#ffffff;stroke-linecap:round;stroke-width:0.8;\"/>\n     </g>\n     <g id=\"text_16\">\n      <!-- 18 -->\n      <g style=\"fill:#262626;\" transform=\"translate(415.758275 362.316719)scale(0.1 -0.1)\">\n       <use xlink:href=\"#DejaVuSans-49\"/>\n       <use x=\"63.623047\" xlink:href=\"#DejaVuSans-56\"/>\n      </g>\n     </g>\n    </g>\n    <g id=\"xtick_17\">\n     <g id=\"line2d_17\">\n      <path clip-path=\"url(#p221a26765d)\" d=\"M 445.992433 347.718281 \nL 445.992433 21.558281 \n\" style=\"fill:none;stroke:#ffffff;stroke-linecap:round;stroke-width:0.8;\"/>\n     </g>\n     <g id=\"text_17\">\n      <!-- 19 -->\n      <g style=\"fill:#262626;\" transform=\"translate(439.629933 362.316719)scale(0.1 -0.1)\">\n       <use xlink:href=\"#DejaVuSans-49\"/>\n       <use x=\"63.623047\" xlink:href=\"#DejaVuSans-57\"/>\n      </g>\n     </g>\n    </g>\n    <g id=\"xtick_18\">\n     <g id=\"line2d_18\">\n      <path clip-path=\"url(#p221a26765d)\" d=\"M 469.864091 347.718281 \nL 469.864091 21.558281 \n\" style=\"fill:none;stroke:#ffffff;stroke-linecap:round;stroke-width:0.8;\"/>\n     </g>\n     <g id=\"text_18\">\n      <!-- 20 -->\n      <g style=\"fill:#262626;\" transform=\"translate(463.501591 362.316719)scale(0.1 -0.1)\">\n       <use xlink:href=\"#DejaVuSans-50\"/>\n       <use x=\"63.623047\" xlink:href=\"#DejaVuSans-48\"/>\n      </g>\n     </g>\n    </g>\n    <g id=\"text_19\">\n     <!-- Topic Num -->\n     <g style=\"fill:#262626;\" transform=\"translate(246.199375 374.475156)scale(0.08 -0.08)\">\n      <defs>\n       <path d=\"M -0.296875 72.90625 \nL 61.375 72.90625 \nL 61.375 64.59375 \nL 35.5 64.59375 \nL 35.5 0 \nL 25.59375 0 \nL 25.59375 64.59375 \nL -0.296875 64.59375 \nz\n\" id=\"DejaVuSans-84\"/>\n       <path d=\"M 30.609375 48.390625 \nQ 23.390625 48.390625 19.1875 42.75 \nQ 14.984375 37.109375 14.984375 27.296875 \nQ 14.984375 17.484375 19.15625 11.84375 \nQ 23.34375 6.203125 30.609375 6.203125 \nQ 37.796875 6.203125 41.984375 11.859375 \nQ 46.1875 17.53125 46.1875 27.296875 \nQ 46.1875 37.015625 41.984375 42.703125 \nQ 37.796875 48.390625 30.609375 48.390625 \nz\nM 30.609375 56 \nQ 42.328125 56 49.015625 48.375 \nQ 55.71875 40.765625 55.71875 27.296875 \nQ 55.71875 13.875 49.015625 6.21875 \nQ 42.328125 -1.421875 30.609375 -1.421875 \nQ 18.84375 -1.421875 12.171875 6.21875 \nQ 5.515625 13.875 5.515625 27.296875 \nQ 5.515625 40.765625 12.171875 48.375 \nQ 18.84375 56 30.609375 56 \nz\n\" id=\"DejaVuSans-111\"/>\n       <path d=\"M 18.109375 8.203125 \nL 18.109375 -20.796875 \nL 9.078125 -20.796875 \nL 9.078125 54.6875 \nL 18.109375 54.6875 \nL 18.109375 46.390625 \nQ 20.953125 51.265625 25.265625 53.625 \nQ 29.59375 56 35.59375 56 \nQ 45.5625 56 51.78125 48.09375 \nQ 58.015625 40.1875 58.015625 27.296875 \nQ 58.015625 14.40625 51.78125 6.484375 \nQ 45.5625 -1.421875 35.59375 -1.421875 \nQ 29.59375 -1.421875 25.265625 0.953125 \nQ 20.953125 3.328125 18.109375 8.203125 \nz\nM 48.6875 27.296875 \nQ 48.6875 37.203125 44.609375 42.84375 \nQ 40.53125 48.484375 33.40625 48.484375 \nQ 26.265625 48.484375 22.1875 42.84375 \nQ 18.109375 37.203125 18.109375 27.296875 \nQ 18.109375 17.390625 22.1875 11.75 \nQ 26.265625 6.109375 33.40625 6.109375 \nQ 40.53125 6.109375 44.609375 11.75 \nQ 48.6875 17.390625 48.6875 27.296875 \nz\n\" id=\"DejaVuSans-112\"/>\n       <path d=\"M 9.421875 54.6875 \nL 18.40625 54.6875 \nL 18.40625 0 \nL 9.421875 0 \nz\nM 9.421875 75.984375 \nL 18.40625 75.984375 \nL 18.40625 64.59375 \nL 9.421875 64.59375 \nz\n\" id=\"DejaVuSans-105\"/>\n       <path d=\"M 48.78125 52.59375 \nL 48.78125 44.1875 \nQ 44.96875 46.296875 41.140625 47.34375 \nQ 37.3125 48.390625 33.40625 48.390625 \nQ 24.65625 48.390625 19.8125 42.84375 \nQ 14.984375 37.3125 14.984375 27.296875 \nQ 14.984375 17.28125 19.8125 11.734375 \nQ 24.65625 6.203125 33.40625 6.203125 \nQ 37.3125 6.203125 41.140625 7.25 \nQ 44.96875 8.296875 48.78125 10.40625 \nL 48.78125 2.09375 \nQ 45.015625 0.34375 40.984375 -0.53125 \nQ 36.96875 -1.421875 32.421875 -1.421875 \nQ 20.0625 -1.421875 12.78125 6.34375 \nQ 5.515625 14.109375 5.515625 27.296875 \nQ 5.515625 40.671875 12.859375 48.328125 \nQ 20.21875 56 33.015625 56 \nQ 37.15625 56 41.109375 55.140625 \nQ 45.0625 54.296875 48.78125 52.59375 \nz\n\" id=\"DejaVuSans-99\"/>\n       <path id=\"DejaVuSans-32\"/>\n       <path d=\"M 9.8125 72.90625 \nL 23.09375 72.90625 \nL 55.421875 11.921875 \nL 55.421875 72.90625 \nL 64.984375 72.90625 \nL 64.984375 0 \nL 51.703125 0 \nL 19.390625 60.984375 \nL 19.390625 0 \nL 9.8125 0 \nz\n\" id=\"DejaVuSans-78\"/>\n       <path d=\"M 8.5 21.578125 \nL 8.5 54.6875 \nL 17.484375 54.6875 \nL 17.484375 21.921875 \nQ 17.484375 14.15625 20.5 10.265625 \nQ 23.53125 6.390625 29.59375 6.390625 \nQ 36.859375 6.390625 41.078125 11.03125 \nQ 45.3125 15.671875 45.3125 23.6875 \nL 45.3125 54.6875 \nL 54.296875 54.6875 \nL 54.296875 0 \nL 45.3125 0 \nL 45.3125 8.40625 \nQ 42.046875 3.421875 37.71875 1 \nQ 33.40625 -1.421875 27.6875 -1.421875 \nQ 18.265625 -1.421875 13.375 4.4375 \nQ 8.5 10.296875 8.5 21.578125 \nz\nM 31.109375 56 \nz\n\" id=\"DejaVuSans-117\"/>\n       <path d=\"M 52 44.1875 \nQ 55.375 50.25 60.0625 53.125 \nQ 64.75 56 71.09375 56 \nQ 79.640625 56 84.28125 50.015625 \nQ 88.921875 44.046875 88.921875 33.015625 \nL 88.921875 0 \nL 79.890625 0 \nL 79.890625 32.71875 \nQ 79.890625 40.578125 77.09375 44.375 \nQ 74.3125 48.1875 68.609375 48.1875 \nQ 61.625 48.1875 57.5625 43.546875 \nQ 53.515625 38.921875 53.515625 30.90625 \nL 53.515625 0 \nL 44.484375 0 \nL 44.484375 32.71875 \nQ 44.484375 40.625 41.703125 44.40625 \nQ 38.921875 48.1875 33.109375 48.1875 \nQ 26.21875 48.1875 22.15625 43.53125 \nQ 18.109375 38.875 18.109375 30.90625 \nL 18.109375 0 \nL 9.078125 0 \nL 9.078125 54.6875 \nL 18.109375 54.6875 \nL 18.109375 46.1875 \nQ 21.1875 51.21875 25.484375 53.609375 \nQ 29.78125 56 35.6875 56 \nQ 41.65625 56 45.828125 52.96875 \nQ 50 49.953125 52 44.1875 \nz\n\" id=\"DejaVuSans-109\"/>\n      </defs>\n      <use xlink:href=\"#DejaVuSans-84\"/>\n      <use x=\"44.083984\" xlink:href=\"#DejaVuSans-111\"/>\n      <use x=\"105.265625\" xlink:href=\"#DejaVuSans-112\"/>\n      <use x=\"168.742188\" xlink:href=\"#DejaVuSans-105\"/>\n      <use x=\"196.525391\" xlink:href=\"#DejaVuSans-99\"/>\n      <use x=\"251.505859\" xlink:href=\"#DejaVuSans-32\"/>\n      <use x=\"283.292969\" xlink:href=\"#DejaVuSans-78\"/>\n      <use x=\"358.097656\" xlink:href=\"#DejaVuSans-117\"/>\n      <use x=\"421.476562\" xlink:href=\"#DejaVuSans-109\"/>\n     </g>\n    </g>\n   </g>\n   <g id=\"matplotlib.axis_2\">\n    <g id=\"ytick_1\">\n     <g id=\"line2d_19\">\n      <path clip-path=\"url(#p221a26765d)\" d=\"M 43.755 328.09311 \nL 490.155 328.09311 \n\" style=\"fill:none;stroke:#ffffff;stroke-linecap:round;stroke-width:0.8;\"/>\n     </g>\n     <g id=\"text_20\">\n      <!-- 0.60 -->\n      <g style=\"fill:#262626;\" transform=\"translate(18.9425 331.132485)scale(0.08 -0.08)\">\n       <defs>\n        <path d=\"M 10.6875 12.40625 \nL 21 12.40625 \nL 21 0 \nL 10.6875 0 \nz\n\" id=\"DejaVuSans-46\"/>\n       </defs>\n       <use xlink:href=\"#DejaVuSans-48\"/>\n       <use x=\"63.623047\" xlink:href=\"#DejaVuSans-46\"/>\n       <use x=\"95.410156\" xlink:href=\"#DejaVuSans-54\"/>\n       <use x=\"159.033203\" xlink:href=\"#DejaVuSans-48\"/>\n      </g>\n     </g>\n    </g>\n    <g id=\"ytick_2\">\n     <g id=\"line2d_20\">\n      <path clip-path=\"url(#p221a26765d)\" d=\"M 43.755 287.58917 \nL 490.155 287.58917 \n\" style=\"fill:none;stroke:#ffffff;stroke-linecap:round;stroke-width:0.8;\"/>\n     </g>\n     <g id=\"text_21\">\n      <!-- 0.62 -->\n      <g style=\"fill:#262626;\" transform=\"translate(18.9425 290.628545)scale(0.08 -0.08)\">\n       <use xlink:href=\"#DejaVuSans-48\"/>\n       <use x=\"63.623047\" xlink:href=\"#DejaVuSans-46\"/>\n       <use x=\"95.410156\" xlink:href=\"#DejaVuSans-54\"/>\n       <use x=\"159.033203\" xlink:href=\"#DejaVuSans-50\"/>\n      </g>\n     </g>\n    </g>\n    <g id=\"ytick_3\">\n     <g id=\"line2d_21\">\n      <path clip-path=\"url(#p221a26765d)\" d=\"M 43.755 247.08523 \nL 490.155 247.08523 \n\" style=\"fill:none;stroke:#ffffff;stroke-linecap:round;stroke-width:0.8;\"/>\n     </g>\n     <g id=\"text_22\">\n      <!-- 0.64 -->\n      <g style=\"fill:#262626;\" transform=\"translate(18.9425 250.124605)scale(0.08 -0.08)\">\n       <use xlink:href=\"#DejaVuSans-48\"/>\n       <use x=\"63.623047\" xlink:href=\"#DejaVuSans-46\"/>\n       <use x=\"95.410156\" xlink:href=\"#DejaVuSans-54\"/>\n       <use x=\"159.033203\" xlink:href=\"#DejaVuSans-52\"/>\n      </g>\n     </g>\n    </g>\n    <g id=\"ytick_4\">\n     <g id=\"line2d_22\">\n      <path clip-path=\"url(#p221a26765d)\" d=\"M 43.755 206.581291 \nL 490.155 206.581291 \n\" style=\"fill:none;stroke:#ffffff;stroke-linecap:round;stroke-width:0.8;\"/>\n     </g>\n     <g id=\"text_23\">\n      <!-- 0.66 -->\n      <g style=\"fill:#262626;\" transform=\"translate(18.9425 209.620666)scale(0.08 -0.08)\">\n       <use xlink:href=\"#DejaVuSans-48\"/>\n       <use x=\"63.623047\" xlink:href=\"#DejaVuSans-46\"/>\n       <use x=\"95.410156\" xlink:href=\"#DejaVuSans-54\"/>\n       <use x=\"159.033203\" xlink:href=\"#DejaVuSans-54\"/>\n      </g>\n     </g>\n    </g>\n    <g id=\"ytick_5\">\n     <g id=\"line2d_23\">\n      <path clip-path=\"url(#p221a26765d)\" d=\"M 43.755 166.077351 \nL 490.155 166.077351 \n\" style=\"fill:none;stroke:#ffffff;stroke-linecap:round;stroke-width:0.8;\"/>\n     </g>\n     <g id=\"text_24\">\n      <!-- 0.68 -->\n      <g style=\"fill:#262626;\" transform=\"translate(18.9425 169.116726)scale(0.08 -0.08)\">\n       <use xlink:href=\"#DejaVuSans-48\"/>\n       <use x=\"63.623047\" xlink:href=\"#DejaVuSans-46\"/>\n       <use x=\"95.410156\" xlink:href=\"#DejaVuSans-54\"/>\n       <use x=\"159.033203\" xlink:href=\"#DejaVuSans-56\"/>\n      </g>\n     </g>\n    </g>\n    <g id=\"ytick_6\">\n     <g id=\"line2d_24\">\n      <path clip-path=\"url(#p221a26765d)\" d=\"M 43.755 125.573411 \nL 490.155 125.573411 \n\" style=\"fill:none;stroke:#ffffff;stroke-linecap:round;stroke-width:0.8;\"/>\n     </g>\n     <g id=\"text_25\">\n      <!-- 0.70 -->\n      <g style=\"fill:#262626;\" transform=\"translate(18.9425 128.612786)scale(0.08 -0.08)\">\n       <use xlink:href=\"#DejaVuSans-48\"/>\n       <use x=\"63.623047\" xlink:href=\"#DejaVuSans-46\"/>\n       <use x=\"95.410156\" xlink:href=\"#DejaVuSans-55\"/>\n       <use x=\"159.033203\" xlink:href=\"#DejaVuSans-48\"/>\n      </g>\n     </g>\n    </g>\n    <g id=\"ytick_7\">\n     <g id=\"line2d_25\">\n      <path clip-path=\"url(#p221a26765d)\" d=\"M 43.755 85.069471 \nL 490.155 85.069471 \n\" style=\"fill:none;stroke:#ffffff;stroke-linecap:round;stroke-width:0.8;\"/>\n     </g>\n     <g id=\"text_26\">\n      <!-- 0.72 -->\n      <g style=\"fill:#262626;\" transform=\"translate(18.9425 88.108846)scale(0.08 -0.08)\">\n       <use xlink:href=\"#DejaVuSans-48\"/>\n       <use x=\"63.623047\" xlink:href=\"#DejaVuSans-46\"/>\n       <use x=\"95.410156\" xlink:href=\"#DejaVuSans-55\"/>\n       <use x=\"159.033203\" xlink:href=\"#DejaVuSans-50\"/>\n      </g>\n     </g>\n    </g>\n    <g id=\"ytick_8\">\n     <g id=\"line2d_26\">\n      <path clip-path=\"url(#p221a26765d)\" d=\"M 43.755 44.565532 \nL 490.155 44.565532 \n\" style=\"fill:none;stroke:#ffffff;stroke-linecap:round;stroke-width:0.8;\"/>\n     </g>\n     <g id=\"text_27\">\n      <!-- 0.74 -->\n      <g style=\"fill:#262626;\" transform=\"translate(18.9425 47.604907)scale(0.08 -0.08)\">\n       <use xlink:href=\"#DejaVuSans-48\"/>\n       <use x=\"63.623047\" xlink:href=\"#DejaVuSans-46\"/>\n       <use x=\"95.410156\" xlink:href=\"#DejaVuSans-55\"/>\n       <use x=\"159.033203\" xlink:href=\"#DejaVuSans-52\"/>\n      </g>\n     </g>\n    </g>\n    <g id=\"text_28\">\n     <!-- Coherence Score -->\n     <g style=\"fill:#262626;\" transform=\"translate(13.27875 218.559531)rotate(-90)scale(0.08 -0.08)\">\n      <defs>\n       <path d=\"M 64.40625 67.28125 \nL 64.40625 56.890625 \nQ 59.421875 61.53125 53.78125 63.8125 \nQ 48.140625 66.109375 41.796875 66.109375 \nQ 29.296875 66.109375 22.65625 58.46875 \nQ 16.015625 50.828125 16.015625 36.375 \nQ 16.015625 21.96875 22.65625 14.328125 \nQ 29.296875 6.6875 41.796875 6.6875 \nQ 48.140625 6.6875 53.78125 8.984375 \nQ 59.421875 11.28125 64.40625 15.921875 \nL 64.40625 5.609375 \nQ 59.234375 2.09375 53.4375 0.328125 \nQ 47.65625 -1.421875 41.21875 -1.421875 \nQ 24.65625 -1.421875 15.125 8.703125 \nQ 5.609375 18.84375 5.609375 36.375 \nQ 5.609375 53.953125 15.125 64.078125 \nQ 24.65625 74.21875 41.21875 74.21875 \nQ 47.75 74.21875 53.53125 72.484375 \nQ 59.328125 70.75 64.40625 67.28125 \nz\n\" id=\"DejaVuSans-67\"/>\n       <path d=\"M 54.890625 33.015625 \nL 54.890625 0 \nL 45.90625 0 \nL 45.90625 32.71875 \nQ 45.90625 40.484375 42.875 44.328125 \nQ 39.84375 48.1875 33.796875 48.1875 \nQ 26.515625 48.1875 22.3125 43.546875 \nQ 18.109375 38.921875 18.109375 30.90625 \nL 18.109375 0 \nL 9.078125 0 \nL 9.078125 75.984375 \nL 18.109375 75.984375 \nL 18.109375 46.1875 \nQ 21.34375 51.125 25.703125 53.5625 \nQ 30.078125 56 35.796875 56 \nQ 45.21875 56 50.046875 50.171875 \nQ 54.890625 44.34375 54.890625 33.015625 \nz\n\" id=\"DejaVuSans-104\"/>\n       <path d=\"M 56.203125 29.59375 \nL 56.203125 25.203125 \nL 14.890625 25.203125 \nQ 15.484375 15.921875 20.484375 11.0625 \nQ 25.484375 6.203125 34.421875 6.203125 \nQ 39.59375 6.203125 44.453125 7.46875 \nQ 49.3125 8.734375 54.109375 11.28125 \nL 54.109375 2.78125 \nQ 49.265625 0.734375 44.1875 -0.34375 \nQ 39.109375 -1.421875 33.890625 -1.421875 \nQ 20.796875 -1.421875 13.15625 6.1875 \nQ 5.515625 13.8125 5.515625 26.8125 \nQ 5.515625 40.234375 12.765625 48.109375 \nQ 20.015625 56 32.328125 56 \nQ 43.359375 56 49.78125 48.890625 \nQ 56.203125 41.796875 56.203125 29.59375 \nz\nM 47.21875 32.234375 \nQ 47.125 39.59375 43.09375 43.984375 \nQ 39.0625 48.390625 32.421875 48.390625 \nQ 24.90625 48.390625 20.390625 44.140625 \nQ 15.875 39.890625 15.1875 32.171875 \nz\n\" id=\"DejaVuSans-101\"/>\n       <path d=\"M 41.109375 46.296875 \nQ 39.59375 47.171875 37.8125 47.578125 \nQ 36.03125 48 33.890625 48 \nQ 26.265625 48 22.1875 43.046875 \nQ 18.109375 38.09375 18.109375 28.8125 \nL 18.109375 0 \nL 9.078125 0 \nL 9.078125 54.6875 \nL 18.109375 54.6875 \nL 18.109375 46.1875 \nQ 20.953125 51.171875 25.484375 53.578125 \nQ 30.03125 56 36.53125 56 \nQ 37.453125 56 38.578125 55.875 \nQ 39.703125 55.765625 41.0625 55.515625 \nz\n\" id=\"DejaVuSans-114\"/>\n       <path d=\"M 54.890625 33.015625 \nL 54.890625 0 \nL 45.90625 0 \nL 45.90625 32.71875 \nQ 45.90625 40.484375 42.875 44.328125 \nQ 39.84375 48.1875 33.796875 48.1875 \nQ 26.515625 48.1875 22.3125 43.546875 \nQ 18.109375 38.921875 18.109375 30.90625 \nL 18.109375 0 \nL 9.078125 0 \nL 9.078125 54.6875 \nL 18.109375 54.6875 \nL 18.109375 46.1875 \nQ 21.34375 51.125 25.703125 53.5625 \nQ 30.078125 56 35.796875 56 \nQ 45.21875 56 50.046875 50.171875 \nQ 54.890625 44.34375 54.890625 33.015625 \nz\n\" id=\"DejaVuSans-110\"/>\n       <path d=\"M 53.515625 70.515625 \nL 53.515625 60.890625 \nQ 47.90625 63.578125 42.921875 64.890625 \nQ 37.9375 66.21875 33.296875 66.21875 \nQ 25.25 66.21875 20.875 63.09375 \nQ 16.5 59.96875 16.5 54.203125 \nQ 16.5 49.359375 19.40625 46.890625 \nQ 22.3125 44.4375 30.421875 42.921875 \nL 36.375 41.703125 \nQ 47.40625 39.59375 52.65625 34.296875 \nQ 57.90625 29 57.90625 20.125 \nQ 57.90625 9.515625 50.796875 4.046875 \nQ 43.703125 -1.421875 29.984375 -1.421875 \nQ 24.8125 -1.421875 18.96875 -0.25 \nQ 13.140625 0.921875 6.890625 3.21875 \nL 6.890625 13.375 \nQ 12.890625 10.015625 18.65625 8.296875 \nQ 24.421875 6.59375 29.984375 6.59375 \nQ 38.421875 6.59375 43.015625 9.90625 \nQ 47.609375 13.234375 47.609375 19.390625 \nQ 47.609375 24.75 44.3125 27.78125 \nQ 41.015625 30.8125 33.5 32.328125 \nL 27.484375 33.5 \nQ 16.453125 35.6875 11.515625 40.375 \nQ 6.59375 45.0625 6.59375 53.421875 \nQ 6.59375 63.09375 13.40625 68.65625 \nQ 20.21875 74.21875 32.171875 74.21875 \nQ 37.3125 74.21875 42.625 73.28125 \nQ 47.953125 72.359375 53.515625 70.515625 \nz\n\" id=\"DejaVuSans-83\"/>\n      </defs>\n      <use xlink:href=\"#DejaVuSans-67\"/>\n      <use x=\"69.824219\" xlink:href=\"#DejaVuSans-111\"/>\n      <use x=\"131.005859\" xlink:href=\"#DejaVuSans-104\"/>\n      <use x=\"194.384766\" xlink:href=\"#DejaVuSans-101\"/>\n      <use x=\"255.908203\" xlink:href=\"#DejaVuSans-114\"/>\n      <use x=\"294.771484\" xlink:href=\"#DejaVuSans-101\"/>\n      <use x=\"356.294922\" xlink:href=\"#DejaVuSans-110\"/>\n      <use x=\"419.673828\" xlink:href=\"#DejaVuSans-99\"/>\n      <use x=\"474.654297\" xlink:href=\"#DejaVuSans-101\"/>\n      <use x=\"536.177734\" xlink:href=\"#DejaVuSans-32\"/>\n      <use x=\"567.964844\" xlink:href=\"#DejaVuSans-83\"/>\n      <use x=\"631.441406\" xlink:href=\"#DejaVuSans-99\"/>\n      <use x=\"686.421875\" xlink:href=\"#DejaVuSans-111\"/>\n      <use x=\"747.603516\" xlink:href=\"#DejaVuSans-114\"/>\n      <use x=\"786.466797\" xlink:href=\"#DejaVuSans-101\"/>\n     </g>\n    </g>\n   </g>\n   <g id=\"line2d_27\">\n    <path clip-path=\"url(#p221a26765d)\" d=\"M 64.045909 238.316127 \nL 87.917567 77.272463 \nL 111.789225 36.383736 \nL 135.660882 304.378053 \nL 159.53254 152.893318 \nL 183.404198 263.550082 \nL 207.275856 143.253381 \nL 231.147513 124.74308 \nL 255.019171 332.892827 \nL 278.890829 331.535945 \nL 302.762487 323.698432 \nL 326.634144 229.91156 \nL 350.505802 240.969135 \nL 374.37746 297.978431 \nL 398.249118 179.119619 \nL 422.120775 251.986207 \nL 445.992433 242.04249 \nL 469.864091 278.374524 \n\" style=\"fill:none;stroke:#ae0aeb;stroke-linecap:round;stroke-width:3;\"/>\n   </g>\n   <g id=\"patch_3\">\n    <path d=\"M 43.755 347.718281 \nL 43.755 21.558281 \n\" style=\"fill:none;stroke:#ffffff;stroke-linecap:square;stroke-linejoin:miter;stroke-width:0.8;\"/>\n   </g>\n   <g id=\"patch_4\">\n    <path d=\"M 490.155 347.718281 \nL 490.155 21.558281 \n\" style=\"fill:none;stroke:#ffffff;stroke-linecap:square;stroke-linejoin:miter;stroke-width:0.8;\"/>\n   </g>\n   <g id=\"patch_5\">\n    <path d=\"M 43.755 347.718281 \nL 490.155 347.718281 \n\" style=\"fill:none;stroke:#ffffff;stroke-linecap:square;stroke-linejoin:miter;stroke-width:0.8;\"/>\n   </g>\n   <g id=\"patch_6\">\n    <path d=\"M 43.755 21.558281 \nL 490.155 21.558281 \n\" style=\"fill:none;stroke:#ffffff;stroke-linecap:square;stroke-linejoin:miter;stroke-width:0.8;\"/>\n   </g>\n   <g id=\"text_29\">\n    <!-- Coherence Score by Topic Number - Best Number of Topics: 5 -->\n    <g style=\"fill:#262626;\" transform=\"translate(98.296641 15.558281)scale(0.11 -0.11)\">\n     <defs>\n      <path d=\"M 48.6875 27.296875 \nQ 48.6875 37.203125 44.609375 42.84375 \nQ 40.53125 48.484375 33.40625 48.484375 \nQ 26.265625 48.484375 22.1875 42.84375 \nQ 18.109375 37.203125 18.109375 27.296875 \nQ 18.109375 17.390625 22.1875 11.75 \nQ 26.265625 6.109375 33.40625 6.109375 \nQ 40.53125 6.109375 44.609375 11.75 \nQ 48.6875 17.390625 48.6875 27.296875 \nz\nM 18.109375 46.390625 \nQ 20.953125 51.265625 25.265625 53.625 \nQ 29.59375 56 35.59375 56 \nQ 45.5625 56 51.78125 48.09375 \nQ 58.015625 40.1875 58.015625 27.296875 \nQ 58.015625 14.40625 51.78125 6.484375 \nQ 45.5625 -1.421875 35.59375 -1.421875 \nQ 29.59375 -1.421875 25.265625 0.953125 \nQ 20.953125 3.328125 18.109375 8.203125 \nL 18.109375 0 \nL 9.078125 0 \nL 9.078125 75.984375 \nL 18.109375 75.984375 \nz\n\" id=\"DejaVuSans-98\"/>\n      <path d=\"M 32.171875 -5.078125 \nQ 28.375 -14.84375 24.75 -17.8125 \nQ 21.140625 -20.796875 15.09375 -20.796875 \nL 7.90625 -20.796875 \nL 7.90625 -13.28125 \nL 13.1875 -13.28125 \nQ 16.890625 -13.28125 18.9375 -11.515625 \nQ 21 -9.765625 23.484375 -3.21875 \nL 25.09375 0.875 \nL 2.984375 54.6875 \nL 12.5 54.6875 \nL 29.59375 11.921875 \nL 46.6875 54.6875 \nL 56.203125 54.6875 \nz\n\" id=\"DejaVuSans-121\"/>\n      <path d=\"M 4.890625 31.390625 \nL 31.203125 31.390625 \nL 31.203125 23.390625 \nL 4.890625 23.390625 \nz\n\" id=\"DejaVuSans-45\"/>\n      <path d=\"M 19.671875 34.8125 \nL 19.671875 8.109375 \nL 35.5 8.109375 \nQ 43.453125 8.109375 47.28125 11.40625 \nQ 51.125 14.703125 51.125 21.484375 \nQ 51.125 28.328125 47.28125 31.5625 \nQ 43.453125 34.8125 35.5 34.8125 \nz\nM 19.671875 64.796875 \nL 19.671875 42.828125 \nL 34.28125 42.828125 \nQ 41.5 42.828125 45.03125 45.53125 \nQ 48.578125 48.25 48.578125 53.8125 \nQ 48.578125 59.328125 45.03125 62.0625 \nQ 41.5 64.796875 34.28125 64.796875 \nz\nM 9.8125 72.90625 \nL 35.015625 72.90625 \nQ 46.296875 72.90625 52.390625 68.21875 \nQ 58.5 63.53125 58.5 54.890625 \nQ 58.5 48.1875 55.375 44.234375 \nQ 52.25 40.28125 46.1875 39.3125 \nQ 53.46875 37.75 57.5 32.78125 \nQ 61.53125 27.828125 61.53125 20.40625 \nQ 61.53125 10.640625 54.890625 5.3125 \nQ 48.25 0 35.984375 0 \nL 9.8125 0 \nz\n\" id=\"DejaVuSans-66\"/>\n      <path d=\"M 44.28125 53.078125 \nL 44.28125 44.578125 \nQ 40.484375 46.53125 36.375 47.5 \nQ 32.28125 48.484375 27.875 48.484375 \nQ 21.1875 48.484375 17.84375 46.4375 \nQ 14.5 44.390625 14.5 40.28125 \nQ 14.5 37.15625 16.890625 35.375 \nQ 19.28125 33.59375 26.515625 31.984375 \nL 29.59375 31.296875 \nQ 39.15625 29.25 43.1875 25.515625 \nQ 47.21875 21.78125 47.21875 15.09375 \nQ 47.21875 7.46875 41.1875 3.015625 \nQ 35.15625 -1.421875 24.609375 -1.421875 \nQ 20.21875 -1.421875 15.453125 -0.5625 \nQ 10.6875 0.296875 5.421875 2 \nL 5.421875 11.28125 \nQ 10.40625 8.6875 15.234375 7.390625 \nQ 20.0625 6.109375 24.8125 6.109375 \nQ 31.15625 6.109375 34.5625 8.28125 \nQ 37.984375 10.453125 37.984375 14.40625 \nQ 37.984375 18.0625 35.515625 20.015625 \nQ 33.0625 21.96875 24.703125 23.78125 \nL 21.578125 24.515625 \nQ 13.234375 26.265625 9.515625 29.90625 \nQ 5.8125 33.546875 5.8125 39.890625 \nQ 5.8125 47.609375 11.28125 51.796875 \nQ 16.75 56 26.8125 56 \nQ 31.78125 56 36.171875 55.265625 \nQ 40.578125 54.546875 44.28125 53.078125 \nz\n\" id=\"DejaVuSans-115\"/>\n      <path d=\"M 18.3125 70.21875 \nL 18.3125 54.6875 \nL 36.8125 54.6875 \nL 36.8125 47.703125 \nL 18.3125 47.703125 \nL 18.3125 18.015625 \nQ 18.3125 11.328125 20.140625 9.421875 \nQ 21.96875 7.515625 27.59375 7.515625 \nL 36.8125 7.515625 \nL 36.8125 0 \nL 27.59375 0 \nQ 17.1875 0 13.234375 3.875 \nQ 9.28125 7.765625 9.28125 18.015625 \nL 9.28125 47.703125 \nL 2.6875 47.703125 \nL 2.6875 54.6875 \nL 9.28125 54.6875 \nL 9.28125 70.21875 \nz\n\" id=\"DejaVuSans-116\"/>\n      <path d=\"M 37.109375 75.984375 \nL 37.109375 68.5 \nL 28.515625 68.5 \nQ 23.6875 68.5 21.796875 66.546875 \nQ 19.921875 64.59375 19.921875 59.515625 \nL 19.921875 54.6875 \nL 34.71875 54.6875 \nL 34.71875 47.703125 \nL 19.921875 47.703125 \nL 19.921875 0 \nL 10.890625 0 \nL 10.890625 47.703125 \nL 2.296875 47.703125 \nL 2.296875 54.6875 \nL 10.890625 54.6875 \nL 10.890625 58.5 \nQ 10.890625 67.625 15.140625 71.796875 \nQ 19.390625 75.984375 28.609375 75.984375 \nz\n\" id=\"DejaVuSans-102\"/>\n      <path d=\"M 11.71875 12.40625 \nL 22.015625 12.40625 \nL 22.015625 0 \nL 11.71875 0 \nz\nM 11.71875 51.703125 \nL 22.015625 51.703125 \nL 22.015625 39.3125 \nL 11.71875 39.3125 \nz\n\" id=\"DejaVuSans-58\"/>\n     </defs>\n     <use xlink:href=\"#DejaVuSans-67\"/>\n     <use x=\"69.824219\" xlink:href=\"#DejaVuSans-111\"/>\n     <use x=\"131.005859\" xlink:href=\"#DejaVuSans-104\"/>\n     <use x=\"194.384766\" xlink:href=\"#DejaVuSans-101\"/>\n     <use x=\"255.908203\" xlink:href=\"#DejaVuSans-114\"/>\n     <use x=\"294.771484\" xlink:href=\"#DejaVuSans-101\"/>\n     <use x=\"356.294922\" xlink:href=\"#DejaVuSans-110\"/>\n     <use x=\"419.673828\" xlink:href=\"#DejaVuSans-99\"/>\n     <use x=\"474.654297\" xlink:href=\"#DejaVuSans-101\"/>\n     <use x=\"536.177734\" xlink:href=\"#DejaVuSans-32\"/>\n     <use x=\"567.964844\" xlink:href=\"#DejaVuSans-83\"/>\n     <use x=\"631.441406\" xlink:href=\"#DejaVuSans-99\"/>\n     <use x=\"686.421875\" xlink:href=\"#DejaVuSans-111\"/>\n     <use x=\"747.603516\" xlink:href=\"#DejaVuSans-114\"/>\n     <use x=\"786.466797\" xlink:href=\"#DejaVuSans-101\"/>\n     <use x=\"847.990234\" xlink:href=\"#DejaVuSans-32\"/>\n     <use x=\"879.777344\" xlink:href=\"#DejaVuSans-98\"/>\n     <use x=\"943.253906\" xlink:href=\"#DejaVuSans-121\"/>\n     <use x=\"1002.433594\" xlink:href=\"#DejaVuSans-32\"/>\n     <use x=\"1034.220703\" xlink:href=\"#DejaVuSans-84\"/>\n     <use x=\"1078.304688\" xlink:href=\"#DejaVuSans-111\"/>\n     <use x=\"1139.486328\" xlink:href=\"#DejaVuSans-112\"/>\n     <use x=\"1202.962891\" xlink:href=\"#DejaVuSans-105\"/>\n     <use x=\"1230.746094\" xlink:href=\"#DejaVuSans-99\"/>\n     <use x=\"1285.726562\" xlink:href=\"#DejaVuSans-32\"/>\n     <use x=\"1317.513672\" xlink:href=\"#DejaVuSans-78\"/>\n     <use x=\"1392.318359\" xlink:href=\"#DejaVuSans-117\"/>\n     <use x=\"1455.697266\" xlink:href=\"#DejaVuSans-109\"/>\n     <use x=\"1553.109375\" xlink:href=\"#DejaVuSans-98\"/>\n     <use x=\"1616.585938\" xlink:href=\"#DejaVuSans-101\"/>\n     <use x=\"1678.109375\" xlink:href=\"#DejaVuSans-114\"/>\n     <use x=\"1719.222656\" xlink:href=\"#DejaVuSans-32\"/>\n     <use x=\"1751.009766\" xlink:href=\"#DejaVuSans-45\"/>\n     <use x=\"1787.09375\" xlink:href=\"#DejaVuSans-32\"/>\n     <use x=\"1818.880859\" xlink:href=\"#DejaVuSans-66\"/>\n     <use x=\"1887.484375\" xlink:href=\"#DejaVuSans-101\"/>\n     <use x=\"1949.007812\" xlink:href=\"#DejaVuSans-115\"/>\n     <use x=\"2001.107422\" xlink:href=\"#DejaVuSans-116\"/>\n     <use x=\"2040.316406\" xlink:href=\"#DejaVuSans-32\"/>\n     <use x=\"2072.103516\" xlink:href=\"#DejaVuSans-78\"/>\n     <use x=\"2146.908203\" xlink:href=\"#DejaVuSans-117\"/>\n     <use x=\"2210.287109\" xlink:href=\"#DejaVuSans-109\"/>\n     <use x=\"2307.699219\" xlink:href=\"#DejaVuSans-98\"/>\n     <use x=\"2371.175781\" xlink:href=\"#DejaVuSans-101\"/>\n     <use x=\"2432.699219\" xlink:href=\"#DejaVuSans-114\"/>\n     <use x=\"2473.8125\" xlink:href=\"#DejaVuSans-32\"/>\n     <use x=\"2505.599609\" xlink:href=\"#DejaVuSans-111\"/>\n     <use x=\"2566.78125\" xlink:href=\"#DejaVuSans-102\"/>\n     <use x=\"2601.986328\" xlink:href=\"#DejaVuSans-32\"/>\n     <use x=\"2633.773438\" xlink:href=\"#DejaVuSans-84\"/>\n     <use x=\"2677.857422\" xlink:href=\"#DejaVuSans-111\"/>\n     <use x=\"2739.039062\" xlink:href=\"#DejaVuSans-112\"/>\n     <use x=\"2802.515625\" xlink:href=\"#DejaVuSans-105\"/>\n     <use x=\"2830.298828\" xlink:href=\"#DejaVuSans-99\"/>\n     <use x=\"2885.279297\" xlink:href=\"#DejaVuSans-115\"/>\n     <use x=\"2937.378906\" xlink:href=\"#DejaVuSans-58\"/>\n     <use x=\"2971.070312\" xlink:href=\"#DejaVuSans-32\"/>\n     <use x=\"3002.857422\" xlink:href=\"#DejaVuSans-53\"/>\n    </g>\n   </g>\n  </g>\n </g>\n <defs>\n  <clipPath id=\"p221a26765d\">\n   <rect height=\"326.16\" width=\"446.4\" x=\"43.755\" y=\"21.558281\"/>\n  </clipPath>\n </defs>\n</svg>\n"
          },
          "metadata": {
            "needs_background": "light"
          }
        }
      ]
    }
  ]
}